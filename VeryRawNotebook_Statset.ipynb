{
  "nbformat": 4,
  "nbformat_minor": 0,
  "metadata": {
    "colab": {
      "provenance": [],
      "collapsed_sections": [
        "JA9HccEJXOIS",
        "gTB2EZdFeKKi",
        "lvvuYb7ecZS2",
        "W7ZWm5OTCTUR",
        "Pd2n2MGdZTIR"
      ],
      "toc_visible": true
    },
    "kernelspec": {
      "name": "python3",
      "display_name": "Python 3"
    },
    "language_info": {
      "name": "python"
    }
  },
  "cells": [
    {
      "cell_type": "markdown",
      "source": [
        "# <h1> Importing Library and Dataset </h1> #"
      ],
      "metadata": {
        "id": "U6Baz_nmVnfa"
      }
    },
    {
      "cell_type": "code",
      "source": [
        "!pip install optuna\n",
        "!pip install lazypredict\n",
        "!pip install catboost"
      ],
      "metadata": {
        "colab": {
          "base_uri": "https://localhost:8080/"
        },
        "id": "zmFkuQGT_a78",
        "outputId": "3339b32c-52df-4580-c2ca-d659dbcd5883"
      },
      "execution_count": null,
      "outputs": [
        {
          "output_type": "stream",
          "name": "stdout",
          "text": [
            "Requirement already satisfied: optuna in /usr/local/lib/python3.10/dist-packages (3.4.0)\n",
            "Requirement already satisfied: alembic>=1.5.0 in /usr/local/lib/python3.10/dist-packages (from optuna) (1.12.1)\n",
            "Requirement already satisfied: colorlog in /usr/local/lib/python3.10/dist-packages (from optuna) (6.7.0)\n",
            "Requirement already satisfied: numpy in /usr/local/lib/python3.10/dist-packages (from optuna) (1.23.5)\n",
            "Requirement already satisfied: packaging>=20.0 in /usr/local/lib/python3.10/dist-packages (from optuna) (23.2)\n",
            "Requirement already satisfied: sqlalchemy>=1.3.0 in /usr/local/lib/python3.10/dist-packages (from optuna) (2.0.23)\n",
            "Requirement already satisfied: tqdm in /usr/local/lib/python3.10/dist-packages (from optuna) (4.66.1)\n",
            "Requirement already satisfied: PyYAML in /usr/local/lib/python3.10/dist-packages (from optuna) (6.0.1)\n",
            "Requirement already satisfied: Mako in /usr/local/lib/python3.10/dist-packages (from alembic>=1.5.0->optuna) (1.3.0)\n",
            "Requirement already satisfied: typing-extensions>=4 in /usr/local/lib/python3.10/dist-packages (from alembic>=1.5.0->optuna) (4.5.0)\n",
            "Requirement already satisfied: greenlet!=0.4.17 in /usr/local/lib/python3.10/dist-packages (from sqlalchemy>=1.3.0->optuna) (3.0.1)\n",
            "Requirement already satisfied: MarkupSafe>=0.9.2 in /usr/local/lib/python3.10/dist-packages (from Mako->alembic>=1.5.0->optuna) (2.1.3)\n",
            "Requirement already satisfied: lazypredict in /usr/local/lib/python3.10/dist-packages (0.2.12)\n",
            "Requirement already satisfied: click in /usr/local/lib/python3.10/dist-packages (from lazypredict) (8.1.7)\n",
            "Requirement already satisfied: scikit-learn in /usr/local/lib/python3.10/dist-packages (from lazypredict) (1.2.2)\n",
            "Requirement already satisfied: pandas in /usr/local/lib/python3.10/dist-packages (from lazypredict) (1.5.3)\n",
            "Requirement already satisfied: tqdm in /usr/local/lib/python3.10/dist-packages (from lazypredict) (4.66.1)\n",
            "Requirement already satisfied: joblib in /usr/local/lib/python3.10/dist-packages (from lazypredict) (1.3.2)\n",
            "Requirement already satisfied: lightgbm in /usr/local/lib/python3.10/dist-packages (from lazypredict) (4.1.0)\n",
            "Requirement already satisfied: xgboost in /usr/local/lib/python3.10/dist-packages (from lazypredict) (2.0.2)\n",
            "Requirement already satisfied: numpy in /usr/local/lib/python3.10/dist-packages (from lightgbm->lazypredict) (1.23.5)\n",
            "Requirement already satisfied: scipy in /usr/local/lib/python3.10/dist-packages (from lightgbm->lazypredict) (1.11.3)\n",
            "Requirement already satisfied: python-dateutil>=2.8.1 in /usr/local/lib/python3.10/dist-packages (from pandas->lazypredict) (2.8.2)\n",
            "Requirement already satisfied: pytz>=2020.1 in /usr/local/lib/python3.10/dist-packages (from pandas->lazypredict) (2023.3.post1)\n",
            "Requirement already satisfied: threadpoolctl>=2.0.0 in /usr/local/lib/python3.10/dist-packages (from scikit-learn->lazypredict) (3.2.0)\n",
            "Requirement already satisfied: six>=1.5 in /usr/local/lib/python3.10/dist-packages (from python-dateutil>=2.8.1->pandas->lazypredict) (1.16.0)\n",
            "Requirement already satisfied: catboost in /usr/local/lib/python3.10/dist-packages (1.2.2)\n",
            "Requirement already satisfied: graphviz in /usr/local/lib/python3.10/dist-packages (from catboost) (0.20.1)\n",
            "Requirement already satisfied: matplotlib in /usr/local/lib/python3.10/dist-packages (from catboost) (3.7.1)\n",
            "Requirement already satisfied: numpy>=1.16.0 in /usr/local/lib/python3.10/dist-packages (from catboost) (1.23.5)\n",
            "Requirement already satisfied: pandas>=0.24 in /usr/local/lib/python3.10/dist-packages (from catboost) (1.5.3)\n",
            "Requirement already satisfied: scipy in /usr/local/lib/python3.10/dist-packages (from catboost) (1.11.3)\n",
            "Requirement already satisfied: plotly in /usr/local/lib/python3.10/dist-packages (from catboost) (5.15.0)\n",
            "Requirement already satisfied: six in /usr/local/lib/python3.10/dist-packages (from catboost) (1.16.0)\n",
            "Requirement already satisfied: python-dateutil>=2.8.1 in /usr/local/lib/python3.10/dist-packages (from pandas>=0.24->catboost) (2.8.2)\n",
            "Requirement already satisfied: pytz>=2020.1 in /usr/local/lib/python3.10/dist-packages (from pandas>=0.24->catboost) (2023.3.post1)\n",
            "Requirement already satisfied: contourpy>=1.0.1 in /usr/local/lib/python3.10/dist-packages (from matplotlib->catboost) (1.2.0)\n",
            "Requirement already satisfied: cycler>=0.10 in /usr/local/lib/python3.10/dist-packages (from matplotlib->catboost) (0.12.1)\n",
            "Requirement already satisfied: fonttools>=4.22.0 in /usr/local/lib/python3.10/dist-packages (from matplotlib->catboost) (4.44.3)\n",
            "Requirement already satisfied: kiwisolver>=1.0.1 in /usr/local/lib/python3.10/dist-packages (from matplotlib->catboost) (1.4.5)\n",
            "Requirement already satisfied: packaging>=20.0 in /usr/local/lib/python3.10/dist-packages (from matplotlib->catboost) (23.2)\n",
            "Requirement already satisfied: pillow>=6.2.0 in /usr/local/lib/python3.10/dist-packages (from matplotlib->catboost) (9.4.0)\n",
            "Requirement already satisfied: pyparsing>=2.3.1 in /usr/local/lib/python3.10/dist-packages (from matplotlib->catboost) (3.1.1)\n",
            "Requirement already satisfied: tenacity>=6.2.0 in /usr/local/lib/python3.10/dist-packages (from plotly->catboost) (8.2.3)\n"
          ]
        }
      ]
    },
    {
      "cell_type": "code",
      "execution_count": null,
      "metadata": {
        "colab": {
          "base_uri": "https://localhost:8080/"
        },
        "id": "BbBb4pdNSUMa",
        "outputId": "56252939-4abe-42c8-e42b-465a923d146d"
      },
      "outputs": [
        {
          "output_type": "stream",
          "name": "stdout",
          "text": [
            "Done\n"
          ]
        }
      ],
      "source": [
        "import numpy as np\n",
        "import pandas as pd\n",
        "import random\n",
        "import matplotlib.pyplot as plt\n",
        "import seaborn as sns\n",
        "\n",
        "from numpy.random import RandomState\n",
        "from sklearn.model_selection import train_test_split\n",
        "from sklearn import preprocessing\n",
        "from sklearn import linear_model, cluster, datasets\n",
        "from sklearn.linear_model import Lasso, OrthogonalMatchingPursuit, Ridge\n",
        "from sklearn.model_selection import GridSearchCV\n",
        "from sklearn.ensemble import RandomForestRegressor, ExtraTreesRegressor\n",
        "from sklearn.gaussian_process import GaussianProcessRegressor\n",
        "from sklearn.neural_network import MLPRegressor\n",
        "from sklearn.preprocessing import RobustScaler\n",
        "from sklearn.compose import ColumnTransformer, make_column_selector\n",
        "from sklearn.pipeline import make_pipeline\n",
        "from sklearn.preprocessing import FunctionTransformer\n",
        "from sklearn.base import TransformerMixin, BaseEstimator\n",
        "\n",
        "import lazypredict\n",
        "from lazypredict.Supervised import LazyRegressor\n",
        "from sklearn.linear_model import LinearRegression\n",
        "from xgboost.sklearn import XGBRegressor\n",
        "from lightgbm import LGBMRegressor\n",
        "from sklearn import svm, tree\n",
        "from sklearn.neighbors import KNeighborsRegressor\n",
        "from scipy.optimize import minimize\n",
        "from sklearn.metrics import mean_squared_error as mse\n",
        "from sklearn.model_selection import cross_val_score, cross_val_predict, cross_validate, KFold\n",
        "from sklearn import metrics\n",
        "from sklearn.ensemble import HistGradientBoostingRegressor\n",
        "from sklearn.svm import SVR\n",
        "from mlxtend.regressor import StackingCVRegressor\n",
        "from catboost import CatBoostRegressor, Pool, cv\n",
        "\n",
        "from hyperopt import STATUS_OK\n",
        "from hyperopt import hp\n",
        "from hyperopt import tpe\n",
        "from hyperopt import Trials\n",
        "from hyperopt import fmin, space_eval\n",
        "\n",
        "import optuna\n",
        "from optuna.samplers import TPESampler\n",
        "\n",
        "import time\n",
        "import warnings\n",
        "import os\n",
        "import xgboost\n",
        "import pickle\n",
        "import requests\n",
        "\n",
        "pd.set_option('display.max_columns', 500)\n",
        "pd.set_option('display.float_format', '{:.8f}'.format)\n",
        "\n",
        "print(\"Done\")"
      ]
    },
    {
      "cell_type": "code",
      "source": [
        "df_train = pd.read_csv(\"https://github.com/JeftaAdriel/DataComp-PekanRistek23/raw/main/Dataset/train.csv\")\n",
        "df_test = pd.read_csv(\"https://github.com/JeftaAdriel/DataComp-PekanRistek23/raw/main/Dataset/test.csv\")\n",
        "print(\"Done\")"
      ],
      "metadata": {
        "colab": {
          "base_uri": "https://localhost:8080/"
        },
        "id": "5X3a20mYVrpF",
        "outputId": "d1ff5c74-76f0-43eb-a4ad-7fc5387be9a1"
      },
      "execution_count": null,
      "outputs": [
        {
          "output_type": "stream",
          "name": "stdout",
          "text": [
            "Done\n"
          ]
        }
      ]
    },
    {
      "cell_type": "code",
      "source": [
        "df_train.info()"
      ],
      "metadata": {
        "colab": {
          "base_uri": "https://localhost:8080/"
        },
        "id": "cIbEJIl6WolM",
        "outputId": "6ba8206d-2781-4387-a69d-1d81cd125a9b"
      },
      "execution_count": null,
      "outputs": [
        {
          "output_type": "stream",
          "name": "stdout",
          "text": [
            "<class 'pandas.core.frame.DataFrame'>\n",
            "RangeIndex: 20355 entries, 0 to 20354\n",
            "Data columns (total 15 columns):\n",
            " #   Column         Non-Null Count  Dtype  \n",
            "---  ------         --------------  -----  \n",
            " 0   timestamp      20355 non-null  object \n",
            " 1   api_calls      20355 non-null  float64\n",
            " 2   clouds         20163 non-null  float64\n",
            " 3   distance_max   20355 non-null  float64\n",
            " 4   distance_mean  20355 non-null  float64\n",
            " 5   distance_min   20355 non-null  float64\n",
            " 6   humidity       20163 non-null  float64\n",
            " 7   price_mean     20355 non-null  float64\n",
            " 8   rain           20163 non-null  float64\n",
            " 9   surge_max      20355 non-null  float64\n",
            " 10  surge_mean     20355 non-null  float64\n",
            " 11  surge_min      20355 non-null  float64\n",
            " 12  temp           20163 non-null  float64\n",
            " 13  wind           20163 non-null  float64\n",
            " 14  type           20355 non-null  int64  \n",
            "dtypes: float64(13), int64(1), object(1)\n",
            "memory usage: 2.3+ MB\n"
          ]
        }
      ]
    },
    {
      "cell_type": "code",
      "source": [
        "df_test.info()"
      ],
      "metadata": {
        "colab": {
          "base_uri": "https://localhost:8080/"
        },
        "id": "yQF7XnI8Wxed",
        "outputId": "be530d8b-b37c-407c-feb1-425a5206983b"
      },
      "execution_count": null,
      "outputs": [
        {
          "output_type": "stream",
          "name": "stdout",
          "text": [
            "<class 'pandas.core.frame.DataFrame'>\n",
            "RangeIndex: 11040 entries, 0 to 11039\n",
            "Data columns (total 15 columns):\n",
            " #   Column         Non-Null Count  Dtype  \n",
            "---  ------         --------------  -----  \n",
            " 0   index          11040 non-null  int64  \n",
            " 1   timestamp      11040 non-null  object \n",
            " 2   api_calls      11040 non-null  float64\n",
            " 3   clouds         11040 non-null  float64\n",
            " 4   distance_max   11040 non-null  float64\n",
            " 5   distance_mean  11040 non-null  float64\n",
            " 6   distance_min   11040 non-null  float64\n",
            " 7   humidity       11040 non-null  float64\n",
            " 8   rain           11040 non-null  float64\n",
            " 9   surge_max      11040 non-null  float64\n",
            " 10  surge_mean     11040 non-null  float64\n",
            " 11  surge_min      11040 non-null  float64\n",
            " 12  temp           11040 non-null  float64\n",
            " 13  wind           11040 non-null  float64\n",
            " 14  type           11040 non-null  int64  \n",
            "dtypes: float64(12), int64(2), object(1)\n",
            "memory usage: 1.3+ MB\n"
          ]
        }
      ]
    },
    {
      "cell_type": "markdown",
      "source": [
        "# <h1> Part 1: Preprocessing"
      ],
      "metadata": {
        "id": "JA9HccEJXOIS"
      }
    },
    {
      "cell_type": "markdown",
      "source": [
        "## <h2> df_train </h2> ##"
      ],
      "metadata": {
        "id": "8DkLpmtGNwT_"
      }
    },
    {
      "cell_type": "code",
      "source": [
        "df_train.info()"
      ],
      "metadata": {
        "colab": {
          "base_uri": "https://localhost:8080/"
        },
        "id": "saCLAVP-XF63",
        "outputId": "f27c582a-113e-4120-cdf9-6752d8577e98"
      },
      "execution_count": null,
      "outputs": [
        {
          "output_type": "stream",
          "name": "stdout",
          "text": [
            "<class 'pandas.core.frame.DataFrame'>\n",
            "RangeIndex: 20355 entries, 0 to 20354\n",
            "Data columns (total 15 columns):\n",
            " #   Column         Non-Null Count  Dtype  \n",
            "---  ------         --------------  -----  \n",
            " 0   timestamp      20355 non-null  object \n",
            " 1   api_calls      20355 non-null  float64\n",
            " 2   clouds         20163 non-null  float64\n",
            " 3   distance_max   20355 non-null  float64\n",
            " 4   distance_mean  20355 non-null  float64\n",
            " 5   distance_min   20355 non-null  float64\n",
            " 6   humidity       20163 non-null  float64\n",
            " 7   price_mean     20355 non-null  float64\n",
            " 8   rain           20163 non-null  float64\n",
            " 9   surge_max      20355 non-null  float64\n",
            " 10  surge_mean     20355 non-null  float64\n",
            " 11  surge_min      20355 non-null  float64\n",
            " 12  temp           20163 non-null  float64\n",
            " 13  wind           20163 non-null  float64\n",
            " 14  type           20355 non-null  int64  \n",
            "dtypes: float64(13), int64(1), object(1)\n",
            "memory usage: 2.3+ MB\n"
          ]
        }
      ]
    },
    {
      "cell_type": "code",
      "source": [
        "df_train.head()"
      ],
      "metadata": {
        "colab": {
          "base_uri": "https://localhost:8080/"
        },
        "id": "e1XtBkjJZIoM",
        "outputId": "474a67ac-5103-4ae6-c91d-c857ab4c3266"
      },
      "execution_count": null,
      "outputs": [
        {
          "output_type": "execute_result",
          "data": {
            "text/plain": [
              "             timestamp   api_calls     clouds  distance_max  distance_mean  \\\n",
              "0  2018-11-26 06:00:00  9.00000000 0.99066667    3.03000000     1.72666667   \n",
              "1  2018-11-26 07:00:00 10.00000000 0.97000000    2.67000000     1.69000000   \n",
              "2  2018-11-26 08:00:00  1.00000000 0.98000000    1.38000000     1.38000000   \n",
              "3  2018-11-26 09:00:00 11.00000000 1.00000000    3.08000000     1.92090909   \n",
              "4  2018-11-26 10:00:00 12.00000000 0.99500000    3.01000000     2.12250000   \n",
              "\n",
              "   distance_min   humidity  price_mean       rain  surge_max  surge_mean  \\\n",
              "0    1.04000000 0.91333333 16.55555556 0.00000000 1.50000000  1.05555556   \n",
              "1    1.09000000 0.92000000 17.30000000 0.00000000 2.00000000  1.10000000   \n",
              "2    1.38000000 0.92333333 13.50000000 0.00000000 1.00000000  1.00000000   \n",
              "3    1.39000000 0.92750000 17.95454545 0.00000000 1.75000000  1.11363636   \n",
              "4    1.07000000 0.94000000 18.62500000 0.00000000 1.50000000  1.08333333   \n",
              "\n",
              "   surge_min        temp       wind  type  \n",
              "0 1.00000000 40.62733333 1.35066667     0  \n",
              "1 1.00000000 41.13750000 1.73500000     0  \n",
              "2 1.00000000 40.92000000 1.33000000     0  \n",
              "3 1.00000000 40.93750000 1.36500000     0  \n",
              "4 1.00000000 40.69500000 1.89500000     0  "
            ],
            "text/html": [
              "\n",
              "  <div id=\"df-6d5c5f21-28e3-445c-b330-10b8acae3680\" class=\"colab-df-container\">\n",
              "    <div>\n",
              "<style scoped>\n",
              "    .dataframe tbody tr th:only-of-type {\n",
              "        vertical-align: middle;\n",
              "    }\n",
              "\n",
              "    .dataframe tbody tr th {\n",
              "        vertical-align: top;\n",
              "    }\n",
              "\n",
              "    .dataframe thead th {\n",
              "        text-align: right;\n",
              "    }\n",
              "</style>\n",
              "<table border=\"1\" class=\"dataframe\">\n",
              "  <thead>\n",
              "    <tr style=\"text-align: right;\">\n",
              "      <th></th>\n",
              "      <th>timestamp</th>\n",
              "      <th>api_calls</th>\n",
              "      <th>clouds</th>\n",
              "      <th>distance_max</th>\n",
              "      <th>distance_mean</th>\n",
              "      <th>distance_min</th>\n",
              "      <th>humidity</th>\n",
              "      <th>price_mean</th>\n",
              "      <th>rain</th>\n",
              "      <th>surge_max</th>\n",
              "      <th>surge_mean</th>\n",
              "      <th>surge_min</th>\n",
              "      <th>temp</th>\n",
              "      <th>wind</th>\n",
              "      <th>type</th>\n",
              "    </tr>\n",
              "  </thead>\n",
              "  <tbody>\n",
              "    <tr>\n",
              "      <th>0</th>\n",
              "      <td>2018-11-26 06:00:00</td>\n",
              "      <td>9.00000000</td>\n",
              "      <td>0.99066667</td>\n",
              "      <td>3.03000000</td>\n",
              "      <td>1.72666667</td>\n",
              "      <td>1.04000000</td>\n",
              "      <td>0.91333333</td>\n",
              "      <td>16.55555556</td>\n",
              "      <td>0.00000000</td>\n",
              "      <td>1.50000000</td>\n",
              "      <td>1.05555556</td>\n",
              "      <td>1.00000000</td>\n",
              "      <td>40.62733333</td>\n",
              "      <td>1.35066667</td>\n",
              "      <td>0</td>\n",
              "    </tr>\n",
              "    <tr>\n",
              "      <th>1</th>\n",
              "      <td>2018-11-26 07:00:00</td>\n",
              "      <td>10.00000000</td>\n",
              "      <td>0.97000000</td>\n",
              "      <td>2.67000000</td>\n",
              "      <td>1.69000000</td>\n",
              "      <td>1.09000000</td>\n",
              "      <td>0.92000000</td>\n",
              "      <td>17.30000000</td>\n",
              "      <td>0.00000000</td>\n",
              "      <td>2.00000000</td>\n",
              "      <td>1.10000000</td>\n",
              "      <td>1.00000000</td>\n",
              "      <td>41.13750000</td>\n",
              "      <td>1.73500000</td>\n",
              "      <td>0</td>\n",
              "    </tr>\n",
              "    <tr>\n",
              "      <th>2</th>\n",
              "      <td>2018-11-26 08:00:00</td>\n",
              "      <td>1.00000000</td>\n",
              "      <td>0.98000000</td>\n",
              "      <td>1.38000000</td>\n",
              "      <td>1.38000000</td>\n",
              "      <td>1.38000000</td>\n",
              "      <td>0.92333333</td>\n",
              "      <td>13.50000000</td>\n",
              "      <td>0.00000000</td>\n",
              "      <td>1.00000000</td>\n",
              "      <td>1.00000000</td>\n",
              "      <td>1.00000000</td>\n",
              "      <td>40.92000000</td>\n",
              "      <td>1.33000000</td>\n",
              "      <td>0</td>\n",
              "    </tr>\n",
              "    <tr>\n",
              "      <th>3</th>\n",
              "      <td>2018-11-26 09:00:00</td>\n",
              "      <td>11.00000000</td>\n",
              "      <td>1.00000000</td>\n",
              "      <td>3.08000000</td>\n",
              "      <td>1.92090909</td>\n",
              "      <td>1.39000000</td>\n",
              "      <td>0.92750000</td>\n",
              "      <td>17.95454545</td>\n",
              "      <td>0.00000000</td>\n",
              "      <td>1.75000000</td>\n",
              "      <td>1.11363636</td>\n",
              "      <td>1.00000000</td>\n",
              "      <td>40.93750000</td>\n",
              "      <td>1.36500000</td>\n",
              "      <td>0</td>\n",
              "    </tr>\n",
              "    <tr>\n",
              "      <th>4</th>\n",
              "      <td>2018-11-26 10:00:00</td>\n",
              "      <td>12.00000000</td>\n",
              "      <td>0.99500000</td>\n",
              "      <td>3.01000000</td>\n",
              "      <td>2.12250000</td>\n",
              "      <td>1.07000000</td>\n",
              "      <td>0.94000000</td>\n",
              "      <td>18.62500000</td>\n",
              "      <td>0.00000000</td>\n",
              "      <td>1.50000000</td>\n",
              "      <td>1.08333333</td>\n",
              "      <td>1.00000000</td>\n",
              "      <td>40.69500000</td>\n",
              "      <td>1.89500000</td>\n",
              "      <td>0</td>\n",
              "    </tr>\n",
              "  </tbody>\n",
              "</table>\n",
              "</div>\n",
              "    <div class=\"colab-df-buttons\">\n",
              "\n",
              "  <div class=\"colab-df-container\">\n",
              "    <button class=\"colab-df-convert\" onclick=\"convertToInteractive('df-6d5c5f21-28e3-445c-b330-10b8acae3680')\"\n",
              "            title=\"Convert this dataframe to an interactive table.\"\n",
              "            style=\"display:none;\">\n",
              "\n",
              "  <svg xmlns=\"http://www.w3.org/2000/svg\" height=\"24px\" viewBox=\"0 -960 960 960\">\n",
              "    <path d=\"M120-120v-720h720v720H120Zm60-500h600v-160H180v160Zm220 220h160v-160H400v160Zm0 220h160v-160H400v160ZM180-400h160v-160H180v160Zm440 0h160v-160H620v160ZM180-180h160v-160H180v160Zm440 0h160v-160H620v160Z\"/>\n",
              "  </svg>\n",
              "    </button>\n",
              "\n",
              "  <style>\n",
              "    .colab-df-container {\n",
              "      display:flex;\n",
              "      gap: 12px;\n",
              "    }\n",
              "\n",
              "    .colab-df-convert {\n",
              "      background-color: #E8F0FE;\n",
              "      border: none;\n",
              "      border-radius: 50%;\n",
              "      cursor: pointer;\n",
              "      display: none;\n",
              "      fill: #1967D2;\n",
              "      height: 32px;\n",
              "      padding: 0 0 0 0;\n",
              "      width: 32px;\n",
              "    }\n",
              "\n",
              "    .colab-df-convert:hover {\n",
              "      background-color: #E2EBFA;\n",
              "      box-shadow: 0px 1px 2px rgba(60, 64, 67, 0.3), 0px 1px 3px 1px rgba(60, 64, 67, 0.15);\n",
              "      fill: #174EA6;\n",
              "    }\n",
              "\n",
              "    .colab-df-buttons div {\n",
              "      margin-bottom: 4px;\n",
              "    }\n",
              "\n",
              "    [theme=dark] .colab-df-convert {\n",
              "      background-color: #3B4455;\n",
              "      fill: #D2E3FC;\n",
              "    }\n",
              "\n",
              "    [theme=dark] .colab-df-convert:hover {\n",
              "      background-color: #434B5C;\n",
              "      box-shadow: 0px 1px 3px 1px rgba(0, 0, 0, 0.15);\n",
              "      filter: drop-shadow(0px 1px 2px rgba(0, 0, 0, 0.3));\n",
              "      fill: #FFFFFF;\n",
              "    }\n",
              "  </style>\n",
              "\n",
              "    <script>\n",
              "      const buttonEl =\n",
              "        document.querySelector('#df-6d5c5f21-28e3-445c-b330-10b8acae3680 button.colab-df-convert');\n",
              "      buttonEl.style.display =\n",
              "        google.colab.kernel.accessAllowed ? 'block' : 'none';\n",
              "\n",
              "      async function convertToInteractive(key) {\n",
              "        const element = document.querySelector('#df-6d5c5f21-28e3-445c-b330-10b8acae3680');\n",
              "        const dataTable =\n",
              "          await google.colab.kernel.invokeFunction('convertToInteractive',\n",
              "                                                    [key], {});\n",
              "        if (!dataTable) return;\n",
              "\n",
              "        const docLinkHtml = 'Like what you see? Visit the ' +\n",
              "          '<a target=\"_blank\" href=https://colab.research.google.com/notebooks/data_table.ipynb>data table notebook</a>'\n",
              "          + ' to learn more about interactive tables.';\n",
              "        element.innerHTML = '';\n",
              "        dataTable['output_type'] = 'display_data';\n",
              "        await google.colab.output.renderOutput(dataTable, element);\n",
              "        const docLink = document.createElement('div');\n",
              "        docLink.innerHTML = docLinkHtml;\n",
              "        element.appendChild(docLink);\n",
              "      }\n",
              "    </script>\n",
              "  </div>\n",
              "\n",
              "\n",
              "<div id=\"df-bd9f3c1d-be7d-4d94-bc00-a6f4d4721467\">\n",
              "  <button class=\"colab-df-quickchart\" onclick=\"quickchart('df-bd9f3c1d-be7d-4d94-bc00-a6f4d4721467')\"\n",
              "            title=\"Suggest charts\"\n",
              "            style=\"display:none;\">\n",
              "\n",
              "<svg xmlns=\"http://www.w3.org/2000/svg\" height=\"24px\"viewBox=\"0 0 24 24\"\n",
              "     width=\"24px\">\n",
              "    <g>\n",
              "        <path d=\"M19 3H5c-1.1 0-2 .9-2 2v14c0 1.1.9 2 2 2h14c1.1 0 2-.9 2-2V5c0-1.1-.9-2-2-2zM9 17H7v-7h2v7zm4 0h-2V7h2v10zm4 0h-2v-4h2v4z\"/>\n",
              "    </g>\n",
              "</svg>\n",
              "  </button>\n",
              "\n",
              "<style>\n",
              "  .colab-df-quickchart {\n",
              "      --bg-color: #E8F0FE;\n",
              "      --fill-color: #1967D2;\n",
              "      --hover-bg-color: #E2EBFA;\n",
              "      --hover-fill-color: #174EA6;\n",
              "      --disabled-fill-color: #AAA;\n",
              "      --disabled-bg-color: #DDD;\n",
              "  }\n",
              "\n",
              "  [theme=dark] .colab-df-quickchart {\n",
              "      --bg-color: #3B4455;\n",
              "      --fill-color: #D2E3FC;\n",
              "      --hover-bg-color: #434B5C;\n",
              "      --hover-fill-color: #FFFFFF;\n",
              "      --disabled-bg-color: #3B4455;\n",
              "      --disabled-fill-color: #666;\n",
              "  }\n",
              "\n",
              "  .colab-df-quickchart {\n",
              "    background-color: var(--bg-color);\n",
              "    border: none;\n",
              "    border-radius: 50%;\n",
              "    cursor: pointer;\n",
              "    display: none;\n",
              "    fill: var(--fill-color);\n",
              "    height: 32px;\n",
              "    padding: 0;\n",
              "    width: 32px;\n",
              "  }\n",
              "\n",
              "  .colab-df-quickchart:hover {\n",
              "    background-color: var(--hover-bg-color);\n",
              "    box-shadow: 0 1px 2px rgba(60, 64, 67, 0.3), 0 1px 3px 1px rgba(60, 64, 67, 0.15);\n",
              "    fill: var(--button-hover-fill-color);\n",
              "  }\n",
              "\n",
              "  .colab-df-quickchart-complete:disabled,\n",
              "  .colab-df-quickchart-complete:disabled:hover {\n",
              "    background-color: var(--disabled-bg-color);\n",
              "    fill: var(--disabled-fill-color);\n",
              "    box-shadow: none;\n",
              "  }\n",
              "\n",
              "  .colab-df-spinner {\n",
              "    border: 2px solid var(--fill-color);\n",
              "    border-color: transparent;\n",
              "    border-bottom-color: var(--fill-color);\n",
              "    animation:\n",
              "      spin 1s steps(1) infinite;\n",
              "  }\n",
              "\n",
              "  @keyframes spin {\n",
              "    0% {\n",
              "      border-color: transparent;\n",
              "      border-bottom-color: var(--fill-color);\n",
              "      border-left-color: var(--fill-color);\n",
              "    }\n",
              "    20% {\n",
              "      border-color: transparent;\n",
              "      border-left-color: var(--fill-color);\n",
              "      border-top-color: var(--fill-color);\n",
              "    }\n",
              "    30% {\n",
              "      border-color: transparent;\n",
              "      border-left-color: var(--fill-color);\n",
              "      border-top-color: var(--fill-color);\n",
              "      border-right-color: var(--fill-color);\n",
              "    }\n",
              "    40% {\n",
              "      border-color: transparent;\n",
              "      border-right-color: var(--fill-color);\n",
              "      border-top-color: var(--fill-color);\n",
              "    }\n",
              "    60% {\n",
              "      border-color: transparent;\n",
              "      border-right-color: var(--fill-color);\n",
              "    }\n",
              "    80% {\n",
              "      border-color: transparent;\n",
              "      border-right-color: var(--fill-color);\n",
              "      border-bottom-color: var(--fill-color);\n",
              "    }\n",
              "    90% {\n",
              "      border-color: transparent;\n",
              "      border-bottom-color: var(--fill-color);\n",
              "    }\n",
              "  }\n",
              "</style>\n",
              "\n",
              "  <script>\n",
              "    async function quickchart(key) {\n",
              "      const quickchartButtonEl =\n",
              "        document.querySelector('#' + key + ' button');\n",
              "      quickchartButtonEl.disabled = true;  // To prevent multiple clicks.\n",
              "      quickchartButtonEl.classList.add('colab-df-spinner');\n",
              "      try {\n",
              "        const charts = await google.colab.kernel.invokeFunction(\n",
              "            'suggestCharts', [key], {});\n",
              "      } catch (error) {\n",
              "        console.error('Error during call to suggestCharts:', error);\n",
              "      }\n",
              "      quickchartButtonEl.classList.remove('colab-df-spinner');\n",
              "      quickchartButtonEl.classList.add('colab-df-quickchart-complete');\n",
              "    }\n",
              "    (() => {\n",
              "      let quickchartButtonEl =\n",
              "        document.querySelector('#df-bd9f3c1d-be7d-4d94-bc00-a6f4d4721467 button');\n",
              "      quickchartButtonEl.style.display =\n",
              "        google.colab.kernel.accessAllowed ? 'block' : 'none';\n",
              "    })();\n",
              "  </script>\n",
              "</div>\n",
              "    </div>\n",
              "  </div>\n"
            ]
          },
          "metadata": {},
          "execution_count": 7
        }
      ]
    },
    {
      "cell_type": "markdown",
      "source": [
        "Correcting variable type for `timestamp`"
      ],
      "metadata": {
        "id": "mv8d4D8_opAl"
      }
    },
    {
      "cell_type": "code",
      "source": [
        "df_train['timestamp'] = pd.to_datetime(df_train['timestamp'])\n",
        "df_train.info()"
      ],
      "metadata": {
        "colab": {
          "base_uri": "https://localhost:8080/"
        },
        "id": "duUv9fvIZWeH",
        "outputId": "f605ed8f-caaa-402a-ccd7-2b063a757d60"
      },
      "execution_count": null,
      "outputs": [
        {
          "output_type": "stream",
          "name": "stdout",
          "text": [
            "<class 'pandas.core.frame.DataFrame'>\n",
            "RangeIndex: 20355 entries, 0 to 20354\n",
            "Data columns (total 15 columns):\n",
            " #   Column         Non-Null Count  Dtype         \n",
            "---  ------         --------------  -----         \n",
            " 0   timestamp      20355 non-null  datetime64[ns]\n",
            " 1   api_calls      20355 non-null  float64       \n",
            " 2   clouds         20163 non-null  float64       \n",
            " 3   distance_max   20355 non-null  float64       \n",
            " 4   distance_mean  20355 non-null  float64       \n",
            " 5   distance_min   20355 non-null  float64       \n",
            " 6   humidity       20163 non-null  float64       \n",
            " 7   price_mean     20355 non-null  float64       \n",
            " 8   rain           20163 non-null  float64       \n",
            " 9   surge_max      20355 non-null  float64       \n",
            " 10  surge_mean     20355 non-null  float64       \n",
            " 11  surge_min      20355 non-null  float64       \n",
            " 12  temp           20163 non-null  float64       \n",
            " 13  wind           20163 non-null  float64       \n",
            " 14  type           20355 non-null  int64         \n",
            "dtypes: datetime64[ns](1), float64(13), int64(1)\n",
            "memory usage: 2.3 MB\n"
          ]
        }
      ]
    },
    {
      "cell_type": "markdown",
      "source": [
        "### <h2> Missing Values </h2> ###"
      ],
      "metadata": {
        "id": "p6tSDkdba0Ij"
      }
    },
    {
      "cell_type": "code",
      "source": [
        "df_train.isna().sum()"
      ],
      "metadata": {
        "colab": {
          "base_uri": "https://localhost:8080/"
        },
        "id": "X1kPeC2NaddB",
        "outputId": "42d9203d-3189-4c27-9457-e1a8adbae93e"
      },
      "execution_count": null,
      "outputs": [
        {
          "output_type": "execute_result",
          "data": {
            "text/plain": [
              "timestamp          0\n",
              "api_calls          0\n",
              "clouds           192\n",
              "distance_max       0\n",
              "distance_mean      0\n",
              "distance_min       0\n",
              "humidity         192\n",
              "price_mean         0\n",
              "rain             192\n",
              "surge_max          0\n",
              "surge_mean         0\n",
              "surge_min          0\n",
              "temp             192\n",
              "wind             192\n",
              "type               0\n",
              "dtype: int64"
            ]
          },
          "metadata": {},
          "execution_count": 9
        }
      ]
    },
    {
      "cell_type": "code",
      "source": [
        "df_train.isna().sum()/len(df_train)"
      ],
      "metadata": {
        "colab": {
          "base_uri": "https://localhost:8080/"
        },
        "id": "cOkPpmPLaihY",
        "outputId": "f1dc74e3-66cf-4401-9e81-282e02370072"
      },
      "execution_count": null,
      "outputs": [
        {
          "output_type": "execute_result",
          "data": {
            "text/plain": [
              "timestamp       0.00000000\n",
              "api_calls       0.00000000\n",
              "clouds          0.00943257\n",
              "distance_max    0.00000000\n",
              "distance_mean   0.00000000\n",
              "distance_min    0.00000000\n",
              "humidity        0.00943257\n",
              "price_mean      0.00000000\n",
              "rain            0.00943257\n",
              "surge_max       0.00000000\n",
              "surge_mean      0.00000000\n",
              "surge_min       0.00000000\n",
              "temp            0.00943257\n",
              "wind            0.00943257\n",
              "type            0.00000000\n",
              "dtype: float64"
            ]
          },
          "metadata": {},
          "execution_count": 10
        }
      ]
    },
    {
      "cell_type": "markdown",
      "source": [
        "We're going to drop the rows that contain missing values because the percentage of missing values on each column is < 1%"
      ],
      "metadata": {
        "id": "5txGTCHZzwAi"
      }
    },
    {
      "cell_type": "code",
      "source": [
        "df_train.dropna(axis=0, inplace = True)"
      ],
      "metadata": {
        "id": "8-Mtomcqau6Y"
      },
      "execution_count": null,
      "outputs": []
    },
    {
      "cell_type": "code",
      "source": [
        "df_train.info()"
      ],
      "metadata": {
        "colab": {
          "base_uri": "https://localhost:8080/"
        },
        "id": "OEKo-4dzbUVP",
        "outputId": "cba9e00d-6b9b-482e-e699-5be54a2cb0ba"
      },
      "execution_count": null,
      "outputs": [
        {
          "output_type": "stream",
          "name": "stdout",
          "text": [
            "<class 'pandas.core.frame.DataFrame'>\n",
            "Int64Index: 20163 entries, 0 to 20354\n",
            "Data columns (total 15 columns):\n",
            " #   Column         Non-Null Count  Dtype         \n",
            "---  ------         --------------  -----         \n",
            " 0   timestamp      20163 non-null  datetime64[ns]\n",
            " 1   api_calls      20163 non-null  float64       \n",
            " 2   clouds         20163 non-null  float64       \n",
            " 3   distance_max   20163 non-null  float64       \n",
            " 4   distance_mean  20163 non-null  float64       \n",
            " 5   distance_min   20163 non-null  float64       \n",
            " 6   humidity       20163 non-null  float64       \n",
            " 7   price_mean     20163 non-null  float64       \n",
            " 8   rain           20163 non-null  float64       \n",
            " 9   surge_max      20163 non-null  float64       \n",
            " 10  surge_mean     20163 non-null  float64       \n",
            " 11  surge_min      20163 non-null  float64       \n",
            " 12  temp           20163 non-null  float64       \n",
            " 13  wind           20163 non-null  float64       \n",
            " 14  type           20163 non-null  int64         \n",
            "dtypes: datetime64[ns](1), float64(13), int64(1)\n",
            "memory usage: 2.5 MB\n"
          ]
        }
      ]
    },
    {
      "cell_type": "code",
      "source": [
        "df_train[df_train.duplicated()]"
      ],
      "metadata": {
        "colab": {
          "base_uri": "https://localhost:8080/"
        },
        "id": "bk-AJeTmbVNW",
        "outputId": "e20500a7-75e3-41fa-e195-47ce3a3b296a"
      },
      "execution_count": null,
      "outputs": [
        {
          "output_type": "execute_result",
          "data": {
            "text/plain": [
              "Empty DataFrame\n",
              "Columns: [timestamp, api_calls, clouds, distance_max, distance_mean, distance_min, humidity, price_mean, rain, surge_max, surge_mean, surge_min, temp, wind, type]\n",
              "Index: []"
            ],
            "text/html": [
              "\n",
              "  <div id=\"df-809263a4-e9b2-433b-b118-b36f2533beb5\" class=\"colab-df-container\">\n",
              "    <div>\n",
              "<style scoped>\n",
              "    .dataframe tbody tr th:only-of-type {\n",
              "        vertical-align: middle;\n",
              "    }\n",
              "\n",
              "    .dataframe tbody tr th {\n",
              "        vertical-align: top;\n",
              "    }\n",
              "\n",
              "    .dataframe thead th {\n",
              "        text-align: right;\n",
              "    }\n",
              "</style>\n",
              "<table border=\"1\" class=\"dataframe\">\n",
              "  <thead>\n",
              "    <tr style=\"text-align: right;\">\n",
              "      <th></th>\n",
              "      <th>timestamp</th>\n",
              "      <th>api_calls</th>\n",
              "      <th>clouds</th>\n",
              "      <th>distance_max</th>\n",
              "      <th>distance_mean</th>\n",
              "      <th>distance_min</th>\n",
              "      <th>humidity</th>\n",
              "      <th>price_mean</th>\n",
              "      <th>rain</th>\n",
              "      <th>surge_max</th>\n",
              "      <th>surge_mean</th>\n",
              "      <th>surge_min</th>\n",
              "      <th>temp</th>\n",
              "      <th>wind</th>\n",
              "      <th>type</th>\n",
              "    </tr>\n",
              "  </thead>\n",
              "  <tbody>\n",
              "  </tbody>\n",
              "</table>\n",
              "</div>\n",
              "    <div class=\"colab-df-buttons\">\n",
              "\n",
              "  <div class=\"colab-df-container\">\n",
              "    <button class=\"colab-df-convert\" onclick=\"convertToInteractive('df-809263a4-e9b2-433b-b118-b36f2533beb5')\"\n",
              "            title=\"Convert this dataframe to an interactive table.\"\n",
              "            style=\"display:none;\">\n",
              "\n",
              "  <svg xmlns=\"http://www.w3.org/2000/svg\" height=\"24px\" viewBox=\"0 -960 960 960\">\n",
              "    <path d=\"M120-120v-720h720v720H120Zm60-500h600v-160H180v160Zm220 220h160v-160H400v160Zm0 220h160v-160H400v160ZM180-400h160v-160H180v160Zm440 0h160v-160H620v160ZM180-180h160v-160H180v160Zm440 0h160v-160H620v160Z\"/>\n",
              "  </svg>\n",
              "    </button>\n",
              "\n",
              "  <style>\n",
              "    .colab-df-container {\n",
              "      display:flex;\n",
              "      gap: 12px;\n",
              "    }\n",
              "\n",
              "    .colab-df-convert {\n",
              "      background-color: #E8F0FE;\n",
              "      border: none;\n",
              "      border-radius: 50%;\n",
              "      cursor: pointer;\n",
              "      display: none;\n",
              "      fill: #1967D2;\n",
              "      height: 32px;\n",
              "      padding: 0 0 0 0;\n",
              "      width: 32px;\n",
              "    }\n",
              "\n",
              "    .colab-df-convert:hover {\n",
              "      background-color: #E2EBFA;\n",
              "      box-shadow: 0px 1px 2px rgba(60, 64, 67, 0.3), 0px 1px 3px 1px rgba(60, 64, 67, 0.15);\n",
              "      fill: #174EA6;\n",
              "    }\n",
              "\n",
              "    .colab-df-buttons div {\n",
              "      margin-bottom: 4px;\n",
              "    }\n",
              "\n",
              "    [theme=dark] .colab-df-convert {\n",
              "      background-color: #3B4455;\n",
              "      fill: #D2E3FC;\n",
              "    }\n",
              "\n",
              "    [theme=dark] .colab-df-convert:hover {\n",
              "      background-color: #434B5C;\n",
              "      box-shadow: 0px 1px 3px 1px rgba(0, 0, 0, 0.15);\n",
              "      filter: drop-shadow(0px 1px 2px rgba(0, 0, 0, 0.3));\n",
              "      fill: #FFFFFF;\n",
              "    }\n",
              "  </style>\n",
              "\n",
              "    <script>\n",
              "      const buttonEl =\n",
              "        document.querySelector('#df-809263a4-e9b2-433b-b118-b36f2533beb5 button.colab-df-convert');\n",
              "      buttonEl.style.display =\n",
              "        google.colab.kernel.accessAllowed ? 'block' : 'none';\n",
              "\n",
              "      async function convertToInteractive(key) {\n",
              "        const element = document.querySelector('#df-809263a4-e9b2-433b-b118-b36f2533beb5');\n",
              "        const dataTable =\n",
              "          await google.colab.kernel.invokeFunction('convertToInteractive',\n",
              "                                                    [key], {});\n",
              "        if (!dataTable) return;\n",
              "\n",
              "        const docLinkHtml = 'Like what you see? Visit the ' +\n",
              "          '<a target=\"_blank\" href=https://colab.research.google.com/notebooks/data_table.ipynb>data table notebook</a>'\n",
              "          + ' to learn more about interactive tables.';\n",
              "        element.innerHTML = '';\n",
              "        dataTable['output_type'] = 'display_data';\n",
              "        await google.colab.output.renderOutput(dataTable, element);\n",
              "        const docLink = document.createElement('div');\n",
              "        docLink.innerHTML = docLinkHtml;\n",
              "        element.appendChild(docLink);\n",
              "      }\n",
              "    </script>\n",
              "  </div>\n",
              "\n",
              "    </div>\n",
              "  </div>\n"
            ]
          },
          "metadata": {},
          "execution_count": 13
        }
      ]
    },
    {
      "cell_type": "code",
      "source": [
        "df_train['type'].unique()"
      ],
      "metadata": {
        "colab": {
          "base_uri": "https://localhost:8080/"
        },
        "id": "CUb-BNPncwDg",
        "outputId": "b724b99f-f0b9-4d96-a115-a8945b52f692"
      },
      "execution_count": null,
      "outputs": [
        {
          "output_type": "execute_result",
          "data": {
            "text/plain": [
              "array([ 0,  1,  2,  3,  4,  5,  6,  7,  8,  9, 10, 11, 12, 13, 14, 15, 16,\n",
              "       17, 18, 19, 20, 21, 22, 23, 24, 25, 26, 27, 28, 29, 30, 31, 32, 33,\n",
              "       34, 35, 36, 37, 38, 39, 40, 41, 42, 43, 44, 45, 46, 47, 48, 49, 50,\n",
              "       51, 52, 53, 54, 55, 56, 57, 58, 59, 60, 61, 62, 63, 64, 65, 66, 67,\n",
              "       68, 69, 70, 71, 72, 73, 74, 75, 76, 77, 78, 79, 80, 81, 82, 83, 84,\n",
              "       85, 86, 87, 88, 89, 90, 91, 92, 93, 94, 95])"
            ]
          },
          "metadata": {},
          "execution_count": 14
        }
      ]
    },
    {
      "cell_type": "markdown",
      "source": [
        "## <h2> df_test </h2> ##"
      ],
      "metadata": {
        "id": "PAw8FPvgN_jl"
      }
    },
    {
      "cell_type": "code",
      "source": [
        "df_test['timestamp'] = pd.to_datetime(df_test['timestamp'])\n",
        "df_test.info()"
      ],
      "metadata": {
        "colab": {
          "base_uri": "https://localhost:8080/"
        },
        "id": "bob4cUcFOBvz",
        "outputId": "59348b97-8e85-4d63-b2c5-48b451d7af32"
      },
      "execution_count": null,
      "outputs": [
        {
          "output_type": "stream",
          "name": "stdout",
          "text": [
            "<class 'pandas.core.frame.DataFrame'>\n",
            "RangeIndex: 11040 entries, 0 to 11039\n",
            "Data columns (total 15 columns):\n",
            " #   Column         Non-Null Count  Dtype         \n",
            "---  ------         --------------  -----         \n",
            " 0   index          11040 non-null  int64         \n",
            " 1   timestamp      11040 non-null  datetime64[ns]\n",
            " 2   api_calls      11040 non-null  float64       \n",
            " 3   clouds         11040 non-null  float64       \n",
            " 4   distance_max   11040 non-null  float64       \n",
            " 5   distance_mean  11040 non-null  float64       \n",
            " 6   distance_min   11040 non-null  float64       \n",
            " 7   humidity       11040 non-null  float64       \n",
            " 8   rain           11040 non-null  float64       \n",
            " 9   surge_max      11040 non-null  float64       \n",
            " 10  surge_mean     11040 non-null  float64       \n",
            " 11  surge_min      11040 non-null  float64       \n",
            " 12  temp           11040 non-null  float64       \n",
            " 13  wind           11040 non-null  float64       \n",
            " 14  type           11040 non-null  int64         \n",
            "dtypes: datetime64[ns](1), float64(12), int64(2)\n",
            "memory usage: 1.3 MB\n"
          ]
        }
      ]
    },
    {
      "cell_type": "markdown",
      "source": [
        "# <h1> Part 2: Quick Visualization & Gaining Insights </h1> #"
      ],
      "metadata": {
        "id": "gTB2EZdFeKKi"
      }
    },
    {
      "cell_type": "code",
      "source": [
        "df_train['hour'] = df_train['timestamp'].dt.hour\n",
        "df_train['dw'] = df_train['timestamp'].dt.day_of_week\n",
        "df_train['dm'] = df_train['timestamp'].dt.day\n",
        "\n",
        "print(f\"Unique Values hour: {df_train['hour'].unique()}\")\n",
        "print(f\"Unique Values dw: {df_train['dw'].unique()}\")\n",
        "print(f\"Unique Values dm: {df_train['dm'].unique()}\")\n",
        "\n",
        "df_train.info()"
      ],
      "metadata": {
        "id": "eXPze6c3w3Vq"
      },
      "execution_count": null,
      "outputs": []
    },
    {
      "cell_type": "code",
      "source": [
        "num = df_train.select_dtypes(include = np.number).columns.tolist()\n",
        "for n in num:\n",
        "  sns.histplot(x = n, data = df_train)\n",
        "  plt.title(f\"Histogram for {n} Column\")\n",
        "  print(\"\")\n",
        "  plt.show()"
      ],
      "metadata": {
        "id": "xCNc01wMdtmS"
      },
      "execution_count": null,
      "outputs": []
    },
    {
      "cell_type": "code",
      "source": [
        "num = df_train.select_dtypes(include = np.number).columns.tolist()\n",
        "for n in num:\n",
        "  sns.scatterplot(x = n, y = 'price_mean', data = df_train)\n",
        "  plt.title(f\"Scatterplot between {n} with price_mean\")\n",
        "  print(\"\")\n",
        "  plt.show()"
      ],
      "metadata": {
        "id": "vwf_GQlBeSsl"
      },
      "execution_count": null,
      "outputs": []
    },
    {
      "cell_type": "code",
      "source": [
        "df_train.groupby([\"dw\"])[\"api_calls\", \"price_mean\"].agg([\"mean\"])"
      ],
      "metadata": {
        "id": "1_mGtpv3yd6S"
      },
      "execution_count": null,
      "outputs": []
    },
    {
      "cell_type": "code",
      "source": [
        "df_train.describe()"
      ],
      "metadata": {
        "id": "Lfmyl01X0k2R"
      },
      "execution_count": null,
      "outputs": []
    },
    {
      "cell_type": "code",
      "source": [
        "# Get unique types\n",
        "types = df_train['type'].unique()\n",
        "\n",
        "# For each type\n",
        "for t in types:\n",
        "    # Filter data\n",
        "    filtered_data = df_train[df_train['type'] == t]\n",
        "\n",
        "    # Create scatterplot\n",
        "    plt.figure(figsize=(10, 6))\n",
        "    sns.scatterplot(data=filtered_data, x='distance_max', y='price_mean')\n",
        "\n",
        "    plt.title(f'Scatterplot of distance_max vs price_mean for type {t}')\n",
        "    plt.show()"
      ],
      "metadata": {
        "id": "pSlNeU1T0HUC"
      },
      "execution_count": null,
      "outputs": []
    },
    {
      "cell_type": "code",
      "source": [
        "# For each type\n",
        "for t in types:\n",
        "    # Filter data\n",
        "    filtered_data = df_train[df_train['type'] == t]\n",
        "\n",
        "    # Create scatterplot\n",
        "    plt.figure(figsize=(10, 6))\n",
        "    sns.scatterplot(data=filtered_data, x='surge_mean', y='price_mean')\n",
        "\n",
        "    plt.title(f'Scatterplot of surge_mean vs price_mean for type {t}')\n",
        "    plt.show()"
      ],
      "metadata": {
        "id": "5ZuFNULi0I88"
      },
      "execution_count": null,
      "outputs": []
    },
    {
      "cell_type": "code",
      "source": [
        "# Get unique types\n",
        "types = df_train['type'].unique()\n",
        "\n",
        "# For each type\n",
        "for t in types:\n",
        "    # Filter data\n",
        "    filtered_data = df_train[df_train['type'] == t]\n",
        "\n",
        "    # Create scatterplot\n",
        "    plt.figure(figsize=(10, 6))\n",
        "    sns.scatterplot(data=filtered_data, x='distance_mean', y='price_mean')\n",
        "\n",
        "    plt.title(f'Scatterplot of distance_mean vs price_mean for type {t}')\n",
        "    plt.show()"
      ],
      "metadata": {
        "id": "qhl3K8Lf0KzB"
      },
      "execution_count": null,
      "outputs": []
    },
    {
      "cell_type": "code",
      "source": [
        "df_train.groupby('type')['distance_mean'].agg(['var']).sort_values(by='var', ascending=False)"
      ],
      "metadata": {
        "id": "5ZE3jP_50Ncn"
      },
      "execution_count": null,
      "outputs": []
    },
    {
      "cell_type": "markdown",
      "source": [
        "# <h1> Part 3: Feature Engineering </h1> #"
      ],
      "metadata": {
        "id": "lvvuYb7ecZS2"
      }
    },
    {
      "cell_type": "markdown",
      "source": [
        "## <h2> Variables calculating distance for time(s) </h2> ##"
      ],
      "metadata": {
        "id": "W7ZWm5OTCTUR"
      }
    },
    {
      "cell_type": "markdown",
      "source": [
        "### <h2> df_train </h2> ###"
      ],
      "metadata": {
        "id": "pJyfKpj6FiWQ"
      }
    },
    {
      "cell_type": "code",
      "source": [
        "def time_features_distance(df):\n",
        "\n",
        "  time = pd.to_datetime(df['timestamp'])\n",
        "\n",
        "  hour = time.dt.hour\n",
        "  dw = time.dt.day_of_week\n",
        "  dm = time.dt.day\n",
        "\n",
        "  for time, col in zip([hour, dm, dw], ['hour', 'dm', 'dw']):\n",
        "    time_range = {'hour': 24, 'dw': 7, 'dm': 31,}\n",
        "    df[f'{col}_sin'] = np.sin(time * (2 * np.pi / time_range[col]))\n",
        "    df[f'{col}_cos'] = np.cos(time * (2 * np.pi / time_range[col]))\n",
        "\n",
        "  df['hour'] = hour\n",
        "  df['dw'] = dw\n",
        "  df['dm'] = dm"
      ],
      "metadata": {
        "id": "UPy9KWA4Fnx5"
      },
      "execution_count": null,
      "outputs": []
    },
    {
      "cell_type": "code",
      "source": [
        "time_features_distance(df_train)\n",
        "df_train.info()"
      ],
      "metadata": {
        "colab": {
          "base_uri": "https://localhost:8080/"
        },
        "id": "1c24Vx0JCWZe",
        "outputId": "d684df99-35f0-488b-8af1-0dc1b1b94dcf"
      },
      "execution_count": null,
      "outputs": [
        {
          "output_type": "stream",
          "name": "stdout",
          "text": [
            "<class 'pandas.core.frame.DataFrame'>\n",
            "Int64Index: 20163 entries, 0 to 20354\n",
            "Data columns (total 24 columns):\n",
            " #   Column         Non-Null Count  Dtype         \n",
            "---  ------         --------------  -----         \n",
            " 0   timestamp      20163 non-null  datetime64[ns]\n",
            " 1   api_calls      20163 non-null  float64       \n",
            " 2   clouds         20163 non-null  float64       \n",
            " 3   distance_max   20163 non-null  float64       \n",
            " 4   distance_mean  20163 non-null  float64       \n",
            " 5   distance_min   20163 non-null  float64       \n",
            " 6   humidity       20163 non-null  float64       \n",
            " 7   price_mean     20163 non-null  float64       \n",
            " 8   rain           20163 non-null  float64       \n",
            " 9   surge_max      20163 non-null  float64       \n",
            " 10  surge_mean     20163 non-null  float64       \n",
            " 11  surge_min      20163 non-null  float64       \n",
            " 12  temp           20163 non-null  float64       \n",
            " 13  wind           20163 non-null  float64       \n",
            " 14  type           20163 non-null  int64         \n",
            " 15  hour_sin       20163 non-null  float64       \n",
            " 16  hour_cos       20163 non-null  float64       \n",
            " 17  dm_sin         20163 non-null  float64       \n",
            " 18  dm_cos         20163 non-null  float64       \n",
            " 19  dw_sin         20163 non-null  float64       \n",
            " 20  dw_cos         20163 non-null  float64       \n",
            " 21  hour           20163 non-null  int64         \n",
            " 22  dw             20163 non-null  int64         \n",
            " 23  dm             20163 non-null  int64         \n",
            "dtypes: datetime64[ns](1), float64(19), int64(4)\n",
            "memory usage: 3.8 MB\n"
          ]
        }
      ]
    },
    {
      "cell_type": "code",
      "source": [
        "df_train.head(5)"
      ],
      "metadata": {
        "colab": {
          "base_uri": "https://localhost:8080/"
        },
        "id": "Es8PAlZXznfM",
        "outputId": "55cd3739-75f3-481f-b03e-86ce04f1f526"
      },
      "execution_count": null,
      "outputs": [
        {
          "output_type": "execute_result",
          "data": {
            "text/plain": [
              "            timestamp   api_calls     clouds  distance_max  distance_mean  \\\n",
              "0 2018-11-26 06:00:00  9.00000000 0.99066667    3.03000000     1.72666667   \n",
              "1 2018-11-26 07:00:00 10.00000000 0.97000000    2.67000000     1.69000000   \n",
              "2 2018-11-26 08:00:00  1.00000000 0.98000000    1.38000000     1.38000000   \n",
              "3 2018-11-26 09:00:00 11.00000000 1.00000000    3.08000000     1.92090909   \n",
              "4 2018-11-26 10:00:00 12.00000000 0.99500000    3.01000000     2.12250000   \n",
              "\n",
              "   distance_min   humidity  price_mean       rain  surge_max  surge_mean  \\\n",
              "0    1.04000000 0.91333333 16.55555556 0.00000000 1.50000000  1.05555556   \n",
              "1    1.09000000 0.92000000 17.30000000 0.00000000 2.00000000  1.10000000   \n",
              "2    1.38000000 0.92333333 13.50000000 0.00000000 1.00000000  1.00000000   \n",
              "3    1.39000000 0.92750000 17.95454545 0.00000000 1.75000000  1.11363636   \n",
              "4    1.07000000 0.94000000 18.62500000 0.00000000 1.50000000  1.08333333   \n",
              "\n",
              "   surge_min        temp       wind  type   hour_sin    hour_cos      dm_sin  \\\n",
              "0 1.00000000 40.62733333 1.35066667     0 1.00000000  0.00000000 -0.84864426   \n",
              "1 1.00000000 41.13750000 1.73500000     0 0.96592583 -0.25881905 -0.84864426   \n",
              "2 1.00000000 40.92000000 1.33000000     0 0.86602540 -0.50000000 -0.84864426   \n",
              "3 1.00000000 40.93750000 1.36500000     0 0.70710678 -0.70710678 -0.84864426   \n",
              "4 1.00000000 40.69500000 1.89500000     0 0.50000000 -0.86602540 -0.84864426   \n",
              "\n",
              "      dm_cos     dw_sin     dw_cos  hour  dw  dm  \n",
              "0 0.52896401 0.00000000 1.00000000     6   0  26  \n",
              "1 0.52896401 0.00000000 1.00000000     7   0  26  \n",
              "2 0.52896401 0.00000000 1.00000000     8   0  26  \n",
              "3 0.52896401 0.00000000 1.00000000     9   0  26  \n",
              "4 0.52896401 0.00000000 1.00000000    10   0  26  "
            ],
            "text/html": [
              "\n",
              "  <div id=\"df-9c6b5007-c1b2-4b37-a475-e8759992bbfe\" class=\"colab-df-container\">\n",
              "    <div>\n",
              "<style scoped>\n",
              "    .dataframe tbody tr th:only-of-type {\n",
              "        vertical-align: middle;\n",
              "    }\n",
              "\n",
              "    .dataframe tbody tr th {\n",
              "        vertical-align: top;\n",
              "    }\n",
              "\n",
              "    .dataframe thead th {\n",
              "        text-align: right;\n",
              "    }\n",
              "</style>\n",
              "<table border=\"1\" class=\"dataframe\">\n",
              "  <thead>\n",
              "    <tr style=\"text-align: right;\">\n",
              "      <th></th>\n",
              "      <th>timestamp</th>\n",
              "      <th>api_calls</th>\n",
              "      <th>clouds</th>\n",
              "      <th>distance_max</th>\n",
              "      <th>distance_mean</th>\n",
              "      <th>distance_min</th>\n",
              "      <th>humidity</th>\n",
              "      <th>price_mean</th>\n",
              "      <th>rain</th>\n",
              "      <th>surge_max</th>\n",
              "      <th>surge_mean</th>\n",
              "      <th>surge_min</th>\n",
              "      <th>temp</th>\n",
              "      <th>wind</th>\n",
              "      <th>type</th>\n",
              "      <th>hour_sin</th>\n",
              "      <th>hour_cos</th>\n",
              "      <th>dm_sin</th>\n",
              "      <th>dm_cos</th>\n",
              "      <th>dw_sin</th>\n",
              "      <th>dw_cos</th>\n",
              "      <th>hour</th>\n",
              "      <th>dw</th>\n",
              "      <th>dm</th>\n",
              "    </tr>\n",
              "  </thead>\n",
              "  <tbody>\n",
              "    <tr>\n",
              "      <th>0</th>\n",
              "      <td>2018-11-26 06:00:00</td>\n",
              "      <td>9.00000000</td>\n",
              "      <td>0.99066667</td>\n",
              "      <td>3.03000000</td>\n",
              "      <td>1.72666667</td>\n",
              "      <td>1.04000000</td>\n",
              "      <td>0.91333333</td>\n",
              "      <td>16.55555556</td>\n",
              "      <td>0.00000000</td>\n",
              "      <td>1.50000000</td>\n",
              "      <td>1.05555556</td>\n",
              "      <td>1.00000000</td>\n",
              "      <td>40.62733333</td>\n",
              "      <td>1.35066667</td>\n",
              "      <td>0</td>\n",
              "      <td>1.00000000</td>\n",
              "      <td>0.00000000</td>\n",
              "      <td>-0.84864426</td>\n",
              "      <td>0.52896401</td>\n",
              "      <td>0.00000000</td>\n",
              "      <td>1.00000000</td>\n",
              "      <td>6</td>\n",
              "      <td>0</td>\n",
              "      <td>26</td>\n",
              "    </tr>\n",
              "    <tr>\n",
              "      <th>1</th>\n",
              "      <td>2018-11-26 07:00:00</td>\n",
              "      <td>10.00000000</td>\n",
              "      <td>0.97000000</td>\n",
              "      <td>2.67000000</td>\n",
              "      <td>1.69000000</td>\n",
              "      <td>1.09000000</td>\n",
              "      <td>0.92000000</td>\n",
              "      <td>17.30000000</td>\n",
              "      <td>0.00000000</td>\n",
              "      <td>2.00000000</td>\n",
              "      <td>1.10000000</td>\n",
              "      <td>1.00000000</td>\n",
              "      <td>41.13750000</td>\n",
              "      <td>1.73500000</td>\n",
              "      <td>0</td>\n",
              "      <td>0.96592583</td>\n",
              "      <td>-0.25881905</td>\n",
              "      <td>-0.84864426</td>\n",
              "      <td>0.52896401</td>\n",
              "      <td>0.00000000</td>\n",
              "      <td>1.00000000</td>\n",
              "      <td>7</td>\n",
              "      <td>0</td>\n",
              "      <td>26</td>\n",
              "    </tr>\n",
              "    <tr>\n",
              "      <th>2</th>\n",
              "      <td>2018-11-26 08:00:00</td>\n",
              "      <td>1.00000000</td>\n",
              "      <td>0.98000000</td>\n",
              "      <td>1.38000000</td>\n",
              "      <td>1.38000000</td>\n",
              "      <td>1.38000000</td>\n",
              "      <td>0.92333333</td>\n",
              "      <td>13.50000000</td>\n",
              "      <td>0.00000000</td>\n",
              "      <td>1.00000000</td>\n",
              "      <td>1.00000000</td>\n",
              "      <td>1.00000000</td>\n",
              "      <td>40.92000000</td>\n",
              "      <td>1.33000000</td>\n",
              "      <td>0</td>\n",
              "      <td>0.86602540</td>\n",
              "      <td>-0.50000000</td>\n",
              "      <td>-0.84864426</td>\n",
              "      <td>0.52896401</td>\n",
              "      <td>0.00000000</td>\n",
              "      <td>1.00000000</td>\n",
              "      <td>8</td>\n",
              "      <td>0</td>\n",
              "      <td>26</td>\n",
              "    </tr>\n",
              "    <tr>\n",
              "      <th>3</th>\n",
              "      <td>2018-11-26 09:00:00</td>\n",
              "      <td>11.00000000</td>\n",
              "      <td>1.00000000</td>\n",
              "      <td>3.08000000</td>\n",
              "      <td>1.92090909</td>\n",
              "      <td>1.39000000</td>\n",
              "      <td>0.92750000</td>\n",
              "      <td>17.95454545</td>\n",
              "      <td>0.00000000</td>\n",
              "      <td>1.75000000</td>\n",
              "      <td>1.11363636</td>\n",
              "      <td>1.00000000</td>\n",
              "      <td>40.93750000</td>\n",
              "      <td>1.36500000</td>\n",
              "      <td>0</td>\n",
              "      <td>0.70710678</td>\n",
              "      <td>-0.70710678</td>\n",
              "      <td>-0.84864426</td>\n",
              "      <td>0.52896401</td>\n",
              "      <td>0.00000000</td>\n",
              "      <td>1.00000000</td>\n",
              "      <td>9</td>\n",
              "      <td>0</td>\n",
              "      <td>26</td>\n",
              "    </tr>\n",
              "    <tr>\n",
              "      <th>4</th>\n",
              "      <td>2018-11-26 10:00:00</td>\n",
              "      <td>12.00000000</td>\n",
              "      <td>0.99500000</td>\n",
              "      <td>3.01000000</td>\n",
              "      <td>2.12250000</td>\n",
              "      <td>1.07000000</td>\n",
              "      <td>0.94000000</td>\n",
              "      <td>18.62500000</td>\n",
              "      <td>0.00000000</td>\n",
              "      <td>1.50000000</td>\n",
              "      <td>1.08333333</td>\n",
              "      <td>1.00000000</td>\n",
              "      <td>40.69500000</td>\n",
              "      <td>1.89500000</td>\n",
              "      <td>0</td>\n",
              "      <td>0.50000000</td>\n",
              "      <td>-0.86602540</td>\n",
              "      <td>-0.84864426</td>\n",
              "      <td>0.52896401</td>\n",
              "      <td>0.00000000</td>\n",
              "      <td>1.00000000</td>\n",
              "      <td>10</td>\n",
              "      <td>0</td>\n",
              "      <td>26</td>\n",
              "    </tr>\n",
              "  </tbody>\n",
              "</table>\n",
              "</div>\n",
              "    <div class=\"colab-df-buttons\">\n",
              "\n",
              "  <div class=\"colab-df-container\">\n",
              "    <button class=\"colab-df-convert\" onclick=\"convertToInteractive('df-9c6b5007-c1b2-4b37-a475-e8759992bbfe')\"\n",
              "            title=\"Convert this dataframe to an interactive table.\"\n",
              "            style=\"display:none;\">\n",
              "\n",
              "  <svg xmlns=\"http://www.w3.org/2000/svg\" height=\"24px\" viewBox=\"0 -960 960 960\">\n",
              "    <path d=\"M120-120v-720h720v720H120Zm60-500h600v-160H180v160Zm220 220h160v-160H400v160Zm0 220h160v-160H400v160ZM180-400h160v-160H180v160Zm440 0h160v-160H620v160ZM180-180h160v-160H180v160Zm440 0h160v-160H620v160Z\"/>\n",
              "  </svg>\n",
              "    </button>\n",
              "\n",
              "  <style>\n",
              "    .colab-df-container {\n",
              "      display:flex;\n",
              "      gap: 12px;\n",
              "    }\n",
              "\n",
              "    .colab-df-convert {\n",
              "      background-color: #E8F0FE;\n",
              "      border: none;\n",
              "      border-radius: 50%;\n",
              "      cursor: pointer;\n",
              "      display: none;\n",
              "      fill: #1967D2;\n",
              "      height: 32px;\n",
              "      padding: 0 0 0 0;\n",
              "      width: 32px;\n",
              "    }\n",
              "\n",
              "    .colab-df-convert:hover {\n",
              "      background-color: #E2EBFA;\n",
              "      box-shadow: 0px 1px 2px rgba(60, 64, 67, 0.3), 0px 1px 3px 1px rgba(60, 64, 67, 0.15);\n",
              "      fill: #174EA6;\n",
              "    }\n",
              "\n",
              "    .colab-df-buttons div {\n",
              "      margin-bottom: 4px;\n",
              "    }\n",
              "\n",
              "    [theme=dark] .colab-df-convert {\n",
              "      background-color: #3B4455;\n",
              "      fill: #D2E3FC;\n",
              "    }\n",
              "\n",
              "    [theme=dark] .colab-df-convert:hover {\n",
              "      background-color: #434B5C;\n",
              "      box-shadow: 0px 1px 3px 1px rgba(0, 0, 0, 0.15);\n",
              "      filter: drop-shadow(0px 1px 2px rgba(0, 0, 0, 0.3));\n",
              "      fill: #FFFFFF;\n",
              "    }\n",
              "  </style>\n",
              "\n",
              "    <script>\n",
              "      const buttonEl =\n",
              "        document.querySelector('#df-9c6b5007-c1b2-4b37-a475-e8759992bbfe button.colab-df-convert');\n",
              "      buttonEl.style.display =\n",
              "        google.colab.kernel.accessAllowed ? 'block' : 'none';\n",
              "\n",
              "      async function convertToInteractive(key) {\n",
              "        const element = document.querySelector('#df-9c6b5007-c1b2-4b37-a475-e8759992bbfe');\n",
              "        const dataTable =\n",
              "          await google.colab.kernel.invokeFunction('convertToInteractive',\n",
              "                                                    [key], {});\n",
              "        if (!dataTable) return;\n",
              "\n",
              "        const docLinkHtml = 'Like what you see? Visit the ' +\n",
              "          '<a target=\"_blank\" href=https://colab.research.google.com/notebooks/data_table.ipynb>data table notebook</a>'\n",
              "          + ' to learn more about interactive tables.';\n",
              "        element.innerHTML = '';\n",
              "        dataTable['output_type'] = 'display_data';\n",
              "        await google.colab.output.renderOutput(dataTable, element);\n",
              "        const docLink = document.createElement('div');\n",
              "        docLink.innerHTML = docLinkHtml;\n",
              "        element.appendChild(docLink);\n",
              "      }\n",
              "    </script>\n",
              "  </div>\n",
              "\n",
              "\n",
              "<div id=\"df-0c091522-0eda-4806-b4e1-96141520cb31\">\n",
              "  <button class=\"colab-df-quickchart\" onclick=\"quickchart('df-0c091522-0eda-4806-b4e1-96141520cb31')\"\n",
              "            title=\"Suggest charts\"\n",
              "            style=\"display:none;\">\n",
              "\n",
              "<svg xmlns=\"http://www.w3.org/2000/svg\" height=\"24px\"viewBox=\"0 0 24 24\"\n",
              "     width=\"24px\">\n",
              "    <g>\n",
              "        <path d=\"M19 3H5c-1.1 0-2 .9-2 2v14c0 1.1.9 2 2 2h14c1.1 0 2-.9 2-2V5c0-1.1-.9-2-2-2zM9 17H7v-7h2v7zm4 0h-2V7h2v10zm4 0h-2v-4h2v4z\"/>\n",
              "    </g>\n",
              "</svg>\n",
              "  </button>\n",
              "\n",
              "<style>\n",
              "  .colab-df-quickchart {\n",
              "      --bg-color: #E8F0FE;\n",
              "      --fill-color: #1967D2;\n",
              "      --hover-bg-color: #E2EBFA;\n",
              "      --hover-fill-color: #174EA6;\n",
              "      --disabled-fill-color: #AAA;\n",
              "      --disabled-bg-color: #DDD;\n",
              "  }\n",
              "\n",
              "  [theme=dark] .colab-df-quickchart {\n",
              "      --bg-color: #3B4455;\n",
              "      --fill-color: #D2E3FC;\n",
              "      --hover-bg-color: #434B5C;\n",
              "      --hover-fill-color: #FFFFFF;\n",
              "      --disabled-bg-color: #3B4455;\n",
              "      --disabled-fill-color: #666;\n",
              "  }\n",
              "\n",
              "  .colab-df-quickchart {\n",
              "    background-color: var(--bg-color);\n",
              "    border: none;\n",
              "    border-radius: 50%;\n",
              "    cursor: pointer;\n",
              "    display: none;\n",
              "    fill: var(--fill-color);\n",
              "    height: 32px;\n",
              "    padding: 0;\n",
              "    width: 32px;\n",
              "  }\n",
              "\n",
              "  .colab-df-quickchart:hover {\n",
              "    background-color: var(--hover-bg-color);\n",
              "    box-shadow: 0 1px 2px rgba(60, 64, 67, 0.3), 0 1px 3px 1px rgba(60, 64, 67, 0.15);\n",
              "    fill: var(--button-hover-fill-color);\n",
              "  }\n",
              "\n",
              "  .colab-df-quickchart-complete:disabled,\n",
              "  .colab-df-quickchart-complete:disabled:hover {\n",
              "    background-color: var(--disabled-bg-color);\n",
              "    fill: var(--disabled-fill-color);\n",
              "    box-shadow: none;\n",
              "  }\n",
              "\n",
              "  .colab-df-spinner {\n",
              "    border: 2px solid var(--fill-color);\n",
              "    border-color: transparent;\n",
              "    border-bottom-color: var(--fill-color);\n",
              "    animation:\n",
              "      spin 1s steps(1) infinite;\n",
              "  }\n",
              "\n",
              "  @keyframes spin {\n",
              "    0% {\n",
              "      border-color: transparent;\n",
              "      border-bottom-color: var(--fill-color);\n",
              "      border-left-color: var(--fill-color);\n",
              "    }\n",
              "    20% {\n",
              "      border-color: transparent;\n",
              "      border-left-color: var(--fill-color);\n",
              "      border-top-color: var(--fill-color);\n",
              "    }\n",
              "    30% {\n",
              "      border-color: transparent;\n",
              "      border-left-color: var(--fill-color);\n",
              "      border-top-color: var(--fill-color);\n",
              "      border-right-color: var(--fill-color);\n",
              "    }\n",
              "    40% {\n",
              "      border-color: transparent;\n",
              "      border-right-color: var(--fill-color);\n",
              "      border-top-color: var(--fill-color);\n",
              "    }\n",
              "    60% {\n",
              "      border-color: transparent;\n",
              "      border-right-color: var(--fill-color);\n",
              "    }\n",
              "    80% {\n",
              "      border-color: transparent;\n",
              "      border-right-color: var(--fill-color);\n",
              "      border-bottom-color: var(--fill-color);\n",
              "    }\n",
              "    90% {\n",
              "      border-color: transparent;\n",
              "      border-bottom-color: var(--fill-color);\n",
              "    }\n",
              "  }\n",
              "</style>\n",
              "\n",
              "  <script>\n",
              "    async function quickchart(key) {\n",
              "      const quickchartButtonEl =\n",
              "        document.querySelector('#' + key + ' button');\n",
              "      quickchartButtonEl.disabled = true;  // To prevent multiple clicks.\n",
              "      quickchartButtonEl.classList.add('colab-df-spinner');\n",
              "      try {\n",
              "        const charts = await google.colab.kernel.invokeFunction(\n",
              "            'suggestCharts', [key], {});\n",
              "      } catch (error) {\n",
              "        console.error('Error during call to suggestCharts:', error);\n",
              "      }\n",
              "      quickchartButtonEl.classList.remove('colab-df-spinner');\n",
              "      quickchartButtonEl.classList.add('colab-df-quickchart-complete');\n",
              "    }\n",
              "    (() => {\n",
              "      let quickchartButtonEl =\n",
              "        document.querySelector('#df-0c091522-0eda-4806-b4e1-96141520cb31 button');\n",
              "      quickchartButtonEl.style.display =\n",
              "        google.colab.kernel.accessAllowed ? 'block' : 'none';\n",
              "    })();\n",
              "  </script>\n",
              "</div>\n",
              "    </div>\n",
              "  </div>\n"
            ]
          },
          "metadata": {},
          "execution_count": 18
        }
      ]
    },
    {
      "cell_type": "markdown",
      "source": [
        "### <h2> df_test </h2> ###"
      ],
      "metadata": {
        "id": "V66YDq8_HKos"
      }
    },
    {
      "cell_type": "code",
      "source": [
        "time_features_distance(df_test)\n",
        "df_test.info()"
      ],
      "metadata": {
        "colab": {
          "base_uri": "https://localhost:8080/"
        },
        "id": "wgmXfXXsHNUX",
        "outputId": "720258db-0a6b-4aa6-83d1-3e036e830eb2"
      },
      "execution_count": null,
      "outputs": [
        {
          "output_type": "stream",
          "name": "stdout",
          "text": [
            "<class 'pandas.core.frame.DataFrame'>\n",
            "RangeIndex: 11040 entries, 0 to 11039\n",
            "Data columns (total 24 columns):\n",
            " #   Column         Non-Null Count  Dtype         \n",
            "---  ------         --------------  -----         \n",
            " 0   index          11040 non-null  int64         \n",
            " 1   timestamp      11040 non-null  datetime64[ns]\n",
            " 2   api_calls      11040 non-null  float64       \n",
            " 3   clouds         11040 non-null  float64       \n",
            " 4   distance_max   11040 non-null  float64       \n",
            " 5   distance_mean  11040 non-null  float64       \n",
            " 6   distance_min   11040 non-null  float64       \n",
            " 7   humidity       11040 non-null  float64       \n",
            " 8   rain           11040 non-null  float64       \n",
            " 9   surge_max      11040 non-null  float64       \n",
            " 10  surge_mean     11040 non-null  float64       \n",
            " 11  surge_min      11040 non-null  float64       \n",
            " 12  temp           11040 non-null  float64       \n",
            " 13  wind           11040 non-null  float64       \n",
            " 14  type           11040 non-null  int64         \n",
            " 15  hour_sin       11040 non-null  float64       \n",
            " 16  hour_cos       11040 non-null  float64       \n",
            " 17  dm_sin         11040 non-null  float64       \n",
            " 18  dm_cos         11040 non-null  float64       \n",
            " 19  dw_sin         11040 non-null  float64       \n",
            " 20  dw_cos         11040 non-null  float64       \n",
            " 21  hour           11040 non-null  int64         \n",
            " 22  dw             11040 non-null  int64         \n",
            " 23  dm             11040 non-null  int64         \n",
            "dtypes: datetime64[ns](1), float64(18), int64(5)\n",
            "memory usage: 2.0 MB\n"
          ]
        }
      ]
    },
    {
      "cell_type": "markdown",
      "source": [
        "## <h2> Other Variables </h2> ##"
      ],
      "metadata": {
        "id": "Pd2n2MGdZTIR"
      }
    },
    {
      "cell_type": "code",
      "source": [
        "def conditions(df):\n",
        "  conditions = [\n",
        "      (df['clouds'] < 0.2),  # clear\n",
        "      (df['clouds'] >= 0.2) & (df['clouds'] <= 0.7) & (df['rain'] < 0.2),  # cloudy\n",
        "      (df['rain'] >= 0.2)  # rainy\n",
        "  ]\n",
        "  choices = ['clear', 'cloudy', 'rainy']\n",
        "  df['weather_conditions'] = np.select(conditions, choices, default='unknown')\n",
        "\n",
        "def create_distance_category(group):\n",
        "    # Define thresholds for each group\n",
        "    distance_thresholds = [group['distance_mean'].min(), group['distance_mean'].quantile(0.33), group['distance_mean'].quantile(0.66), group['distance_mean'].max()]\n",
        "\n",
        "    # Create new feature for distance_mean categories\n",
        "    group['distance_mean_category'] = pd.cut(group['distance_mean'], bins=distance_thresholds, labels=['short', 'medium', 'long'])\n",
        "\n",
        "    return group"
      ],
      "metadata": {
        "id": "VZHzHFpR1wEi"
      },
      "execution_count": null,
      "outputs": []
    },
    {
      "cell_type": "code",
      "source": [
        "conditions(df_train)\n",
        "df_train = df_train.groupby('type').apply(create_distance_category)\n",
        "\n",
        "df_train = pd.get_dummies(df_train, columns=['weather_conditions'], drop_first=True)\n",
        "df_train = pd.get_dummies(df_train, columns=['distance_mean_category'], drop_first=True)\n",
        "df_train.info()"
      ],
      "metadata": {
        "colab": {
          "base_uri": "https://localhost:8080/"
        },
        "id": "j_HwwTUo8x2K",
        "outputId": "63719845-3a2b-43e2-e6eb-c36a3bc2ab06"
      },
      "execution_count": null,
      "outputs": [
        {
          "output_type": "stream",
          "name": "stdout",
          "text": [
            "<class 'pandas.core.frame.DataFrame'>\n",
            "Int64Index: 20163 entries, 0 to 20354\n",
            "Data columns (total 27 columns):\n",
            " #   Column                      Non-Null Count  Dtype         \n",
            "---  ------                      --------------  -----         \n",
            " 0   timestamp                   20163 non-null  datetime64[ns]\n",
            " 1   api_calls                   20163 non-null  float64       \n",
            " 2   clouds                      20163 non-null  float64       \n",
            " 3   distance_max                20163 non-null  float64       \n",
            " 4   distance_mean               20163 non-null  float64       \n",
            " 5   distance_min                20163 non-null  float64       \n",
            " 6   humidity                    20163 non-null  float64       \n",
            " 7   price_mean                  20163 non-null  float64       \n",
            " 8   rain                        20163 non-null  float64       \n",
            " 9   surge_max                   20163 non-null  float64       \n",
            " 10  surge_mean                  20163 non-null  float64       \n",
            " 11  surge_min                   20163 non-null  float64       \n",
            " 12  temp                        20163 non-null  float64       \n",
            " 13  wind                        20163 non-null  float64       \n",
            " 14  type                        20163 non-null  int64         \n",
            " 15  hour_sin                    20163 non-null  float64       \n",
            " 16  hour_cos                    20163 non-null  float64       \n",
            " 17  dm_sin                      20163 non-null  float64       \n",
            " 18  dm_cos                      20163 non-null  float64       \n",
            " 19  dw_sin                      20163 non-null  float64       \n",
            " 20  dw_cos                      20163 non-null  float64       \n",
            " 21  hour                        20163 non-null  int64         \n",
            " 22  dw                          20163 non-null  int64         \n",
            " 23  dm                          20163 non-null  int64         \n",
            " 24  weather_conditions_cloudy   20163 non-null  uint8         \n",
            " 25  weather_conditions_rainy    20163 non-null  uint8         \n",
            " 26  weather_conditions_unknown  20163 non-null  uint8         \n",
            "dtypes: datetime64[ns](1), float64(19), int64(4), uint8(3)\n",
            "memory usage: 3.9 MB\n"
          ]
        }
      ]
    },
    {
      "cell_type": "code",
      "source": [
        "conditions(df_test)\n",
        "df_test = df_test.groupby('type').apply(create_distance_category)\n",
        "\n",
        "df_test = pd.get_dummies(df_test, columns=['weather_conditions'], drop_first=True)\n",
        "df_test = pd.get_dummies(df_test, columns=['distance_mean_category'], drop_first=True)\n",
        "df_test.info()"
      ],
      "metadata": {
        "colab": {
          "base_uri": "https://localhost:8080/"
        },
        "id": "5UzuWqcS-DqK",
        "outputId": "5b1d7a43-824a-42e5-cee8-f11fa17098fd"
      },
      "execution_count": null,
      "outputs": [
        {
          "output_type": "stream",
          "name": "stdout",
          "text": [
            "<class 'pandas.core.frame.DataFrame'>\n",
            "RangeIndex: 11040 entries, 0 to 11039\n",
            "Data columns (total 27 columns):\n",
            " #   Column                      Non-Null Count  Dtype         \n",
            "---  ------                      --------------  -----         \n",
            " 0   index                       11040 non-null  int64         \n",
            " 1   timestamp                   11040 non-null  datetime64[ns]\n",
            " 2   api_calls                   11040 non-null  float64       \n",
            " 3   clouds                      11040 non-null  float64       \n",
            " 4   distance_max                11040 non-null  float64       \n",
            " 5   distance_mean               11040 non-null  float64       \n",
            " 6   distance_min                11040 non-null  float64       \n",
            " 7   humidity                    11040 non-null  float64       \n",
            " 8   rain                        11040 non-null  float64       \n",
            " 9   surge_max                   11040 non-null  float64       \n",
            " 10  surge_mean                  11040 non-null  float64       \n",
            " 11  surge_min                   11040 non-null  float64       \n",
            " 12  temp                        11040 non-null  float64       \n",
            " 13  wind                        11040 non-null  float64       \n",
            " 14  type                        11040 non-null  int64         \n",
            " 15  hour_sin                    11040 non-null  float64       \n",
            " 16  hour_cos                    11040 non-null  float64       \n",
            " 17  dm_sin                      11040 non-null  float64       \n",
            " 18  dm_cos                      11040 non-null  float64       \n",
            " 19  dw_sin                      11040 non-null  float64       \n",
            " 20  dw_cos                      11040 non-null  float64       \n",
            " 21  hour                        11040 non-null  int64         \n",
            " 22  dw                          11040 non-null  int64         \n",
            " 23  dm                          11040 non-null  int64         \n",
            " 24  weather_conditions_cloudy   11040 non-null  uint8         \n",
            " 25  weather_conditions_rainy    11040 non-null  uint8         \n",
            " 26  weather_conditions_unknown  11040 non-null  uint8         \n",
            "dtypes: datetime64[ns](1), float64(18), int64(5), uint8(3)\n",
            "memory usage: 2.1 MB\n"
          ]
        }
      ]
    },
    {
      "cell_type": "markdown",
      "source": [
        "# <h1> Part 4: Modelling </h1> #"
      ],
      "metadata": {
        "id": "JUJgfyhkLyO7"
      }
    },
    {
      "cell_type": "markdown",
      "source": [
        "<h2> Model-model yang udah ditrain per 11 November 17.11 WIB bisa diakses di\n",
        "https://github.com/JeftaAdriel/DataComp-PekanRistek23/tree/main/Model\n",
        "</h2>"
      ],
      "metadata": {
        "id": "x0azYfSv50KB"
      }
    },
    {
      "cell_type": "markdown",
      "source": [
        "## <h2> Preparing the Data & Functions </h2> ##"
      ],
      "metadata": {
        "id": "QX3rTtHiP-iQ"
      }
    },
    {
      "cell_type": "code",
      "source": [
        "num = df_train.select_dtypes(include = np.number)\n",
        "corr = num.corr()\n",
        "mask = np.triu(np.ones_like(corr, dtype=bool))\n",
        "f, ax = plt.subplots(figsize=(11, 9))\n",
        "cmap = sns.diverging_palette(230, 20, as_cmap=True)\n",
        "sns.heatmap(corr, mask=mask, cmap=cmap, vmax=.3, center=0,\n",
        "            square=True, linewidths=.5, cbar_kws={\"shrink\": .5})"
      ],
      "metadata": {
        "colab": {
          "base_uri": "https://localhost:8080/",
          "height": 952
        },
        "id": "yJH8SJoXTxdp",
        "outputId": "d2d7104f-ae97-401d-ecb6-388f190b812a"
      },
      "execution_count": null,
      "outputs": [
        {
          "output_type": "execute_result",
          "data": {
            "text/plain": [
              "<Axes: >"
            ]
          },
          "metadata": {},
          "execution_count": 30
        },
        {
          "output_type": "display_data",
          "data": {
            "text/plain": [
              "<Figure size 1100x900 with 2 Axes>"
            ],
            "image/png": "[encoded data removed]"
          },
          "metadata": {}
        }
      ]
    },
    {
      "cell_type": "code",
      "source": [
        "df_train.drop(columns=['timestamp'], axis=1, inplace=True)\n",
        "df_train = df_train.astype('float64')\n",
        "\n",
        "df_test.drop(columns=['timestamp', 'index'], axis=1, inplace=True)\n",
        "df_test = df_test.astype('float64')\n",
        "\n",
        "print(df_train.info())\n",
        "print(\"\")\n",
        "print(df_test.info())"
      ],
      "metadata": {
        "colab": {
          "base_uri": "https://localhost:8080/"
        },
        "id": "tKuU1dmrPEuP",
        "outputId": "1b562e0f-d3e2-4fc6-a109-a966b1e99495"
      },
      "execution_count": null,
      "outputs": [
        {
          "output_type": "stream",
          "name": "stdout",
          "text": [
            "<class 'pandas.core.frame.DataFrame'>\n",
            "Int64Index: 20163 entries, 0 to 20354\n",
            "Data columns (total 26 columns):\n",
            " #   Column                      Non-Null Count  Dtype  \n",
            "---  ------                      --------------  -----  \n",
            " 0   api_calls                   20163 non-null  float64\n",
            " 1   clouds                      20163 non-null  float64\n",
            " 2   distance_max                20163 non-null  float64\n",
            " 3   distance_mean               20163 non-null  float64\n",
            " 4   distance_min                20163 non-null  float64\n",
            " 5   humidity                    20163 non-null  float64\n",
            " 6   price_mean                  20163 non-null  float64\n",
            " 7   rain                        20163 non-null  float64\n",
            " 8   surge_max                   20163 non-null  float64\n",
            " 9   surge_mean                  20163 non-null  float64\n",
            " 10  surge_min                   20163 non-null  float64\n",
            " 11  temp                        20163 non-null  float64\n",
            " 12  wind                        20163 non-null  float64\n",
            " 13  type                        20163 non-null  float64\n",
            " 14  hour_sin                    20163 non-null  float64\n",
            " 15  hour_cos                    20163 non-null  float64\n",
            " 16  dm_sin                      20163 non-null  float64\n",
            " 17  dm_cos                      20163 non-null  float64\n",
            " 18  dw_sin                      20163 non-null  float64\n",
            " 19  dw_cos                      20163 non-null  float64\n",
            " 20  hour                        20163 non-null  float64\n",
            " 21  dw                          20163 non-null  float64\n",
            " 22  dm                          20163 non-null  float64\n",
            " 23  weather_conditions_cloudy   20163 non-null  float64\n",
            " 24  weather_conditions_rainy    20163 non-null  float64\n",
            " 25  weather_conditions_unknown  20163 non-null  float64\n",
            "dtypes: float64(26)\n",
            "memory usage: 4.2 MB\n",
            "None\n",
            "\n",
            "<class 'pandas.core.frame.DataFrame'>\n",
            "RangeIndex: 11040 entries, 0 to 11039\n",
            "Data columns (total 25 columns):\n",
            " #   Column                      Non-Null Count  Dtype  \n",
            "---  ------                      --------------  -----  \n",
            " 0   api_calls                   11040 non-null  float64\n",
            " 1   clouds                      11040 non-null  float64\n",
            " 2   distance_max                11040 non-null  float64\n",
            " 3   distance_mean               11040 non-null  float64\n",
            " 4   distance_min                11040 non-null  float64\n",
            " 5   humidity                    11040 non-null  float64\n",
            " 6   rain                        11040 non-null  float64\n",
            " 7   surge_max                   11040 non-null  float64\n",
            " 8   surge_mean                  11040 non-null  float64\n",
            " 9   surge_min                   11040 non-null  float64\n",
            " 10  temp                        11040 non-null  float64\n",
            " 11  wind                        11040 non-null  float64\n",
            " 12  type                        11040 non-null  float64\n",
            " 13  hour_sin                    11040 non-null  float64\n",
            " 14  hour_cos                    11040 non-null  float64\n",
            " 15  dm_sin                      11040 non-null  float64\n",
            " 16  dm_cos                      11040 non-null  float64\n",
            " 17  dw_sin                      11040 non-null  float64\n",
            " 18  dw_cos                      11040 non-null  float64\n",
            " 19  hour                        11040 non-null  float64\n",
            " 20  dw                          11040 non-null  float64\n",
            " 21  dm                          11040 non-null  float64\n",
            " 22  weather_conditions_cloudy   11040 non-null  float64\n",
            " 23  weather_conditions_rainy    11040 non-null  float64\n",
            " 24  weather_conditions_unknown  11040 non-null  float64\n",
            "dtypes: float64(25)\n",
            "memory usage: 2.1 MB\n",
            "None\n"
          ]
        }
      ]
    },
    {
      "cell_type": "markdown",
      "source": [
        "### <h2> Scaled Version (for Non-Tree Based Model) </h2> ###"
      ],
      "metadata": {
        "id": "VGQ9LIj92w9l"
      }
    },
    {
      "cell_type": "code",
      "source": [
        "X_train_df = df_train.drop(columns=['price_mean', 'hour', 'type', 'hour_sin', 'hour_cos',\n",
        "                                    'dm_sin', 'dm_cos', 'dw_sin', 'dw_cos', 'dw', 'dm',\n",
        "                                    'weather_conditions_cloudy', 'weather_conditions_rainy',\n",
        "                                    'weather_conditions_unknown', 'clouds', 'rain', 'humidity'], axis=1)\n",
        "y_train_df = df_train[['price_mean']]\n",
        "y_train = np.ravel(df_train[['price_mean']])\n",
        "\n",
        "scaler = RobustScaler()\n",
        "X_train = scaler.fit_transform(X_train_df)\n",
        "\n",
        "# Convert the columns to a NumPy array\n",
        "time_of_day_cols = df_train[['hour', 'type', 'hour_sin', 'hour_cos',\n",
        "                             'dm_sin', 'dm_cos', 'dw_sin', 'dw_cos', 'dw', 'dm',\n",
        "                             'weather_conditions_cloudy', 'weather_conditions_rainy',\n",
        "                             'weather_conditions_unknown', 'clouds', 'rain', 'humidity']].values\n",
        "\n",
        "# Concatenate the arrays along the second axis (columns)\n",
        "X_train = np.concatenate([X_train, time_of_day_cols], axis=1)"
      ],
      "metadata": {
        "id": "3tw56-TwSWF3"
      },
      "execution_count": null,
      "outputs": []
    },
    {
      "cell_type": "code",
      "source": [
        "X_test_df = df_test.drop(columns=['hour', 'type', 'hour_sin', 'hour_cos',\n",
        "                                  'dm_sin', 'dm_cos', 'dw_sin', 'dw_cos', 'dw', 'dm',\n",
        "                                  'weather_conditions_cloudy', 'weather_conditions_rainy',\n",
        "                                  'weather_conditions_unknown', 'clouds', 'rain', 'humidity'], axis=1)\n",
        "X_test = scaler.fit_transform(X_test_df)\n",
        "\n",
        "time_of_day_cols = df_test[['hour', 'type', 'hour_sin', 'hour_cos',\n",
        "                            'dm_sin', 'dm_cos', 'dw_sin', 'dw_cos', 'dw', 'dm',\n",
        "                            'weather_conditions_cloudy', 'weather_conditions_rainy',\n",
        "                            'weather_conditions_unknown', 'clouds', 'rain', 'humidity']].values\n",
        "\n",
        "X_test = np.concatenate([X_test, time_of_day_cols], axis=1)"
      ],
      "metadata": {
        "id": "-0fP0lTZt_sq"
      },
      "execution_count": null,
      "outputs": []
    },
    {
      "cell_type": "markdown",
      "source": [
        "### <h2> Non-Scaled Version (for Tree Based Model) </h2> ###"
      ],
      "metadata": {
        "id": "4_FGDRxm21W0"
      }
    },
    {
      "cell_type": "code",
      "source": [
        "\n",
        "X_train_nonscaled = df_train.drop(columns=['price_mean'], axis=1)\n",
        "y_train_nonscaled = df_train[['price_mean']]\n",
        "X_test_nonscaled = df_test.copy()\n"
      ],
      "metadata": {
        "id": "h082KHup25Fv"
      },
      "execution_count": null,
      "outputs": []
    },
    {
      "cell_type": "markdown",
      "source": [
        "### <h2> Functions </h2> ###"
      ],
      "metadata": {
        "id": "lXM_R9bE3mIP"
      }
    },
    {
      "cell_type": "code",
      "source": [
        "def feature_importance_viz(df, model):\n",
        "\n",
        "  # Assuming features is a list of column names in the order used for training\n",
        "  features = df.drop(['price_mean'], axis=1).columns.tolist()\n",
        "\n",
        "  # Get feature importances from your model\n",
        "  importances = list(model.feature_importances_)\n",
        "\n",
        "  # Create a DataFrame to make sorting easier\n",
        "  importance_df = pd.DataFrame({\n",
        "      'feature': features,\n",
        "      'importance': importances\n",
        "  })\n",
        "\n",
        "  # Sort the DataFrame by importance in descending order\n",
        "  importance_df = importance_df.sort_values(by='importance', ascending=False)\n",
        "\n",
        "  # Plot the feature importances\n",
        "  plt.figure(figsize=(10, 6))\n",
        "  plt.barh(importance_df['feature'], importance_df['importance'], color='skyblue')\n",
        "  plt.xlabel('Importance')\n",
        "  plt.ylabel('Feature')\n",
        "  plt.title('Feature Importance')\n",
        "  plt.gca().invert_yaxis()  # Invert the y-axis to show the feature with the highest importance at the top\n",
        "  plt.show()"
      ],
      "metadata": {
        "id": "QrZCNjG9u1VM"
      },
      "execution_count": null,
      "outputs": []
    },
    {
      "cell_type": "markdown",
      "source": [
        "## <h2> LazyRegressor </h2> ##"
      ],
      "metadata": {
        "id": "Z-i-tQcAFw0q"
      }
    },
    {
      "cell_type": "code",
      "source": [
        "X_train2, X_test2, y_train2, y_test2 = train_test_split(X_train, y_train_df, test_size = 0.3, random_state = 123)"
      ],
      "metadata": {
        "id": "Om8YFih_GlHb"
      },
      "execution_count": null,
      "outputs": []
    },
    {
      "cell_type": "code",
      "source": [
        "reg = LazyRegressor(verbose=0, ignore_warnings=False, custom_metric=None)\n",
        "models,pred = reg.fit(X_train2, X_test2, y_train2, y_test2)\n",
        "models"
      ],
      "metadata": {
        "id": "tsOsjRpJF1Cw",
        "colab": {
          "base_uri": "https://localhost:8080/",
          "height": 254
        },
        "outputId": "52637752-fd51-45e2-99fd-16c1d26154f3"
      },
      "execution_count": null,
      "outputs": [
        {
          "output_type": "error",
          "ename": "SyntaxError",
          "evalue": "ignored",
          "traceback": [
            "\u001b[0;31m---------------------------------------------------------------------------\u001b[0m",
            "\u001b[0;31mSyntaxError\u001b[0m                               Traceback (most recent call last)",
            "\u001b[0;32m/usr/local/lib/python3.10/dist-packages/IPython/core/compilerop.py\u001b[0m in \u001b[0;36mast_parse\u001b[0;34m(self, source, filename, symbol)\u001b[0m\n\u001b[1;32m     99\u001b[0m         \u001b[0mArguments\u001b[0m \u001b[0mare\u001b[0m \u001b[0mexactly\u001b[0m \u001b[0mthe\u001b[0m \u001b[0msame\u001b[0m \u001b[0;32mas\u001b[0m \u001b[0mast\u001b[0m\u001b[0;34m.\u001b[0m\u001b[0mparse\u001b[0m \u001b[0;34m(\u001b[0m\u001b[0;32min\u001b[0m \u001b[0mthe\u001b[0m \u001b[0mstandard\u001b[0m \u001b[0mlibrary\u001b[0m\u001b[0;34m)\u001b[0m\u001b[0;34m,\u001b[0m\u001b[0;34m\u001b[0m\u001b[0;34m\u001b[0m\u001b[0m\n\u001b[1;32m    100\u001b[0m         and are passed to the built-in compile function.\"\"\"\n\u001b[0;32m--> 101\u001b[0;31m         \u001b[0;32mreturn\u001b[0m \u001b[0mcompile\u001b[0m\u001b[0;34m(\u001b[0m\u001b[0msource\u001b[0m\u001b[0;34m,\u001b[0m \u001b[0mfilename\u001b[0m\u001b[0;34m,\u001b[0m \u001b[0msymbol\u001b[0m\u001b[0;34m,\u001b[0m \u001b[0mself\u001b[0m\u001b[0;34m.\u001b[0m\u001b[0mflags\u001b[0m \u001b[0;34m|\u001b[0m \u001b[0mPyCF_ONLY_AST\u001b[0m\u001b[0;34m,\u001b[0m \u001b[0;36m1\u001b[0m\u001b[0;34m)\u001b[0m\u001b[0;34m\u001b[0m\u001b[0;34m\u001b[0m\u001b[0m\n\u001b[0m\u001b[1;32m    102\u001b[0m \u001b[0;34m\u001b[0m\u001b[0m\n\u001b[1;32m    103\u001b[0m     \u001b[0;32mdef\u001b[0m \u001b[0mreset_compiler_flags\u001b[0m\u001b[0;34m(\u001b[0m\u001b[0mself\u001b[0m\u001b[0;34m)\u001b[0m\u001b[0;34m:\u001b[0m\u001b[0;34m\u001b[0m\u001b[0;34m\u001b[0m\u001b[0m\n",
            "\u001b[0;31mSyntaxError\u001b[0m: incomplete input (<ipython-input-35-a76e0d18e8d5>, line 1)"
          ]
        }
      ]
    },
    {
      "cell_type": "markdown",
      "source": [
        "## <h2> XGBoost (FAILED) </h2> ##"
      ],
      "metadata": {
        "id": "A_-E4Y799ITG"
      }
    },
    {
      "cell_type": "markdown",
      "source": [
        "### <h2> Hyperopt Package </h2> ###"
      ],
      "metadata": {
        "id": "X-N4r2JooaDu"
      }
    },
    {
      "cell_type": "code",
      "source": [
        "# Hyperopt Package\n",
        "\n",
        "space = {'max_depth': hp.quniform('max_depth', 1, 4, 1),\n",
        "         'gamma': hp.uniform('gamma', 7.0, 12.0),\n",
        "         'learning_rate': hp.quniform('learning_rate', 0.001, 1, 0.001),\n",
        "         'n_estimators': hp.quniform('n_estimators', 500, 750, 50),\n",
        "         #'min_child_weight': hp.uniform('min_child_weight', 5, 10),\n",
        "         'subsample': hp.uniform('subsample', 0.8, 1),\n",
        "         'colsample_bytree': hp.uniform('colsample_bytree', 0.7, 1),\n",
        "         'reg_alpha': hp.uniform('reg_alpha', 1, 5),\n",
        "         'reg_lambda': hp.uniform('reg_lambda', 9, 14),\n",
        "         'random_state': hp.choice('random_state', [123])}\n",
        "\n",
        "iteration_counter = {\"iteration\": 0}\n",
        "kf = KFold(n_splits=30, shuffle=True, random_state=123)\n",
        "\n",
        "def objective_XGB(params):\n",
        "  iteration_counter[\"iteration\"] += 1\n",
        "  params['max_depth'] = int(params['max_depth'])\n",
        "  params['n_estimators'] = int(params['n_estimators'])\n",
        "  xgb = XGBRegressor(objective='reg:squarederror', **params)\n",
        "  best_score = cross_val_score(xgb, X_train_nonscaled, y_train_nonscaled, scoring='neg_root_mean_squared_error', cv=kf).mean()\n",
        "  print(f\"Iteration: {iteration_counter['iteration']}, RMSE: {-best_score}, Params: {params}\")\n",
        "  return {'loss': -best_score, 'status': STATUS_OK}\n",
        "\n",
        "trials = Trials()\n",
        "best = fmin(fn=objective_XGB, space=space, algo=tpe.suggest, max_evals=60, trials=trials, rstate=np.random.default_rng(123))\n",
        "\n",
        "print(best)\n"
      ],
      "metadata": {
        "id": "55hgvjLzWOge"
      },
      "execution_count": null,
      "outputs": []
    },
    {
      "cell_type": "code",
      "source": [
        "#Hyperopt Package\n",
        "\n",
        "# Get the best parameters\n",
        "best_params = space_eval(space, best)\n",
        "\n",
        "# Convert any float hyperparameters to int\n",
        "best_params['max_depth'] = int(best_params['max_depth'])\n",
        "best_params['n_estimators'] = int(best_params['n_estimators'])\n",
        "\n",
        "# Create the final model\n",
        "xgb_hyperopt = XGBRegressor(objective='reg:squarederror', **best_params)\n",
        "print(xgb_hyperopt)\n",
        "xgb_hyperopt.fit(X_train_nonscaled, y_train_nonscaled)\n",
        "train_preds_xgb = xgb_hyperopt.predict(X_train_nonscaled)\n",
        "train_rmse_xgb = np.sqrt(mse(y_train_nonscaled, train_preds_xgb))\n",
        "\n",
        "print(\"\")\n",
        "print(f\"Train RMSE XGBoost Model: {train_rmse_xgb}\")"
      ],
      "metadata": {
        "id": "x2n9HMKXy2Ms"
      },
      "execution_count": null,
      "outputs": []
    },
    {
      "cell_type": "code",
      "source": [
        "feature_importance_viz(xgb_hyperopt)"
      ],
      "metadata": {
        "id": "lPyV7oxe5654"
      },
      "execution_count": null,
      "outputs": []
    },
    {
      "cell_type": "code",
      "source": [
        "analysis = df_train.copy()\n",
        "analysis['pred'] = train_preds_xgb\n",
        "analysis['error'] = analysis['price_mean'] - analysis['pred']\n",
        "analysis['abs_error'] = np.abs(analysis['error'])\n",
        "\n",
        "errors = analysis.groupby('hour')[['error', 'abs_error']].agg('mean').sort_values(by='abs_error', ascending=False)\n",
        "errors[:10]"
      ],
      "metadata": {
        "id": "3yWiOaFOFQDN"
      },
      "execution_count": null,
      "outputs": []
    },
    {
      "cell_type": "markdown",
      "source": [
        "### <h2> Optuna Package (Better than Hyperopt so far) </h2> ###"
      ],
      "metadata": {
        "id": "Lv9HQyuGoTb9"
      }
    },
    {
      "cell_type": "code",
      "source": [
        "start=time.time()\n",
        "\n",
        "kf = KFold(n_splits=30, shuffle=True, random_state=123)\n",
        "\n",
        "def objective(trial):\n",
        "  params = {'max_depth': 5,\n",
        "            'eval_metric': 'rmse',\n",
        "            'gamma': trial.suggest_float('gamma', 8.8, 9.2),\n",
        "            'learning_rate': trial.suggest_float('learning_rate', 0.021, 0.024, log=True),\n",
        "            'n_estimators': 750,\n",
        "            'subsample': trial.suggest_float('subsample', 0.77, 0.78),\n",
        "            'colsample_bytree': trial.suggest_float('colsample_bytree', 0.84, 0.855),\n",
        "            'reg_alpha': trial.suggest_float('reg_alpha', 3.0, 3.65),\n",
        "            'reg_lambda': trial.suggest_float('reg_lambda', 9.8, 9.9),\n",
        "            'random_state': 123}\n",
        "\n",
        "  xgb = XGBRegressor(objective='reg:squarederror', **params)\n",
        "  best_score = cross_val_score(xgb, X_train_nonscaled, y_train_nonscaled, scoring='neg_root_mean_squared_error', cv=kf).mean()\n",
        "  return -best_score\n",
        "\n",
        "sampler = TPESampler(seed=123)\n",
        "study_xgb = optuna.create_study(direction='minimize', sampler=sampler)\n",
        "study_xgb.optimize(objective, n_trials=30)\n",
        "\n",
        "end = time.time()\n",
        "duration = end - start\n",
        "print(f\"The cell took {duration} seconds to run.\")"
      ],
      "metadata": {
        "id": "tfIzN1zajPTx"
      },
      "execution_count": null,
      "outputs": []
    },
    {
      "cell_type": "code",
      "source": [
        "print('Best hyperparameters:', study_xgb.best_params)\n",
        "print('Best RMSE:', study_xgb.best_value)"
      ],
      "metadata": {
        "id": "UDDpOboRp9i7"
      },
      "execution_count": null,
      "outputs": []
    },
    {
      "cell_type": "code",
      "source": [
        "study_xgb.trials_dataframe().sort_values('value', ascending=True).head(5)"
      ],
      "metadata": {
        "id": "JPFF_x81oiwW"
      },
      "execution_count": null,
      "outputs": []
    },
    {
      "cell_type": "code",
      "source": [
        "#Visualize parameter importances.\n",
        "optuna.visualization.plot_param_importances(study_xgb)"
      ],
      "metadata": {
        "id": "92zXAPRLqESN"
      },
      "execution_count": null,
      "outputs": []
    },
    {
      "cell_type": "code",
      "source": [
        "optuna.visualization.plot_slice(study_xgb)"
      ],
      "metadata": {
        "id": "TxVMaUtDqOd5"
      },
      "execution_count": null,
      "outputs": []
    },
    {
      "cell_type": "code",
      "source": [
        "optuna.visualization.plot_optimization_history(study_xgb)"
      ],
      "metadata": {
        "id": "CdZgmE3wqahB"
      },
      "execution_count": null,
      "outputs": []
    },
    {
      "cell_type": "code",
      "source": [
        "# Best Parameter\n",
        "best_params_xgb = study_xgb.best_params\n",
        "\n",
        "# Create the final model\n",
        "xgb_optuna = XGBRegressor(objective='reg:squarederror',\n",
        "                          n_estimators=750, eval_metric='rmse',\n",
        "                          **best_params_xgb)\n",
        "print(xgb_optuna)\n",
        "xgb_optuna.fit(X_train_nonscaled, y_train_nonscaled)\n",
        "train_preds_xgb = xgb_optuna.predict(X_train_nonscaled)\n",
        "train_rmse_xgb = np.sqrt(mse(y_train_nonscaled, train_preds_xgb))\n",
        "\n",
        "print(\"\")\n",
        "print(f\"Train RMSE XGBoost Model: {train_rmse_xgb}\")"
      ],
      "metadata": {
        "id": "sXs_uHuQou4z"
      },
      "execution_count": null,
      "outputs": []
    },
    {
      "cell_type": "code",
      "source": [
        "feature_importance_viz(df_train, xgb_optuna)"
      ],
      "metadata": {
        "id": "4HZd_e0BukKI"
      },
      "execution_count": null,
      "outputs": []
    },
    {
      "cell_type": "code",
      "source": [
        "pickle.dump(xgb_optuna, open('20231111-1711-XGB.pkl', 'wb'))"
      ],
      "metadata": {
        "id": "ygKfqngh5VVC"
      },
      "execution_count": null,
      "outputs": []
    },
    {
      "cell_type": "code",
      "source": [
        "model = pickle.load(open('https://github.com/JeftaAdriel/DataComp-PekanRistek23/blob/raw/Model/20231111-1711-LGBM.pkl', 'rb'))"
      ],
      "metadata": {
        "id": "z0J63fby5s-N"
      },
      "execution_count": null,
      "outputs": []
    },
    {
      "cell_type": "markdown",
      "source": [
        "## <h2> LightGBM (FAILED) </h2> ##"
      ],
      "metadata": {
        "id": "32p4DsWC9WdB"
      }
    },
    {
      "cell_type": "markdown",
      "source": [
        "### <h2> Boosting = gbdt (Better than goss so far) </h2> ###"
      ],
      "metadata": {
        "id": "C9uQGNYyB_1m"
      }
    },
    {
      "cell_type": "markdown",
      "source": [
        "#### <h2> Hyperparameter Tuning </h2> ####"
      ],
      "metadata": {
        "id": "fntO5XnGuqN_"
      }
    },
    {
      "cell_type": "code",
      "source": [
        "start=time.time()\n",
        "\n",
        "kf = KFold(n_splits=15, shuffle=True, random_state=123)\n",
        "\n",
        "def objective(trial):\n",
        "  params = {\"objective\": \"regression\",\n",
        "            \"metric\": \"rmse\",\n",
        "            \"boosting\": \"gbdt\",\n",
        "            \"n_estimators\": 1033,\n",
        "            \"verbosity\": -1,\n",
        "            \"random_state\": 123,\n",
        "            \"bagging_freq\": 1,\n",
        "            \"bagging_seed\": 123,\n",
        "            \"feature_selection_seed\": 123,\n",
        "            \"max_depth\": 8,\n",
        "            \"learning_rate\": trial.suggest_float(\"learning_rate\", 0.055, 0.0552, log=True),\n",
        "            \"num_leaves\": 21,\n",
        "            \"subsample\": trial.suggest_float(\"subsample\", 0.8924, 0.8925, log=True),\n",
        "            \"colsample_bytree\": trial.suggest_float(\"colsample_bytree\", 0.749772, 0.749774, log=True),\n",
        "            \"lambda_l1\": trial.suggest_float(\"lambda_l1\", 0.141982, 0.141986, log=True),\n",
        "            \"lambda_l2\": trial.suggest_float(\"lambda_l2\", 0.139204, 0.139206, log=True),\n",
        "            \"min_gain_to_split\": trial.suggest_float(\"min_gain_to_split\", 0.10626, 0.106265, log=True),\n",
        "            \"min_data_in_leaf\": 30}\n",
        "\n",
        "  model = LGBMRegressor(**params)\n",
        "  best_score = cross_val_score(model, X_train_nonscaled, np.ravel(y_train_nonscaled), scoring='neg_root_mean_squared_error', cv=kf).mean()\n",
        "  return -best_score\n",
        "\n",
        "sampler = TPESampler(seed=123)\n",
        "study_lgb_gbdt = optuna.create_study(direction='minimize', sampler=sampler)\n",
        "study_lgb_gbdt.optimize(objective, n_trials=30)\n",
        "\n",
        "end = time.time()\n",
        "duration = end - start\n",
        "print(f\"The cell took {duration} seconds to run.\")"
      ],
      "metadata": {
        "colab": {
          "base_uri": "https://localhost:8080/"
        },
        "id": "I2e2YBcB_6t4",
        "outputId": "f4cce254-924b-460d-d19f-fd51b2bd406a"
      },
      "execution_count": null,
      "outputs": [
        {
          "output_type": "stream",
          "name": "stderr",
          "text": [
            "[I 2023-11-15 17:34:09,596] A new study created in memory with name: no-name-c8ea2e14-327c-43aa-9d81-fce7a0221e64\n",
            "[I 2023-11-15 17:35:02,576] Trial 0 finished with value: 0.584856662512576 and parameters: {'learning_rate': 0.05513921708565148, 'subsample': 0.892428612789106, 'colsample_bytree': 0.7497724537024393, 'lambda_l1': 0.1419842052451386, 'lambda_l2': 0.13920543893503975, 'min_gain_to_split': 0.10626211550358786}. Best is trial 0 with value: 0.584856662512576.\n",
            "[I 2023-11-15 17:35:50,080] Trial 1 finished with value: 0.5846951031940851 and parameters: {'learning_rate': 0.055196145987851206, 'subsample': 0.892468481764606, 'colsample_bytree': 0.749772961863137, 'lambda_l1': 0.14198356845664245, 'lambda_l2': 0.13920468635279382, 'min_gain_to_split': 0.1062636452253}. Best is trial 1 with value: 0.5846951031940851.\n",
            "[I 2023-11-15 17:36:37,078] Trial 2 finished with value: 0.5846978188257462 and parameters: {'learning_rate': 0.05508762508104686, 'subsample': 0.8924059674752707, 'colsample_bytree': 0.7497727960878715, 'lambda_l1': 0.14198495197072827, 'lambda_l2': 0.13920436498131747, 'min_gain_to_split': 0.106260877241763}. Best is trial 1 with value: 0.5846951031940851.\n",
            "[I 2023-11-15 17:37:25,610] Trial 3 finished with value: 0.5850589597434267 and parameters: {'learning_rate': 0.05510621988848097, 'subsample': 0.8924531813637446, 'colsample_bytree': 0.7497732688012985, 'lambda_l1': 0.14198539771996999, 'lambda_l2': 0.13920544890778172, 'min_gain_to_split': 0.106263055089595}. Best is trial 1 with value: 0.5846951031940851.\n",
            "[I 2023-11-15 17:38:13,193] Trial 4 finished with value: 0.5850036032977309 and parameters: {'learning_rate': 0.05514441587321636, 'subsample': 0.8924322946663586, 'colsample_bytree': 0.7497727235766953, 'lambda_l1': 0.14198291304299798, 'lambda_l2': 0.13920458742511232, 'min_gain_to_split': 0.1062631548532289}. Best is trial 1 with value: 0.5846951031940851.\n",
            "[I 2023-11-15 17:39:01,085] Trial 5 finished with value: 0.5849354752686721 and parameters: {'learning_rate': 0.055018390650263066, 'subsample': 0.8924433687412588, 'colsample_bytree': 0.7497728617248726, 'lambda_l1': 0.14198397472630675, 'lambda_l2': 0.1392048516570678, 'min_gain_to_split': 0.10626156128085273}. Best is trial 1 with value: 0.5846951031940851.\n",
            "[I 2023-11-15 17:39:48,637] Trial 6 finished with value: 0.5852199438361765 and parameters: {'learning_rate': 0.05508518149395922, 'subsample': 0.8924893383826887, 'colsample_bytree': 0.7497738883198958, 'lambda_l1': 0.14198400733261765, 'lambda_l2': 0.1392052479025325, 'min_gain_to_split': 0.10626057807994736}. Best is trial 1 with value: 0.5846951031940851.\n",
            "[I 2023-11-15 17:40:38,302] Trial 7 finished with value: 0.5851505707707504 and parameters: {'learning_rate': 0.055063378487397154, 'subsample': 0.8924414812612051, 'colsample_bytree': 0.7497737326180068, 'lambda_l1': 0.14198300181088422, 'lambda_l2': 0.13920496606494082, 'min_gain_to_split': 0.10626492779725394}. Best is trial 1 with value: 0.5846951031940851.\n",
            "[I 2023-11-15 17:41:27,139] Trial 8 finished with value: 0.585380952918425 and parameters: {'learning_rate': 0.055103806415350794, 'subsample': 0.8924612881233375, 'colsample_bytree': 0.749772241257049, 'lambda_l1': 0.1419853053551165, 'lambda_l2': 0.1392052061168176, 'min_gain_to_split': 0.10626272531086292}. Best is trial 1 with value: 0.5846951031940851.\n",
            "[I 2023-11-15 17:42:15,199] Trial 9 finished with value: 0.5849432406107665 and parameters: {'learning_rate': 0.05506847101208259, 'subsample': 0.8924304108932352, 'colsample_bytree': 0.7497728340437736, 'lambda_l1': 0.14198472519082908, 'lambda_l2': 0.13920575091211707, 'min_gain_to_split': 0.10626255208229184}. Best is trial 1 with value: 0.5846951031940851.\n",
            "[I 2023-11-15 17:43:01,683] Trial 10 finished with value: 0.5848923597378254 and parameters: {'learning_rate': 0.05519686536034392, 'subsample': 0.8924995134589433, 'colsample_bytree': 0.7497731936124702, 'lambda_l1': 0.14198203224412306, 'lambda_l2': 0.13920409296763517, 'min_gain_to_split': 0.1062641482241321}. Best is trial 1 with value: 0.5846951031940851.\n",
            "[I 2023-11-15 17:43:47,872] Trial 11 finished with value: 0.5848136049644348 and parameters: {'learning_rate': 0.05519132200715659, 'subsample': 0.8924199246793025, 'colsample_bytree': 0.7497721371255573, 'lambda_l1': 0.14198595397136132, 'lambda_l2': 0.13920440356578104, 'min_gain_to_split': 0.10626011338199476}. Best is trial 1 with value: 0.5846951031940851.\n",
            "[I 2023-11-15 17:44:35,122] Trial 12 finished with value: 0.5849905410508884 and parameters: {'learning_rate': 0.05515925044051852, 'subsample': 0.8924002273844305, 'colsample_bytree': 0.7497725723717302, 'lambda_l1': 0.14198486481139802, 'lambda_l2': 0.139204564174368, 'min_gain_to_split': 0.10626119639915088}. Best is trial 1 with value: 0.5846951031940851.\n",
            "[I 2023-11-15 17:45:22,755] Trial 13 finished with value: 0.5846610627903153 and parameters: {'learning_rate': 0.055125967660963414, 'subsample': 0.8924698701196704, 'colsample_bytree': 0.7497731376298971, 'lambda_l1': 0.14198344627050616, 'lambda_l2': 0.13920409226525732, 'min_gain_to_split': 0.10626369388720228}. Best is trial 13 with value: 0.5846610627903153.\n",
            "[I 2023-11-15 17:46:09,916] Trial 14 finished with value: 0.584239957667465 and parameters: {'learning_rate': 0.05517309504901064, 'subsample': 0.8924702987006848, 'colsample_bytree': 0.749773169801254, 'lambda_l1': 0.14198332152002605, 'lambda_l2': 0.13920411730472132, 'min_gain_to_split': 0.10626365225413172}. Best is trial 14 with value: 0.584239957667465.\n",
            "[I 2023-11-15 17:46:59,717] Trial 15 finished with value: 0.5853416823024344 and parameters: {'learning_rate': 0.05516009046936877, 'subsample': 0.8924732329011577, 'colsample_bytree': 0.7497733731638846, 'lambda_l1': 0.14198331584854595, 'lambda_l2': 0.13920402456766334, 'min_gain_to_split': 0.1062638796296971}. Best is trial 14 with value: 0.584239957667465.\n",
            "[I 2023-11-15 17:47:47,258] Trial 16 finished with value: 0.5857103855094683 and parameters: {'learning_rate': 0.05512030640958977, 'subsample': 0.892480058367977, 'colsample_bytree': 0.7497735537086058, 'lambda_l1': 0.14198274629946725, 'lambda_l2': 0.13920417759199996, 'min_gain_to_split': 0.10626455015664951}. Best is trial 14 with value: 0.584239957667465.\n",
            "[I 2023-11-15 17:48:37,811] Trial 17 finished with value: 0.5851561906195208 and parameters: {'learning_rate': 0.05516837960689751, 'subsample': 0.8924613652668563, 'colsample_bytree': 0.7497731045537831, 'lambda_l1': 0.1419835568935745, 'lambda_l2': 0.13920425463011907, 'min_gain_to_split': 0.10626345309986361}. Best is trial 14 with value: 0.584239957667465.\n",
            "[I 2023-11-15 17:49:25,805] Trial 18 finished with value: 0.5850950421151703 and parameters: {'learning_rate': 0.05513768243486831, 'subsample': 0.8924786862914685, 'colsample_bytree': 0.7497734525026245, 'lambda_l1': 0.14198240808439977, 'lambda_l2': 0.13920434296719383, 'min_gain_to_split': 0.10626421326312789}. Best is trial 14 with value: 0.584239957667465.\n",
            "[I 2023-11-15 17:50:13,130] Trial 19 finished with value: 0.5853384478280521 and parameters: {'learning_rate': 0.05517623677179543, 'subsample': 0.892458226961492, 'colsample_bytree': 0.7497730729515885, 'lambda_l1': 0.1419832797403494, 'lambda_l2': 0.1392040493887381, 'min_gain_to_split': 0.10626353815196933}. Best is trial 14 with value: 0.584239957667465.\n",
            "[I 2023-11-15 17:51:00,945] Trial 20 finished with value: 0.5848579528831795 and parameters: {'learning_rate': 0.055125025025228314, 'subsample': 0.8924679444123683, 'colsample_bytree': 0.7497732602324272, 'lambda_l1': 0.14198249644569627, 'lambda_l2': 0.13920401524714382, 'min_gain_to_split': 0.10626205648428673}. Best is trial 14 with value: 0.584239957667465.\n",
            "[I 2023-11-15 17:51:48,044] Trial 21 finished with value: 0.5838001777594004 and parameters: {'learning_rate': 0.05518561898351329, 'subsample': 0.8924682830441075, 'colsample_bytree': 0.7497730380371841, 'lambda_l1': 0.14198366635078713, 'lambda_l2': 0.1392046564091746, 'min_gain_to_split': 0.10626376336466238}. Best is trial 21 with value: 0.5838001777594004.\n",
            "[I 2023-11-15 17:52:36,500] Trial 22 finished with value: 0.585273821425268 and parameters: {'learning_rate': 0.05517686863112952, 'subsample': 0.8924836527677968, 'colsample_bytree': 0.7497730313980344, 'lambda_l1': 0.14198377042020607, 'lambda_l2': 0.13920447485515994, 'min_gain_to_split': 0.10626416768346289}. Best is trial 21 with value: 0.5838001777594004.\n",
            "[I 2023-11-15 17:53:28,211] Trial 23 finished with value: 0.5849933385361084 and parameters: {'learning_rate': 0.05515301980392016, 'subsample': 0.8924710382251426, 'colsample_bytree': 0.7497731334921386, 'lambda_l1': 0.1419832266147115, 'lambda_l2': 0.13920423038766547, 'min_gain_to_split': 0.10626315894768486}. Best is trial 21 with value: 0.5838001777594004.\n",
            "[I 2023-11-15 17:54:16,090] Trial 24 finished with value: 0.5847635330026666 and parameters: {'learning_rate': 0.055181859859811416, 'subsample': 0.8924528220612, 'colsample_bytree': 0.7497735162522609, 'lambda_l1': 0.14198367768888231, 'lambda_l2': 0.1392047278164496, 'min_gain_to_split': 0.1062638094036991}. Best is trial 21 with value: 0.5838001777594004.\n",
            "[I 2023-11-15 17:55:06,452] Trial 25 finished with value: 0.5852285771629759 and parameters: {'learning_rate': 0.05516350504888861, 'subsample': 0.8924644744410314, 'colsample_bytree': 0.7497733418765741, 'lambda_l1': 0.1419831859076493, 'lambda_l2': 0.1392042453022291, 'min_gain_to_split': 0.10626463179554363}. Best is trial 21 with value: 0.5838001777594004.\n",
            "[I 2023-11-15 17:55:54,704] Trial 26 finished with value: 0.584614871445625 and parameters: {'learning_rate': 0.05518055148617267, 'subsample': 0.8924729087101807, 'colsample_bytree': 0.749773025475741, 'lambda_l1': 0.1419840914341541, 'lambda_l2': 0.13920447274721112, 'min_gain_to_split': 0.10626292323910047}. Best is trial 21 with value: 0.5838001777594004.\n",
            "[I 2023-11-15 17:56:42,431] Trial 27 finished with value: 0.5833902591622065 and parameters: {'learning_rate': 0.055183554718213325, 'subsample': 0.8924759493436066, 'colsample_bytree': 0.7497729483767315, 'lambda_l1': 0.14198433814166272, 'lambda_l2': 0.1392045128848738, 'min_gain_to_split': 0.10626277561299022}. Best is trial 27 with value: 0.5833902591622065.\n",
            "[I 2023-11-15 17:57:30,471] Trial 28 finished with value: 0.5847388367578951 and parameters: {'learning_rate': 0.05519685348987024, 'subsample': 0.8924575916139459, 'colsample_bytree': 0.7497726752925211, 'lambda_l1': 0.14198435179755525, 'lambda_l2': 0.13920473280082082, 'min_gain_to_split': 0.10626211239292008}. Best is trial 27 with value: 0.5833902591622065.\n",
            "[I 2023-11-15 17:58:17,951] Trial 29 finished with value: 0.5862039524767808 and parameters: {'learning_rate': 0.05514898110692279, 'subsample': 0.8924898382023189, 'colsample_bytree': 0.7497729119778663, 'lambda_l1': 0.14198447270342027, 'lambda_l2': 0.1392045774842521, 'min_gain_to_split': 0.10626241496212462}. Best is trial 27 with value: 0.5833902591622065.\n"
          ]
        },
        {
          "output_type": "stream",
          "name": "stdout",
          "text": [
            "The cell took 1448.358945608139 seconds to run.\n"
          ]
        }
      ]
    },
    {
      "cell_type": "code",
      "source": [
        "print('Best hyperparameters:', study_lgb_gbdt.best_params)\n",
        "print('Best RMSE:', study_lgb_gbdt.best_value)"
      ],
      "metadata": {
        "colab": {
          "base_uri": "https://localhost:8080/"
        },
        "id": "S4c1QhbfAp8s",
        "outputId": "708f7098-0f64-4819-b075-d5ada14e8668"
      },
      "execution_count": null,
      "outputs": [
        {
          "output_type": "stream",
          "name": "stdout",
          "text": [
            "Best hyperparameters: {'learning_rate': 0.055183554718213325, 'subsample': 0.8924759493436066, 'colsample_bytree': 0.7497729483767315, 'lambda_l1': 0.14198433814166272, 'lambda_l2': 0.1392045128848738, 'min_gain_to_split': 0.10626277561299022}\n",
            "Best RMSE: 0.5833902591622065\n"
          ]
        }
      ]
    },
    {
      "cell_type": "code",
      "source": [
        "study_lgb_gbdt.trials_dataframe().sort_values('value', ascending=True).head(5)"
      ],
      "metadata": {
        "colab": {
          "base_uri": "https://localhost:8080/",
          "height": 313
        },
        "id": "s9VoHmh3vnFn",
        "outputId": "91ca704d-8e03-49e7-ed7a-530ee8fd93ed"
      },
      "execution_count": null,
      "outputs": [
        {
          "output_type": "execute_result",
          "data": {
            "text/plain": [
              "    number      value             datetime_start          datetime_complete  \\\n",
              "27      27 0.58339026 2023-11-15 17:55:54.708073 2023-11-15 17:56:42.430249   \n",
              "21      21 0.58380018 2023-11-15 17:51:00.948482 2023-11-15 17:51:48.042970   \n",
              "14      14 0.58423996 2023-11-15 17:45:22.756997 2023-11-15 17:46:09.915183   \n",
              "26      26 0.58461487 2023-11-15 17:55:06.454126 2023-11-15 17:55:54.702054   \n",
              "13      13 0.58466106 2023-11-15 17:44:35.123832 2023-11-15 17:45:22.753979   \n",
              "\n",
              "                 duration  params_colsample_bytree  params_lambda_l1  \\\n",
              "27 0 days 00:00:47.722176               0.74977295        0.14198434   \n",
              "21 0 days 00:00:47.094488               0.74977304        0.14198367   \n",
              "14 0 days 00:00:47.158186               0.74977317        0.14198332   \n",
              "26 0 days 00:00:48.247928               0.74977303        0.14198409   \n",
              "13 0 days 00:00:47.630147               0.74977314        0.14198345   \n",
              "\n",
              "    params_lambda_l2  params_learning_rate  params_min_gain_to_split  \\\n",
              "27        0.13920451            0.05518355                0.10626278   \n",
              "21        0.13920466            0.05518562                0.10626376   \n",
              "14        0.13920412            0.05517310                0.10626365   \n",
              "26        0.13920447            0.05518055                0.10626292   \n",
              "13        0.13920409            0.05512597                0.10626369   \n",
              "\n",
              "    params_subsample     state  \n",
              "27        0.89247595  COMPLETE  \n",
              "21        0.89246828  COMPLETE  \n",
              "14        0.89247030  COMPLETE  \n",
              "26        0.89247291  COMPLETE  \n",
              "13        0.89246987  COMPLETE  "
            ],
            "text/html": [
              "\n",
              "  <div id=\"df-cf1dd5c3-dbfc-497c-bd43-a27e7d068f5a\" class=\"colab-df-container\">\n",
              "    <div>\n",
              "<style scoped>\n",
              "    .dataframe tbody tr th:only-of-type {\n",
              "        vertical-align: middle;\n",
              "    }\n",
              "\n",
              "    .dataframe tbody tr th {\n",
              "        vertical-align: top;\n",
              "    }\n",
              "\n",
              "    .dataframe thead th {\n",
              "        text-align: right;\n",
              "    }\n",
              "</style>\n",
              "<table border=\"1\" class=\"dataframe\">\n",
              "  <thead>\n",
              "    <tr style=\"text-align: right;\">\n",
              "      <th></th>\n",
              "      <th>number</th>\n",
              "      <th>value</th>\n",
              "      <th>datetime_start</th>\n",
              "      <th>datetime_complete</th>\n",
              "      <th>duration</th>\n",
              "      <th>params_colsample_bytree</th>\n",
              "      <th>params_lambda_l1</th>\n",
              "      <th>params_lambda_l2</th>\n",
              "      <th>params_learning_rate</th>\n",
              "      <th>params_min_gain_to_split</th>\n",
              "      <th>params_subsample</th>\n",
              "      <th>state</th>\n",
              "    </tr>\n",
              "  </thead>\n",
              "  <tbody>\n",
              "    <tr>\n",
              "      <th>27</th>\n",
              "      <td>27</td>\n",
              "      <td>0.58339026</td>\n",
              "      <td>2023-11-15 17:55:54.708073</td>\n",
              "      <td>2023-11-15 17:56:42.430249</td>\n",
              "      <td>0 days 00:00:47.722176</td>\n",
              "      <td>0.74977295</td>\n",
              "      <td>0.14198434</td>\n",
              "      <td>0.13920451</td>\n",
              "      <td>0.05518355</td>\n",
              "      <td>0.10626278</td>\n",
              "      <td>0.89247595</td>\n",
              "      <td>COMPLETE</td>\n",
              "    </tr>\n",
              "    <tr>\n",
              "      <th>21</th>\n",
              "      <td>21</td>\n",
              "      <td>0.58380018</td>\n",
              "      <td>2023-11-15 17:51:00.948482</td>\n",
              "      <td>2023-11-15 17:51:48.042970</td>\n",
              "      <td>0 days 00:00:47.094488</td>\n",
              "      <td>0.74977304</td>\n",
              "      <td>0.14198367</td>\n",
              "      <td>0.13920466</td>\n",
              "      <td>0.05518562</td>\n",
              "      <td>0.10626376</td>\n",
              "      <td>0.89246828</td>\n",
              "      <td>COMPLETE</td>\n",
              "    </tr>\n",
              "    <tr>\n",
              "      <th>14</th>\n",
              "      <td>14</td>\n",
              "      <td>0.58423996</td>\n",
              "      <td>2023-11-15 17:45:22.756997</td>\n",
              "      <td>2023-11-15 17:46:09.915183</td>\n",
              "      <td>0 days 00:00:47.158186</td>\n",
              "      <td>0.74977317</td>\n",
              "      <td>0.14198332</td>\n",
              "      <td>0.13920412</td>\n",
              "      <td>0.05517310</td>\n",
              "      <td>0.10626365</td>\n",
              "      <td>0.89247030</td>\n",
              "      <td>COMPLETE</td>\n",
              "    </tr>\n",
              "    <tr>\n",
              "      <th>26</th>\n",
              "      <td>26</td>\n",
              "      <td>0.58461487</td>\n",
              "      <td>2023-11-15 17:55:06.454126</td>\n",
              "      <td>2023-11-15 17:55:54.702054</td>\n",
              "      <td>0 days 00:00:48.247928</td>\n",
              "      <td>0.74977303</td>\n",
              "      <td>0.14198409</td>\n",
              "      <td>0.13920447</td>\n",
              "      <td>0.05518055</td>\n",
              "      <td>0.10626292</td>\n",
              "      <td>0.89247291</td>\n",
              "      <td>COMPLETE</td>\n",
              "    </tr>\n",
              "    <tr>\n",
              "      <th>13</th>\n",
              "      <td>13</td>\n",
              "      <td>0.58466106</td>\n",
              "      <td>2023-11-15 17:44:35.123832</td>\n",
              "      <td>2023-11-15 17:45:22.753979</td>\n",
              "      <td>0 days 00:00:47.630147</td>\n",
              "      <td>0.74977314</td>\n",
              "      <td>0.14198345</td>\n",
              "      <td>0.13920409</td>\n",
              "      <td>0.05512597</td>\n",
              "      <td>0.10626369</td>\n",
              "      <td>0.89246987</td>\n",
              "      <td>COMPLETE</td>\n",
              "    </tr>\n",
              "  </tbody>\n",
              "</table>\n",
              "</div>\n",
              "    <div class=\"colab-df-buttons\">\n",
              "\n",
              "  <div class=\"colab-df-container\">\n",
              "    <button class=\"colab-df-convert\" onclick=\"convertToInteractive('df-cf1dd5c3-dbfc-497c-bd43-a27e7d068f5a')\"\n",
              "            title=\"Convert this dataframe to an interactive table.\"\n",
              "            style=\"display:none;\">\n",
              "\n",
              "  <svg xmlns=\"http://www.w3.org/2000/svg\" height=\"24px\" viewBox=\"0 -960 960 960\">\n",
              "    <path d=\"M120-120v-720h720v720H120Zm60-500h600v-160H180v160Zm220 220h160v-160H400v160Zm0 220h160v-160H400v160ZM180-400h160v-160H180v160Zm440 0h160v-160H620v160ZM180-180h160v-160H180v160Zm440 0h160v-160H620v160Z\"/>\n",
              "  </svg>\n",
              "    </button>\n",
              "\n",
              "  <style>\n",
              "    .colab-df-container {\n",
              "      display:flex;\n",
              "      gap: 12px;\n",
              "    }\n",
              "\n",
              "    .colab-df-convert {\n",
              "      background-color: #E8F0FE;\n",
              "      border: none;\n",
              "      border-radius: 50%;\n",
              "      cursor: pointer;\n",
              "      display: none;\n",
              "      fill: #1967D2;\n",
              "      height: 32px;\n",
              "      padding: 0 0 0 0;\n",
              "      width: 32px;\n",
              "    }\n",
              "\n",
              "    .colab-df-convert:hover {\n",
              "      background-color: #E2EBFA;\n",
              "      box-shadow: 0px 1px 2px rgba(60, 64, 67, 0.3), 0px 1px 3px 1px rgba(60, 64, 67, 0.15);\n",
              "      fill: #174EA6;\n",
              "    }\n",
              "\n",
              "    .colab-df-buttons div {\n",
              "      margin-bottom: 4px;\n",
              "    }\n",
              "\n",
              "    [theme=dark] .colab-df-convert {\n",
              "      background-color: #3B4455;\n",
              "      fill: #D2E3FC;\n",
              "    }\n",
              "\n",
              "    [theme=dark] .colab-df-convert:hover {\n",
              "      background-color: #434B5C;\n",
              "      box-shadow: 0px 1px 3px 1px rgba(0, 0, 0, 0.15);\n",
              "      filter: drop-shadow(0px 1px 2px rgba(0, 0, 0, 0.3));\n",
              "      fill: #FFFFFF;\n",
              "    }\n",
              "  </style>\n",
              "\n",
              "    <script>\n",
              "      const buttonEl =\n",
              "        document.querySelector('#df-cf1dd5c3-dbfc-497c-bd43-a27e7d068f5a button.colab-df-convert');\n",
              "      buttonEl.style.display =\n",
              "        google.colab.kernel.accessAllowed ? 'block' : 'none';\n",
              "\n",
              "      async function convertToInteractive(key) {\n",
              "        const element = document.querySelector('#df-cf1dd5c3-dbfc-497c-bd43-a27e7d068f5a');\n",
              "        const dataTable =\n",
              "          await google.colab.kernel.invokeFunction('convertToInteractive',\n",
              "                                                    [key], {});\n",
              "        if (!dataTable) return;\n",
              "\n",
              "        const docLinkHtml = 'Like what you see? Visit the ' +\n",
              "          '<a target=\"_blank\" href=https://colab.research.google.com/notebooks/data_table.ipynb>data table notebook</a>'\n",
              "          + ' to learn more about interactive tables.';\n",
              "        element.innerHTML = '';\n",
              "        dataTable['output_type'] = 'display_data';\n",
              "        await google.colab.output.renderOutput(dataTable, element);\n",
              "        const docLink = document.createElement('div');\n",
              "        docLink.innerHTML = docLinkHtml;\n",
              "        element.appendChild(docLink);\n",
              "      }\n",
              "    </script>\n",
              "  </div>\n",
              "\n",
              "\n",
              "<div id=\"df-cb47906c-1d02-4b4c-b38c-f0fb63a194c5\">\n",
              "  <button class=\"colab-df-quickchart\" onclick=\"quickchart('df-cb47906c-1d02-4b4c-b38c-f0fb63a194c5')\"\n",
              "            title=\"Suggest charts\"\n",
              "            style=\"display:none;\">\n",
              "\n",
              "<svg xmlns=\"http://www.w3.org/2000/svg\" height=\"24px\"viewBox=\"0 0 24 24\"\n",
              "     width=\"24px\">\n",
              "    <g>\n",
              "        <path d=\"M19 3H5c-1.1 0-2 .9-2 2v14c0 1.1.9 2 2 2h14c1.1 0 2-.9 2-2V5c0-1.1-.9-2-2-2zM9 17H7v-7h2v7zm4 0h-2V7h2v10zm4 0h-2v-4h2v4z\"/>\n",
              "    </g>\n",
              "</svg>\n",
              "  </button>\n",
              "\n",
              "<style>\n",
              "  .colab-df-quickchart {\n",
              "      --bg-color: #E8F0FE;\n",
              "      --fill-color: #1967D2;\n",
              "      --hover-bg-color: #E2EBFA;\n",
              "      --hover-fill-color: #174EA6;\n",
              "      --disabled-fill-color: #AAA;\n",
              "      --disabled-bg-color: #DDD;\n",
              "  }\n",
              "\n",
              "  [theme=dark] .colab-df-quickchart {\n",
              "      --bg-color: #3B4455;\n",
              "      --fill-color: #D2E3FC;\n",
              "      --hover-bg-color: #434B5C;\n",
              "      --hover-fill-color: #FFFFFF;\n",
              "      --disabled-bg-color: #3B4455;\n",
              "      --disabled-fill-color: #666;\n",
              "  }\n",
              "\n",
              "  .colab-df-quickchart {\n",
              "    background-color: var(--bg-color);\n",
              "    border: none;\n",
              "    border-radius: 50%;\n",
              "    cursor: pointer;\n",
              "    display: none;\n",
              "    fill: var(--fill-color);\n",
              "    height: 32px;\n",
              "    padding: 0;\n",
              "    width: 32px;\n",
              "  }\n",
              "\n",
              "  .colab-df-quickchart:hover {\n",
              "    background-color: var(--hover-bg-color);\n",
              "    box-shadow: 0 1px 2px rgba(60, 64, 67, 0.3), 0 1px 3px 1px rgba(60, 64, 67, 0.15);\n",
              "    fill: var(--button-hover-fill-color);\n",
              "  }\n",
              "\n",
              "  .colab-df-quickchart-complete:disabled,\n",
              "  .colab-df-quickchart-complete:disabled:hover {\n",
              "    background-color: var(--disabled-bg-color);\n",
              "    fill: var(--disabled-fill-color);\n",
              "    box-shadow: none;\n",
              "  }\n",
              "\n",
              "  .colab-df-spinner {\n",
              "    border: 2px solid var(--fill-color);\n",
              "    border-color: transparent;\n",
              "    border-bottom-color: var(--fill-color);\n",
              "    animation:\n",
              "      spin 1s steps(1) infinite;\n",
              "  }\n",
              "\n",
              "  @keyframes spin {\n",
              "    0% {\n",
              "      border-color: transparent;\n",
              "      border-bottom-color: var(--fill-color);\n",
              "      border-left-color: var(--fill-color);\n",
              "    }\n",
              "    20% {\n",
              "      border-color: transparent;\n",
              "      border-left-color: var(--fill-color);\n",
              "      border-top-color: var(--fill-color);\n",
              "    }\n",
              "    30% {\n",
              "      border-color: transparent;\n",
              "      border-left-color: var(--fill-color);\n",
              "      border-top-color: var(--fill-color);\n",
              "      border-right-color: var(--fill-color);\n",
              "    }\n",
              "    40% {\n",
              "      border-color: transparent;\n",
              "      border-right-color: var(--fill-color);\n",
              "      border-top-color: var(--fill-color);\n",
              "    }\n",
              "    60% {\n",
              "      border-color: transparent;\n",
              "      border-right-color: var(--fill-color);\n",
              "    }\n",
              "    80% {\n",
              "      border-color: transparent;\n",
              "      border-right-color: var(--fill-color);\n",
              "      border-bottom-color: var(--fill-color);\n",
              "    }\n",
              "    90% {\n",
              "      border-color: transparent;\n",
              "      border-bottom-color: var(--fill-color);\n",
              "    }\n",
              "  }\n",
              "</style>\n",
              "\n",
              "  <script>\n",
              "    async function quickchart(key) {\n",
              "      const quickchartButtonEl =\n",
              "        document.querySelector('#' + key + ' button');\n",
              "      quickchartButtonEl.disabled = true;  // To prevent multiple clicks.\n",
              "      quickchartButtonEl.classList.add('colab-df-spinner');\n",
              "      try {\n",
              "        const charts = await google.colab.kernel.invokeFunction(\n",
              "            'suggestCharts', [key], {});\n",
              "      } catch (error) {\n",
              "        console.error('Error during call to suggestCharts:', error);\n",
              "      }\n",
              "      quickchartButtonEl.classList.remove('colab-df-spinner');\n",
              "      quickchartButtonEl.classList.add('colab-df-quickchart-complete');\n",
              "    }\n",
              "    (() => {\n",
              "      let quickchartButtonEl =\n",
              "        document.querySelector('#df-cb47906c-1d02-4b4c-b38c-f0fb63a194c5 button');\n",
              "      quickchartButtonEl.style.display =\n",
              "        google.colab.kernel.accessAllowed ? 'block' : 'none';\n",
              "    })();\n",
              "  </script>\n",
              "</div>\n",
              "    </div>\n",
              "  </div>\n"
            ]
          },
          "metadata": {},
          "execution_count": 100
        }
      ]
    },
    {
      "cell_type": "code",
      "source": [
        "#Visualize parameter importances.\n",
        "optuna.visualization.plot_param_importances(study_lgb_gbdt)"
      ],
      "metadata": {
        "colab": {
          "base_uri": "https://localhost:8080/",
          "height": 542
        },
        "id": "rVQiBrB_EGTA",
        "outputId": "fc9068a1-6744-41a2-8e2b-77b806fdaf1f"
      },
      "execution_count": null,
      "outputs": [
        {
          "output_type": "display_data",
          "data": {
            "text/html": [
              "<html>\n",
              "<head><meta charset=\"utf-8\" /></head>\n",
              "<body>\n",
              "    <div>            <script src=\"https://cdnjs.cloudflare.com/ajax/libs/mathjax/2.7.5/MathJax.js?config=TeX-AMS-MML_SVG\"></script><script type=\"text/javascript\">if (window.MathJax && window.MathJax.Hub && window.MathJax.Hub.Config) {window.MathJax.Hub.Config({SVG: {font: \"STIX-Web\"}});}</script>                <script type=\"text/javascript\">window.PlotlyConfig = {MathJaxConfig: 'local'};</script>\n",
              "        <script charset=\"utf-8\" src=\"https://cdn.plot.ly/plotly-2.24.1.min.js\"></script>                <div id=\"e1e2f90d-2724-4491-99cf-6682b890432a\" class=\"plotly-graph-div\" style=\"height:525px; width:100%;\"></div>            <script type=\"text/javascript\">                                    window.PLOTLYENV=window.PLOTLYENV || {};                                    if (document.getElementById(\"e1e2f90d-2724-4491-99cf-6682b890432a\")) {                    Plotly.newPlot(                        \"e1e2f90d-2724-4491-99cf-6682b890432a\",                        [{\"cliponaxis\":false,\"hovertemplate\":[\"lambda_l2 (FloatDistribution): 0.023649457741795818\\u003cextra\\u003e\\u003c\\u002fextra\\u003e\",\"colsample_bytree (FloatDistribution): 0.025136451033704623\\u003cextra\\u003e\\u003c\\u002fextra\\u003e\",\"lambda_l1 (FloatDistribution): 0.025687360003629808\\u003cextra\\u003e\\u003c\\u002fextra\\u003e\",\"min_gain_to_split (FloatDistribution): 0.05466725861298676\\u003cextra\\u003e\\u003c\\u002fextra\\u003e\",\"learning_rate (FloatDistribution): 0.3443161303781339\\u003cextra\\u003e\\u003c\\u002fextra\\u003e\",\"subsample (FloatDistribution): 0.5265433422297492\\u003cextra\\u003e\\u003c\\u002fextra\\u003e\"],\"name\":\"Objective Value\",\"orientation\":\"h\",\"text\":[\"0.02\",\"0.03\",\"0.03\",\"0.05\",\"0.34\",\"0.53\"],\"textposition\":\"outside\",\"x\":[0.023649457741795818,0.025136451033704623,0.025687360003629808,0.05466725861298676,0.3443161303781339,0.5265433422297492],\"y\":[\"lambda_l2\",\"colsample_bytree\",\"lambda_l1\",\"min_gain_to_split\",\"learning_rate\",\"subsample\"],\"type\":\"bar\"}],                        {\"title\":{\"text\":\"Hyperparameter Importances\"},\"xaxis\":{\"title\":{\"text\":\"Hyperparameter Importance\"}},\"yaxis\":{\"title\":{\"text\":\"Hyperparameter\"}},\"template\":{\"data\":{\"histogram2dcontour\":[{\"type\":\"histogram2dcontour\",\"colorbar\":{\"outlinewidth\":0,\"ticks\":\"\"},\"colorscale\":[[0.0,\"#0d0887\"],[0.1111111111111111,\"#46039f\"],[0.2222222222222222,\"#7201a8\"],[0.3333333333333333,\"#9c179e\"],[0.4444444444444444,\"#bd3786\"],[0.5555555555555556,\"#d8576b\"],[0.6666666666666666,\"#ed7953\"],[0.7777777777777778,\"#fb9f3a\"],[0.8888888888888888,\"#fdca26\"],[1.0,\"#f0f921\"]]}],\"choropleth\":[{\"type\":\"choropleth\",\"colorbar\":{\"outlinewidth\":0,\"ticks\":\"\"}}],\"histogram2d\":[{\"type\":\"histogram2d\",\"colorbar\":{\"outlinewidth\":0,\"ticks\":\"\"},\"colorscale\":[[0.0,\"#0d0887\"],[0.1111111111111111,\"#46039f\"],[0.2222222222222222,\"#7201a8\"],[0.3333333333333333,\"#9c179e\"],[0.4444444444444444,\"#bd3786\"],[0.5555555555555556,\"#d8576b\"],[0.6666666666666666,\"#ed7953\"],[0.7777777777777778,\"#fb9f3a\"],[0.8888888888888888,\"#fdca26\"],[1.0,\"#f0f921\"]]}],\"heatmap\":[{\"type\":\"heatmap\",\"colorbar\":{\"outlinewidth\":0,\"ticks\":\"\"},\"colorscale\":[[0.0,\"#0d0887\"],[0.1111111111111111,\"#46039f\"],[0.2222222222222222,\"#7201a8\"],[0.3333333333333333,\"#9c179e\"],[0.4444444444444444,\"#bd3786\"],[0.5555555555555556,\"#d8576b\"],[0.6666666666666666,\"#ed7953\"],[0.7777777777777778,\"#fb9f3a\"],[0.8888888888888888,\"#fdca26\"],[1.0,\"#f0f921\"]]}],\"heatmapgl\":[{\"type\":\"heatmapgl\",\"colorbar\":{\"outlinewidth\":0,\"ticks\":\"\"},\"colorscale\":[[0.0,\"#0d0887\"],[0.1111111111111111,\"#46039f\"],[0.2222222222222222,\"#7201a8\"],[0.3333333333333333,\"#9c179e\"],[0.4444444444444444,\"#bd3786\"],[0.5555555555555556,\"#d8576b\"],[0.6666666666666666,\"#ed7953\"],[0.7777777777777778,\"#fb9f3a\"],[0.8888888888888888,\"#fdca26\"],[1.0,\"#f0f921\"]]}],\"contourcarpet\":[{\"type\":\"contourcarpet\",\"colorbar\":{\"outlinewidth\":0,\"ticks\":\"\"}}],\"contour\":[{\"type\":\"contour\",\"colorbar\":{\"outlinewidth\":0,\"ticks\":\"\"},\"colorscale\":[[0.0,\"#0d0887\"],[0.1111111111111111,\"#46039f\"],[0.2222222222222222,\"#7201a8\"],[0.3333333333333333,\"#9c179e\"],[0.4444444444444444,\"#bd3786\"],[0.5555555555555556,\"#d8576b\"],[0.6666666666666666,\"#ed7953\"],[0.7777777777777778,\"#fb9f3a\"],[0.8888888888888888,\"#fdca26\"],[1.0,\"#f0f921\"]]}],\"surface\":[{\"type\":\"surface\",\"colorbar\":{\"outlinewidth\":0,\"ticks\":\"\"},\"colorscale\":[[0.0,\"#0d0887\"],[0.1111111111111111,\"#46039f\"],[0.2222222222222222,\"#7201a8\"],[0.3333333333333333,\"#9c179e\"],[0.4444444444444444,\"#bd3786\"],[0.5555555555555556,\"#d8576b\"],[0.6666666666666666,\"#ed7953\"],[0.7777777777777778,\"#fb9f3a\"],[0.8888888888888888,\"#fdca26\"],[1.0,\"#f0f921\"]]}],\"mesh3d\":[{\"type\":\"mesh3d\",\"colorbar\":{\"outlinewidth\":0,\"ticks\":\"\"}}],\"scatter\":[{\"fillpattern\":{\"fillmode\":\"overlay\",\"size\":10,\"solidity\":0.2},\"type\":\"scatter\"}],\"parcoords\":[{\"type\":\"parcoords\",\"line\":{\"colorbar\":{\"outlinewidth\":0,\"ticks\":\"\"}}}],\"scatterpolargl\":[{\"type\":\"scatterpolargl\",\"marker\":{\"colorbar\":{\"outlinewidth\":0,\"ticks\":\"\"}}}],\"bar\":[{\"error_x\":{\"color\":\"#2a3f5f\"},\"error_y\":{\"color\":\"#2a3f5f\"},\"marker\":{\"line\":{\"color\":\"#E5ECF6\",\"width\":0.5},\"pattern\":{\"fillmode\":\"overlay\",\"size\":10,\"solidity\":0.2}},\"type\":\"bar\"}],\"scattergeo\":[{\"type\":\"scattergeo\",\"marker\":{\"colorbar\":{\"outlinewidth\":0,\"ticks\":\"\"}}}],\"scatterpolar\":[{\"type\":\"scatterpolar\",\"marker\":{\"colorbar\":{\"outlinewidth\":0,\"ticks\":\"\"}}}],\"histogram\":[{\"marker\":{\"pattern\":{\"fillmode\":\"overlay\",\"size\":10,\"solidity\":0.2}},\"type\":\"histogram\"}],\"scattergl\":[{\"type\":\"scattergl\",\"marker\":{\"colorbar\":{\"outlinewidth\":0,\"ticks\":\"\"}}}],\"scatter3d\":[{\"type\":\"scatter3d\",\"line\":{\"colorbar\":{\"outlinewidth\":0,\"ticks\":\"\"}},\"marker\":{\"colorbar\":{\"outlinewidth\":0,\"ticks\":\"\"}}}],\"scattermapbox\":[{\"type\":\"scattermapbox\",\"marker\":{\"colorbar\":{\"outlinewidth\":0,\"ticks\":\"\"}}}],\"scatterternary\":[{\"type\":\"scatterternary\",\"marker\":{\"colorbar\":{\"outlinewidth\":0,\"ticks\":\"\"}}}],\"scattercarpet\":[{\"type\":\"scattercarpet\",\"marker\":{\"colorbar\":{\"outlinewidth\":0,\"ticks\":\"\"}}}],\"carpet\":[{\"aaxis\":{\"endlinecolor\":\"#2a3f5f\",\"gridcolor\":\"white\",\"linecolor\":\"white\",\"minorgridcolor\":\"white\",\"startlinecolor\":\"#2a3f5f\"},\"baxis\":{\"endlinecolor\":\"#2a3f5f\",\"gridcolor\":\"white\",\"linecolor\":\"white\",\"minorgridcolor\":\"white\",\"startlinecolor\":\"#2a3f5f\"},\"type\":\"carpet\"}],\"table\":[{\"cells\":{\"fill\":{\"color\":\"#EBF0F8\"},\"line\":{\"color\":\"white\"}},\"header\":{\"fill\":{\"color\":\"#C8D4E3\"},\"line\":{\"color\":\"white\"}},\"type\":\"table\"}],\"barpolar\":[{\"marker\":{\"line\":{\"color\":\"#E5ECF6\",\"width\":0.5},\"pattern\":{\"fillmode\":\"overlay\",\"size\":10,\"solidity\":0.2}},\"type\":\"barpolar\"}],\"pie\":[{\"automargin\":true,\"type\":\"pie\"}]},\"layout\":{\"autotypenumbers\":\"strict\",\"colorway\":[\"#636efa\",\"#EF553B\",\"#00cc96\",\"#ab63fa\",\"#FFA15A\",\"#19d3f3\",\"#FF6692\",\"#B6E880\",\"#FF97FF\",\"#FECB52\"],\"font\":{\"color\":\"#2a3f5f\"},\"hovermode\":\"closest\",\"hoverlabel\":{\"align\":\"left\"},\"paper_bgcolor\":\"white\",\"plot_bgcolor\":\"#E5ECF6\",\"polar\":{\"bgcolor\":\"#E5ECF6\",\"angularaxis\":{\"gridcolor\":\"white\",\"linecolor\":\"white\",\"ticks\":\"\"},\"radialaxis\":{\"gridcolor\":\"white\",\"linecolor\":\"white\",\"ticks\":\"\"}},\"ternary\":{\"bgcolor\":\"#E5ECF6\",\"aaxis\":{\"gridcolor\":\"white\",\"linecolor\":\"white\",\"ticks\":\"\"},\"baxis\":{\"gridcolor\":\"white\",\"linecolor\":\"white\",\"ticks\":\"\"},\"caxis\":{\"gridcolor\":\"white\",\"linecolor\":\"white\",\"ticks\":\"\"}},\"coloraxis\":{\"colorbar\":{\"outlinewidth\":0,\"ticks\":\"\"}},\"colorscale\":{\"sequential\":[[0.0,\"#0d0887\"],[0.1111111111111111,\"#46039f\"],[0.2222222222222222,\"#7201a8\"],[0.3333333333333333,\"#9c179e\"],[0.4444444444444444,\"#bd3786\"],[0.5555555555555556,\"#d8576b\"],[0.6666666666666666,\"#ed7953\"],[0.7777777777777778,\"#fb9f3a\"],[0.8888888888888888,\"#fdca26\"],[1.0,\"#f0f921\"]],\"sequentialminus\":[[0.0,\"#0d0887\"],[0.1111111111111111,\"#46039f\"],[0.2222222222222222,\"#7201a8\"],[0.3333333333333333,\"#9c179e\"],[0.4444444444444444,\"#bd3786\"],[0.5555555555555556,\"#d8576b\"],[0.6666666666666666,\"#ed7953\"],[0.7777777777777778,\"#fb9f3a\"],[0.8888888888888888,\"#fdca26\"],[1.0,\"#f0f921\"]],\"diverging\":[[0,\"#8e0152\"],[0.1,\"#c51b7d\"],[0.2,\"#de77ae\"],[0.3,\"#f1b6da\"],[0.4,\"#fde0ef\"],[0.5,\"#f7f7f7\"],[0.6,\"#e6f5d0\"],[0.7,\"#b8e186\"],[0.8,\"#7fbc41\"],[0.9,\"#4d9221\"],[1,\"#276419\"]]},\"xaxis\":{\"gridcolor\":\"white\",\"linecolor\":\"white\",\"ticks\":\"\",\"title\":{\"standoff\":15},\"zerolinecolor\":\"white\",\"automargin\":true,\"zerolinewidth\":2},\"yaxis\":{\"gridcolor\":\"white\",\"linecolor\":\"white\",\"ticks\":\"\",\"title\":{\"standoff\":15},\"zerolinecolor\":\"white\",\"automargin\":true,\"zerolinewidth\":2},\"scene\":{\"xaxis\":{\"backgroundcolor\":\"#E5ECF6\",\"gridcolor\":\"white\",\"linecolor\":\"white\",\"showbackground\":true,\"ticks\":\"\",\"zerolinecolor\":\"white\",\"gridwidth\":2},\"yaxis\":{\"backgroundcolor\":\"#E5ECF6\",\"gridcolor\":\"white\",\"linecolor\":\"white\",\"showbackground\":true,\"ticks\":\"\",\"zerolinecolor\":\"white\",\"gridwidth\":2},\"zaxis\":{\"backgroundcolor\":\"#E5ECF6\",\"gridcolor\":\"white\",\"linecolor\":\"white\",\"showbackground\":true,\"ticks\":\"\",\"zerolinecolor\":\"white\",\"gridwidth\":2}},\"shapedefaults\":{\"line\":{\"color\":\"#2a3f5f\"}},\"annotationdefaults\":{\"arrowcolor\":\"#2a3f5f\",\"arrowhead\":0,\"arrowwidth\":1},\"geo\":{\"bgcolor\":\"white\",\"landcolor\":\"#E5ECF6\",\"subunitcolor\":\"white\",\"showland\":true,\"showlakes\":true,\"lakecolor\":\"white\"},\"title\":{\"x\":0.05},\"mapbox\":{\"style\":\"light\"}}}},                        {\"responsive\": true}                    ).then(function(){\n",
              "                            \n",
              "var gd = document.getElementById('e1e2f90d-2724-4491-99cf-6682b890432a');\n",
              "var x = new MutationObserver(function (mutations, observer) {{\n",
              "        var display = window.getComputedStyle(gd).display;\n",
              "        if (!display || display === 'none') {{\n",
              "            console.log([gd, 'removed!']);\n",
              "            Plotly.purge(gd);\n",
              "            observer.disconnect();\n",
              "        }}\n",
              "}});\n",
              "\n",
              "// Listen for the removal of the full notebook cells\n",
              "var notebookContainer = gd.closest('#notebook-container');\n",
              "if (notebookContainer) {{\n",
              "    x.observe(notebookContainer, {childList: true});\n",
              "}}\n",
              "\n",
              "// Listen for the clearing of the current output cell\n",
              "var outputEl = gd.closest('.output');\n",
              "if (outputEl) {{\n",
              "    x.observe(outputEl, {childList: true});\n",
              "}}\n",
              "\n",
              "                        })                };                            </script>        </div>\n",
              "</body>\n",
              "</html>"
            ]
          },
          "metadata": {}
        }
      ]
    },
    {
      "cell_type": "code",
      "source": [
        "optuna.visualization.plot_slice(study_lgb_gbdt)"
      ],
      "metadata": {
        "colab": {
          "base_uri": "https://localhost:8080/",
          "height": 562
        },
        "id": "bgaptcDDwATe",
        "outputId": "51f97875-f9c7-4d0c-cac8-19b56166bef6"
      },
      "execution_count": null,
      "outputs": [
        {
          "output_type": "display_data",
          "data": {
            "text/html": [
              "<html>\n",
              "<head><meta charset=\"utf-8\" /></head>\n",
              "<body>\n",
              "    <div>            <script src=\"https://cdnjs.cloudflare.com/ajax/libs/mathjax/2.7.5/MathJax.js?config=TeX-AMS-MML_SVG\"></script><script type=\"text/javascript\">if (window.MathJax && window.MathJax.Hub && window.MathJax.Hub.Config) {window.MathJax.Hub.Config({SVG: {font: \"STIX-Web\"}});}</script>                <script type=\"text/javascript\">window.PlotlyConfig = {MathJaxConfig: 'local'};</script>\n",
              "        <script charset=\"utf-8\" src=\"https://cdn.plot.ly/plotly-2.24.1.min.js\"></script>                <div id=\"3e84f424-1a71-43ad-9b2d-7c5f084f6eac\" class=\"plotly-graph-div\" style=\"height:525px; width:1800px;\"></div>            <script type=\"text/javascript\">                                    window.PLOTLYENV=window.PLOTLYENV || {};                                    if (document.getElementById(\"3e84f424-1a71-43ad-9b2d-7c5f084f6eac\")) {                    Plotly.newPlot(                        \"3e84f424-1a71-43ad-9b2d-7c5f084f6eac\",                        [{\"marker\":{\"color\":[0,1,2,3,4,5,6,7,8,9,10,11,12,13,14,15,16,17,18,19,20,21,22,23,24,25,26,27,28,29],\"colorbar\":{\"title\":{\"text\":\"Trial\"},\"x\":1.0,\"xpad\":40},\"colorscale\":[[0.0,\"rgb(247,251,255)\"],[0.125,\"rgb(222,235,247)\"],[0.25,\"rgb(198,219,239)\"],[0.375,\"rgb(158,202,225)\"],[0.5,\"rgb(107,174,214)\"],[0.625,\"rgb(66,146,198)\"],[0.75,\"rgb(33,113,181)\"],[0.875,\"rgb(8,81,156)\"],[1.0,\"rgb(8,48,107)\"]],\"line\":{\"color\":\"Grey\",\"width\":0.5},\"showscale\":true},\"mode\":\"markers\",\"name\":\"Feasible Trial\",\"showlegend\":false,\"x\":[0.7497724537024393,0.749772961863137,0.7497727960878715,0.7497732688012985,0.7497727235766953,0.7497728617248726,0.7497738883198958,0.7497737326180068,0.749772241257049,0.7497728340437736,0.7497731936124702,0.7497721371255573,0.7497725723717302,0.7497731376298971,0.749773169801254,0.7497733731638846,0.7497735537086058,0.7497731045537831,0.7497734525026245,0.7497730729515885,0.7497732602324272,0.7497730380371841,0.7497730313980344,0.7497731334921386,0.7497735162522609,0.7497733418765741,0.749773025475741,0.7497729483767315,0.7497726752925211,0.7497729119778663],\"y\":[0.584856662512576,0.5846951031940851,0.5846978188257462,0.5850589597434267,0.5850036032977309,0.5849354752686721,0.5852199438361765,0.5851505707707504,0.585380952918425,0.5849432406107665,0.5848923597378254,0.5848136049644348,0.5849905410508884,0.5846610627903153,0.584239957667465,0.5853416823024344,0.5857103855094683,0.5851561906195208,0.5850950421151703,0.5853384478280521,0.5848579528831795,0.5838001777594004,0.585273821425268,0.5849933385361084,0.5847635330026666,0.5852285771629759,0.584614871445625,0.5833902591622065,0.5847388367578951,0.5862039524767808],\"type\":\"scatter\",\"xaxis\":\"x\",\"yaxis\":\"y\"},{\"marker\":{\"color\":[0,1,2,3,4,5,6,7,8,9,10,11,12,13,14,15,16,17,18,19,20,21,22,23,24,25,26,27,28,29],\"colorbar\":{\"title\":{\"text\":\"Trial\"},\"x\":1.0,\"xpad\":40},\"colorscale\":[[0.0,\"rgb(247,251,255)\"],[0.125,\"rgb(222,235,247)\"],[0.25,\"rgb(198,219,239)\"],[0.375,\"rgb(158,202,225)\"],[0.5,\"rgb(107,174,214)\"],[0.625,\"rgb(66,146,198)\"],[0.75,\"rgb(33,113,181)\"],[0.875,\"rgb(8,81,156)\"],[1.0,\"rgb(8,48,107)\"]],\"line\":{\"color\":\"Grey\",\"width\":0.5},\"showscale\":false},\"mode\":\"markers\",\"name\":\"Feasible Trial\",\"showlegend\":false,\"x\":[0.1419842052451386,0.14198356845664245,0.14198495197072827,0.14198539771996999,0.14198291304299798,0.14198397472630675,0.14198400733261765,0.14198300181088422,0.1419853053551165,0.14198472519082908,0.14198203224412306,0.14198595397136132,0.14198486481139802,0.14198344627050616,0.14198332152002605,0.14198331584854595,0.14198274629946725,0.1419835568935745,0.14198240808439977,0.1419832797403494,0.14198249644569627,0.14198366635078713,0.14198377042020607,0.1419832266147115,0.14198367768888231,0.1419831859076493,0.1419840914341541,0.14198433814166272,0.14198435179755525,0.14198447270342027],\"y\":[0.584856662512576,0.5846951031940851,0.5846978188257462,0.5850589597434267,0.5850036032977309,0.5849354752686721,0.5852199438361765,0.5851505707707504,0.585380952918425,0.5849432406107665,0.5848923597378254,0.5848136049644348,0.5849905410508884,0.5846610627903153,0.584239957667465,0.5853416823024344,0.5857103855094683,0.5851561906195208,0.5850950421151703,0.5853384478280521,0.5848579528831795,0.5838001777594004,0.585273821425268,0.5849933385361084,0.5847635330026666,0.5852285771629759,0.584614871445625,0.5833902591622065,0.5847388367578951,0.5862039524767808],\"type\":\"scatter\",\"xaxis\":\"x2\",\"yaxis\":\"y2\"},{\"marker\":{\"color\":[0,1,2,3,4,5,6,7,8,9,10,11,12,13,14,15,16,17,18,19,20,21,22,23,24,25,26,27,28,29],\"colorbar\":{\"title\":{\"text\":\"Trial\"},\"x\":1.0,\"xpad\":40},\"colorscale\":[[0.0,\"rgb(247,251,255)\"],[0.125,\"rgb(222,235,247)\"],[0.25,\"rgb(198,219,239)\"],[0.375,\"rgb(158,202,225)\"],[0.5,\"rgb(107,174,214)\"],[0.625,\"rgb(66,146,198)\"],[0.75,\"rgb(33,113,181)\"],[0.875,\"rgb(8,81,156)\"],[1.0,\"rgb(8,48,107)\"]],\"line\":{\"color\":\"Grey\",\"width\":0.5},\"showscale\":false},\"mode\":\"markers\",\"name\":\"Feasible Trial\",\"showlegend\":false,\"x\":[0.13920543893503975,0.13920468635279382,0.13920436498131747,0.13920544890778172,0.13920458742511232,0.1392048516570678,0.1392052479025325,0.13920496606494082,0.1392052061168176,0.13920575091211707,0.13920409296763517,0.13920440356578104,0.139204564174368,0.13920409226525732,0.13920411730472132,0.13920402456766334,0.13920417759199996,0.13920425463011907,0.13920434296719383,0.1392040493887381,0.13920401524714382,0.1392046564091746,0.13920447485515994,0.13920423038766547,0.1392047278164496,0.1392042453022291,0.13920447274721112,0.1392045128848738,0.13920473280082082,0.1392045774842521],\"y\":[0.584856662512576,0.5846951031940851,0.5846978188257462,0.5850589597434267,0.5850036032977309,0.5849354752686721,0.5852199438361765,0.5851505707707504,0.585380952918425,0.5849432406107665,0.5848923597378254,0.5848136049644348,0.5849905410508884,0.5846610627903153,0.584239957667465,0.5853416823024344,0.5857103855094683,0.5851561906195208,0.5850950421151703,0.5853384478280521,0.5848579528831795,0.5838001777594004,0.585273821425268,0.5849933385361084,0.5847635330026666,0.5852285771629759,0.584614871445625,0.5833902591622065,0.5847388367578951,0.5862039524767808],\"type\":\"scatter\",\"xaxis\":\"x3\",\"yaxis\":\"y3\"},{\"marker\":{\"color\":[0,1,2,3,4,5,6,7,8,9,10,11,12,13,14,15,16,17,18,19,20,21,22,23,24,25,26,27,28,29],\"colorbar\":{\"title\":{\"text\":\"Trial\"},\"x\":1.0,\"xpad\":40},\"colorscale\":[[0.0,\"rgb(247,251,255)\"],[0.125,\"rgb(222,235,247)\"],[0.25,\"rgb(198,219,239)\"],[0.375,\"rgb(158,202,225)\"],[0.5,\"rgb(107,174,214)\"],[0.625,\"rgb(66,146,198)\"],[0.75,\"rgb(33,113,181)\"],[0.875,\"rgb(8,81,156)\"],[1.0,\"rgb(8,48,107)\"]],\"line\":{\"color\":\"Grey\",\"width\":0.5},\"showscale\":false},\"mode\":\"markers\",\"name\":\"Feasible Trial\",\"showlegend\":false,\"x\":[0.05513921708565148,0.055196145987851206,0.05508762508104686,0.05510621988848097,0.05514441587321636,0.055018390650263066,0.05508518149395922,0.055063378487397154,0.055103806415350794,0.05506847101208259,0.05519686536034392,0.05519132200715659,0.05515925044051852,0.055125967660963414,0.05517309504901064,0.05516009046936877,0.05512030640958977,0.05516837960689751,0.05513768243486831,0.05517623677179543,0.055125025025228314,0.05518561898351329,0.05517686863112952,0.05515301980392016,0.055181859859811416,0.05516350504888861,0.05518055148617267,0.055183554718213325,0.05519685348987024,0.05514898110692279],\"y\":[0.584856662512576,0.5846951031940851,0.5846978188257462,0.5850589597434267,0.5850036032977309,0.5849354752686721,0.5852199438361765,0.5851505707707504,0.585380952918425,0.5849432406107665,0.5848923597378254,0.5848136049644348,0.5849905410508884,0.5846610627903153,0.584239957667465,0.5853416823024344,0.5857103855094683,0.5851561906195208,0.5850950421151703,0.5853384478280521,0.5848579528831795,0.5838001777594004,0.585273821425268,0.5849933385361084,0.5847635330026666,0.5852285771629759,0.584614871445625,0.5833902591622065,0.5847388367578951,0.5862039524767808],\"type\":\"scatter\",\"xaxis\":\"x4\",\"yaxis\":\"y4\"},{\"marker\":{\"color\":[0,1,2,3,4,5,6,7,8,9,10,11,12,13,14,15,16,17,18,19,20,21,22,23,24,25,26,27,28,29],\"colorbar\":{\"title\":{\"text\":\"Trial\"},\"x\":1.0,\"xpad\":40},\"colorscale\":[[0.0,\"rgb(247,251,255)\"],[0.125,\"rgb(222,235,247)\"],[0.25,\"rgb(198,219,239)\"],[0.375,\"rgb(158,202,225)\"],[0.5,\"rgb(107,174,214)\"],[0.625,\"rgb(66,146,198)\"],[0.75,\"rgb(33,113,181)\"],[0.875,\"rgb(8,81,156)\"],[1.0,\"rgb(8,48,107)\"]],\"line\":{\"color\":\"Grey\",\"width\":0.5},\"showscale\":false},\"mode\":\"markers\",\"name\":\"Feasible Trial\",\"showlegend\":false,\"x\":[0.10626211550358786,0.1062636452253,0.106260877241763,0.106263055089595,0.1062631548532289,0.10626156128085273,0.10626057807994736,0.10626492779725394,0.10626272531086292,0.10626255208229184,0.1062641482241321,0.10626011338199476,0.10626119639915088,0.10626369388720228,0.10626365225413172,0.1062638796296971,0.10626455015664951,0.10626345309986361,0.10626421326312789,0.10626353815196933,0.10626205648428673,0.10626376336466238,0.10626416768346289,0.10626315894768486,0.1062638094036991,0.10626463179554363,0.10626292323910047,0.10626277561299022,0.10626211239292008,0.10626241496212462],\"y\":[0.584856662512576,0.5846951031940851,0.5846978188257462,0.5850589597434267,0.5850036032977309,0.5849354752686721,0.5852199438361765,0.5851505707707504,0.585380952918425,0.5849432406107665,0.5848923597378254,0.5848136049644348,0.5849905410508884,0.5846610627903153,0.584239957667465,0.5853416823024344,0.5857103855094683,0.5851561906195208,0.5850950421151703,0.5853384478280521,0.5848579528831795,0.5838001777594004,0.585273821425268,0.5849933385361084,0.5847635330026666,0.5852285771629759,0.584614871445625,0.5833902591622065,0.5847388367578951,0.5862039524767808],\"type\":\"scatter\",\"xaxis\":\"x5\",\"yaxis\":\"y5\"},{\"marker\":{\"color\":[0,1,2,3,4,5,6,7,8,9,10,11,12,13,14,15,16,17,18,19,20,21,22,23,24,25,26,27,28,29],\"colorbar\":{\"title\":{\"text\":\"Trial\"},\"x\":1.0,\"xpad\":40},\"colorscale\":[[0.0,\"rgb(247,251,255)\"],[0.125,\"rgb(222,235,247)\"],[0.25,\"rgb(198,219,239)\"],[0.375,\"rgb(158,202,225)\"],[0.5,\"rgb(107,174,214)\"],[0.625,\"rgb(66,146,198)\"],[0.75,\"rgb(33,113,181)\"],[0.875,\"rgb(8,81,156)\"],[1.0,\"rgb(8,48,107)\"]],\"line\":{\"color\":\"Grey\",\"width\":0.5},\"showscale\":false},\"mode\":\"markers\",\"name\":\"Feasible Trial\",\"showlegend\":false,\"x\":[0.892428612789106,0.892468481764606,0.8924059674752707,0.8924531813637446,0.8924322946663586,0.8924433687412588,0.8924893383826887,0.8924414812612051,0.8924612881233375,0.8924304108932352,0.8924995134589433,0.8924199246793025,0.8924002273844305,0.8924698701196704,0.8924702987006848,0.8924732329011577,0.892480058367977,0.8924613652668563,0.8924786862914685,0.892458226961492,0.8924679444123683,0.8924682830441075,0.8924836527677968,0.8924710382251426,0.8924528220612,0.8924644744410314,0.8924729087101807,0.8924759493436066,0.8924575916139459,0.8924898382023189],\"y\":[0.584856662512576,0.5846951031940851,0.5846978188257462,0.5850589597434267,0.5850036032977309,0.5849354752686721,0.5852199438361765,0.5851505707707504,0.585380952918425,0.5849432406107665,0.5848923597378254,0.5848136049644348,0.5849905410508884,0.5846610627903153,0.584239957667465,0.5853416823024344,0.5857103855094683,0.5851561906195208,0.5850950421151703,0.5853384478280521,0.5848579528831795,0.5838001777594004,0.585273821425268,0.5849933385361084,0.5847635330026666,0.5852285771629759,0.584614871445625,0.5833902591622065,0.5847388367578951,0.5862039524767808],\"type\":\"scatter\",\"xaxis\":\"x6\",\"yaxis\":\"y6\"}],                        {\"template\":{\"data\":{\"histogram2dcontour\":[{\"type\":\"histogram2dcontour\",\"colorbar\":{\"outlinewidth\":0,\"ticks\":\"\"},\"colorscale\":[[0.0,\"#0d0887\"],[0.1111111111111111,\"#46039f\"],[0.2222222222222222,\"#7201a8\"],[0.3333333333333333,\"#9c179e\"],[0.4444444444444444,\"#bd3786\"],[0.5555555555555556,\"#d8576b\"],[0.6666666666666666,\"#ed7953\"],[0.7777777777777778,\"#fb9f3a\"],[0.8888888888888888,\"#fdca26\"],[1.0,\"#f0f921\"]]}],\"choropleth\":[{\"type\":\"choropleth\",\"colorbar\":{\"outlinewidth\":0,\"ticks\":\"\"}}],\"histogram2d\":[{\"type\":\"histogram2d\",\"colorbar\":{\"outlinewidth\":0,\"ticks\":\"\"},\"colorscale\":[[0.0,\"#0d0887\"],[0.1111111111111111,\"#46039f\"],[0.2222222222222222,\"#7201a8\"],[0.3333333333333333,\"#9c179e\"],[0.4444444444444444,\"#bd3786\"],[0.5555555555555556,\"#d8576b\"],[0.6666666666666666,\"#ed7953\"],[0.7777777777777778,\"#fb9f3a\"],[0.8888888888888888,\"#fdca26\"],[1.0,\"#f0f921\"]]}],\"heatmap\":[{\"type\":\"heatmap\",\"colorbar\":{\"outlinewidth\":0,\"ticks\":\"\"},\"colorscale\":[[0.0,\"#0d0887\"],[0.1111111111111111,\"#46039f\"],[0.2222222222222222,\"#7201a8\"],[0.3333333333333333,\"#9c179e\"],[0.4444444444444444,\"#bd3786\"],[0.5555555555555556,\"#d8576b\"],[0.6666666666666666,\"#ed7953\"],[0.7777777777777778,\"#fb9f3a\"],[0.8888888888888888,\"#fdca26\"],[1.0,\"#f0f921\"]]}],\"heatmapgl\":[{\"type\":\"heatmapgl\",\"colorbar\":{\"outlinewidth\":0,\"ticks\":\"\"},\"colorscale\":[[0.0,\"#0d0887\"],[0.1111111111111111,\"#46039f\"],[0.2222222222222222,\"#7201a8\"],[0.3333333333333333,\"#9c179e\"],[0.4444444444444444,\"#bd3786\"],[0.5555555555555556,\"#d8576b\"],[0.6666666666666666,\"#ed7953\"],[0.7777777777777778,\"#fb9f3a\"],[0.8888888888888888,\"#fdca26\"],[1.0,\"#f0f921\"]]}],\"contourcarpet\":[{\"type\":\"contourcarpet\",\"colorbar\":{\"outlinewidth\":0,\"ticks\":\"\"}}],\"contour\":[{\"type\":\"contour\",\"colorbar\":{\"outlinewidth\":0,\"ticks\":\"\"},\"colorscale\":[[0.0,\"#0d0887\"],[0.1111111111111111,\"#46039f\"],[0.2222222222222222,\"#7201a8\"],[0.3333333333333333,\"#9c179e\"],[0.4444444444444444,\"#bd3786\"],[0.5555555555555556,\"#d8576b\"],[0.6666666666666666,\"#ed7953\"],[0.7777777777777778,\"#fb9f3a\"],[0.8888888888888888,\"#fdca26\"],[1.0,\"#f0f921\"]]}],\"surface\":[{\"type\":\"surface\",\"colorbar\":{\"outlinewidth\":0,\"ticks\":\"\"},\"colorscale\":[[0.0,\"#0d0887\"],[0.1111111111111111,\"#46039f\"],[0.2222222222222222,\"#7201a8\"],[0.3333333333333333,\"#9c179e\"],[0.4444444444444444,\"#bd3786\"],[0.5555555555555556,\"#d8576b\"],[0.6666666666666666,\"#ed7953\"],[0.7777777777777778,\"#fb9f3a\"],[0.8888888888888888,\"#fdca26\"],[1.0,\"#f0f921\"]]}],\"mesh3d\":[{\"type\":\"mesh3d\",\"colorbar\":{\"outlinewidth\":0,\"ticks\":\"\"}}],\"scatter\":[{\"fillpattern\":{\"fillmode\":\"overlay\",\"size\":10,\"solidity\":0.2},\"type\":\"scatter\"}],\"parcoords\":[{\"type\":\"parcoords\",\"line\":{\"colorbar\":{\"outlinewidth\":0,\"ticks\":\"\"}}}],\"scatterpolargl\":[{\"type\":\"scatterpolargl\",\"marker\":{\"colorbar\":{\"outlinewidth\":0,\"ticks\":\"\"}}}],\"bar\":[{\"error_x\":{\"color\":\"#2a3f5f\"},\"error_y\":{\"color\":\"#2a3f5f\"},\"marker\":{\"line\":{\"color\":\"#E5ECF6\",\"width\":0.5},\"pattern\":{\"fillmode\":\"overlay\",\"size\":10,\"solidity\":0.2}},\"type\":\"bar\"}],\"scattergeo\":[{\"type\":\"scattergeo\",\"marker\":{\"colorbar\":{\"outlinewidth\":0,\"ticks\":\"\"}}}],\"scatterpolar\":[{\"type\":\"scatterpolar\",\"marker\":{\"colorbar\":{\"outlinewidth\":0,\"ticks\":\"\"}}}],\"histogram\":[{\"marker\":{\"pattern\":{\"fillmode\":\"overlay\",\"size\":10,\"solidity\":0.2}},\"type\":\"histogram\"}],\"scattergl\":[{\"type\":\"scattergl\",\"marker\":{\"colorbar\":{\"outlinewidth\":0,\"ticks\":\"\"}}}],\"scatter3d\":[{\"type\":\"scatter3d\",\"line\":{\"colorbar\":{\"outlinewidth\":0,\"ticks\":\"\"}},\"marker\":{\"colorbar\":{\"outlinewidth\":0,\"ticks\":\"\"}}}],\"scattermapbox\":[{\"type\":\"scattermapbox\",\"marker\":{\"colorbar\":{\"outlinewidth\":0,\"ticks\":\"\"}}}],\"scatterternary\":[{\"type\":\"scatterternary\",\"marker\":{\"colorbar\":{\"outlinewidth\":0,\"ticks\":\"\"}}}],\"scattercarpet\":[{\"type\":\"scattercarpet\",\"marker\":{\"colorbar\":{\"outlinewidth\":0,\"ticks\":\"\"}}}],\"carpet\":[{\"aaxis\":{\"endlinecolor\":\"#2a3f5f\",\"gridcolor\":\"white\",\"linecolor\":\"white\",\"minorgridcolor\":\"white\",\"startlinecolor\":\"#2a3f5f\"},\"baxis\":{\"endlinecolor\":\"#2a3f5f\",\"gridcolor\":\"white\",\"linecolor\":\"white\",\"minorgridcolor\":\"white\",\"startlinecolor\":\"#2a3f5f\"},\"type\":\"carpet\"}],\"table\":[{\"cells\":{\"fill\":{\"color\":\"#EBF0F8\"},\"line\":{\"color\":\"white\"}},\"header\":{\"fill\":{\"color\":\"#C8D4E3\"},\"line\":{\"color\":\"white\"}},\"type\":\"table\"}],\"barpolar\":[{\"marker\":{\"line\":{\"color\":\"#E5ECF6\",\"width\":0.5},\"pattern\":{\"fillmode\":\"overlay\",\"size\":10,\"solidity\":0.2}},\"type\":\"barpolar\"}],\"pie\":[{\"automargin\":true,\"type\":\"pie\"}]},\"layout\":{\"autotypenumbers\":\"strict\",\"colorway\":[\"#636efa\",\"#EF553B\",\"#00cc96\",\"#ab63fa\",\"#FFA15A\",\"#19d3f3\",\"#FF6692\",\"#B6E880\",\"#FF97FF\",\"#FECB52\"],\"font\":{\"color\":\"#2a3f5f\"},\"hovermode\":\"closest\",\"hoverlabel\":{\"align\":\"left\"},\"paper_bgcolor\":\"white\",\"plot_bgcolor\":\"#E5ECF6\",\"polar\":{\"bgcolor\":\"#E5ECF6\",\"angularaxis\":{\"gridcolor\":\"white\",\"linecolor\":\"white\",\"ticks\":\"\"},\"radialaxis\":{\"gridcolor\":\"white\",\"linecolor\":\"white\",\"ticks\":\"\"}},\"ternary\":{\"bgcolor\":\"#E5ECF6\",\"aaxis\":{\"gridcolor\":\"white\",\"linecolor\":\"white\",\"ticks\":\"\"},\"baxis\":{\"gridcolor\":\"white\",\"linecolor\":\"white\",\"ticks\":\"\"},\"caxis\":{\"gridcolor\":\"white\",\"linecolor\":\"white\",\"ticks\":\"\"}},\"coloraxis\":{\"colorbar\":{\"outlinewidth\":0,\"ticks\":\"\"}},\"colorscale\":{\"sequential\":[[0.0,\"#0d0887\"],[0.1111111111111111,\"#46039f\"],[0.2222222222222222,\"#7201a8\"],[0.3333333333333333,\"#9c179e\"],[0.4444444444444444,\"#bd3786\"],[0.5555555555555556,\"#d8576b\"],[0.6666666666666666,\"#ed7953\"],[0.7777777777777778,\"#fb9f3a\"],[0.8888888888888888,\"#fdca26\"],[1.0,\"#f0f921\"]],\"sequentialminus\":[[0.0,\"#0d0887\"],[0.1111111111111111,\"#46039f\"],[0.2222222222222222,\"#7201a8\"],[0.3333333333333333,\"#9c179e\"],[0.4444444444444444,\"#bd3786\"],[0.5555555555555556,\"#d8576b\"],[0.6666666666666666,\"#ed7953\"],[0.7777777777777778,\"#fb9f3a\"],[0.8888888888888888,\"#fdca26\"],[1.0,\"#f0f921\"]],\"diverging\":[[0,\"#8e0152\"],[0.1,\"#c51b7d\"],[0.2,\"#de77ae\"],[0.3,\"#f1b6da\"],[0.4,\"#fde0ef\"],[0.5,\"#f7f7f7\"],[0.6,\"#e6f5d0\"],[0.7,\"#b8e186\"],[0.8,\"#7fbc41\"],[0.9,\"#4d9221\"],[1,\"#276419\"]]},\"xaxis\":{\"gridcolor\":\"white\",\"linecolor\":\"white\",\"ticks\":\"\",\"title\":{\"standoff\":15},\"zerolinecolor\":\"white\",\"automargin\":true,\"zerolinewidth\":2},\"yaxis\":{\"gridcolor\":\"white\",\"linecolor\":\"white\",\"ticks\":\"\",\"title\":{\"standoff\":15},\"zerolinecolor\":\"white\",\"automargin\":true,\"zerolinewidth\":2},\"scene\":{\"xaxis\":{\"backgroundcolor\":\"#E5ECF6\",\"gridcolor\":\"white\",\"linecolor\":\"white\",\"showbackground\":true,\"ticks\":\"\",\"zerolinecolor\":\"white\",\"gridwidth\":2},\"yaxis\":{\"backgroundcolor\":\"#E5ECF6\",\"gridcolor\":\"white\",\"linecolor\":\"white\",\"showbackground\":true,\"ticks\":\"\",\"zerolinecolor\":\"white\",\"gridwidth\":2},\"zaxis\":{\"backgroundcolor\":\"#E5ECF6\",\"gridcolor\":\"white\",\"linecolor\":\"white\",\"showbackground\":true,\"ticks\":\"\",\"zerolinecolor\":\"white\",\"gridwidth\":2}},\"shapedefaults\":{\"line\":{\"color\":\"#2a3f5f\"}},\"annotationdefaults\":{\"arrowcolor\":\"#2a3f5f\",\"arrowhead\":0,\"arrowwidth\":1},\"geo\":{\"bgcolor\":\"white\",\"landcolor\":\"#E5ECF6\",\"subunitcolor\":\"white\",\"showland\":true,\"showlakes\":true,\"lakecolor\":\"white\"},\"title\":{\"x\":0.05},\"mapbox\":{\"style\":\"light\"}}},\"xaxis\":{\"anchor\":\"y\",\"domain\":[0.0,0.1388888888888889],\"title\":{\"text\":\"colsample_bytree\"},\"type\":\"log\"},\"yaxis\":{\"anchor\":\"x\",\"domain\":[0.0,1.0],\"title\":{\"text\":\"Objective Value\"}},\"xaxis2\":{\"anchor\":\"y2\",\"domain\":[0.17222222222222222,0.3111111111111111],\"title\":{\"text\":\"lambda_l1\"},\"type\":\"log\"},\"yaxis2\":{\"anchor\":\"x2\",\"domain\":[0.0,1.0],\"matches\":\"y\",\"showticklabels\":false},\"xaxis3\":{\"anchor\":\"y3\",\"domain\":[0.34444444444444444,0.48333333333333334],\"title\":{\"text\":\"lambda_l2\"},\"type\":\"log\"},\"yaxis3\":{\"anchor\":\"x3\",\"domain\":[0.0,1.0],\"matches\":\"y\",\"showticklabels\":false},\"xaxis4\":{\"anchor\":\"y4\",\"domain\":[0.5166666666666667,0.6555555555555557],\"title\":{\"text\":\"learning_rate\"},\"type\":\"log\"},\"yaxis4\":{\"anchor\":\"x4\",\"domain\":[0.0,1.0],\"matches\":\"y\",\"showticklabels\":false},\"xaxis5\":{\"anchor\":\"y5\",\"domain\":[0.6888888888888889,0.8277777777777777],\"title\":{\"text\":\"min_gain_to_split\"},\"type\":\"log\"},\"yaxis5\":{\"anchor\":\"x5\",\"domain\":[0.0,1.0],\"matches\":\"y\",\"showticklabels\":false},\"xaxis6\":{\"anchor\":\"y6\",\"domain\":[0.861111111111111,1.0],\"title\":{\"text\":\"subsample\"},\"type\":\"log\"},\"yaxis6\":{\"anchor\":\"x6\",\"domain\":[0.0,1.0],\"matches\":\"y\",\"showticklabels\":false},\"title\":{\"text\":\"Slice Plot\"},\"width\":1800},                        {\"responsive\": true}                    ).then(function(){\n",
              "                            \n",
              "var gd = document.getElementById('3e84f424-1a71-43ad-9b2d-7c5f084f6eac');\n",
              "var x = new MutationObserver(function (mutations, observer) {{\n",
              "        var display = window.getComputedStyle(gd).display;\n",
              "        if (!display || display === 'none') {{\n",
              "            console.log([gd, 'removed!']);\n",
              "            Plotly.purge(gd);\n",
              "            observer.disconnect();\n",
              "        }}\n",
              "}});\n",
              "\n",
              "// Listen for the removal of the full notebook cells\n",
              "var notebookContainer = gd.closest('#notebook-container');\n",
              "if (notebookContainer) {{\n",
              "    x.observe(notebookContainer, {childList: true});\n",
              "}}\n",
              "\n",
              "// Listen for the clearing of the current output cell\n",
              "var outputEl = gd.closest('.output');\n",
              "if (outputEl) {{\n",
              "    x.observe(outputEl, {childList: true});\n",
              "}}\n",
              "\n",
              "                        })                };                            </script>        </div>\n",
              "</body>\n",
              "</html>"
            ]
          },
          "metadata": {}
        }
      ]
    },
    {
      "cell_type": "code",
      "source": [
        "optuna.visualization.plot_optimization_history(study_lgb_gbdt)"
      ],
      "metadata": {
        "colab": {
          "base_uri": "https://localhost:8080/",
          "height": 542
        },
        "id": "rdGwLiGXwIsg",
        "outputId": "5113ecd9-e91e-4325-ee15-665706a3f62e"
      },
      "execution_count": null,
      "outputs": [
        {
          "output_type": "display_data",
          "data": {
            "text/html": [
              "<html>\n",
              "<head><meta charset=\"utf-8\" /></head>\n",
              "<body>\n",
              "    <div>            <script src=\"https://cdnjs.cloudflare.com/ajax/libs/mathjax/2.7.5/MathJax.js?config=TeX-AMS-MML_SVG\"></script><script type=\"text/javascript\">if (window.MathJax && window.MathJax.Hub && window.MathJax.Hub.Config) {window.MathJax.Hub.Config({SVG: {font: \"STIX-Web\"}});}</script>                <script type=\"text/javascript\">window.PlotlyConfig = {MathJaxConfig: 'local'};</script>\n",
              "        <script charset=\"utf-8\" src=\"https://cdn.plot.ly/plotly-2.24.1.min.js\"></script>                <div id=\"69fe7de7-f79c-4759-81b1-a85e8e1937de\" class=\"plotly-graph-div\" style=\"height:525px; width:100%;\"></div>            <script type=\"text/javascript\">                                    window.PLOTLYENV=window.PLOTLYENV || {};                                    if (document.getElementById(\"69fe7de7-f79c-4759-81b1-a85e8e1937de\")) {                    Plotly.newPlot(                        \"69fe7de7-f79c-4759-81b1-a85e8e1937de\",                        [{\"mode\":\"markers\",\"name\":\"Objective Value\",\"x\":[0,1,2,3,4,5,6,7,8,9,10,11,12,13,14,15,16,17,18,19,20,21,22,23,24,25,26,27,28,29],\"y\":[0.584856662512576,0.5846951031940851,0.5846978188257462,0.5850589597434267,0.5850036032977309,0.5849354752686721,0.5852199438361765,0.5851505707707504,0.585380952918425,0.5849432406107665,0.5848923597378254,0.5848136049644348,0.5849905410508884,0.5846610627903153,0.584239957667465,0.5853416823024344,0.5857103855094683,0.5851561906195208,0.5850950421151703,0.5853384478280521,0.5848579528831795,0.5838001777594004,0.585273821425268,0.5849933385361084,0.5847635330026666,0.5852285771629759,0.584614871445625,0.5833902591622065,0.5847388367578951,0.5862039524767808],\"type\":\"scatter\"},{\"mode\":\"lines\",\"name\":\"Best Value\",\"x\":[0,1,2,3,4,5,6,7,8,9,10,11,12,13,14,15,16,17,18,19,20,21,22,23,24,25,26,27,28,29],\"y\":[0.584856662512576,0.5846951031940851,0.5846951031940851,0.5846951031940851,0.5846951031940851,0.5846951031940851,0.5846951031940851,0.5846951031940851,0.5846951031940851,0.5846951031940851,0.5846951031940851,0.5846951031940851,0.5846951031940851,0.5846610627903153,0.584239957667465,0.584239957667465,0.584239957667465,0.584239957667465,0.584239957667465,0.584239957667465,0.584239957667465,0.5838001777594004,0.5838001777594004,0.5838001777594004,0.5838001777594004,0.5838001777594004,0.5838001777594004,0.5833902591622065,0.5833902591622065,0.5833902591622065],\"type\":\"scatter\"},{\"marker\":{\"color\":\"#cccccc\"},\"mode\":\"markers\",\"name\":\"Infeasible Trial\",\"showlegend\":false,\"x\":[],\"y\":[],\"type\":\"scatter\"}],                        {\"title\":{\"text\":\"Optimization History Plot\"},\"xaxis\":{\"title\":{\"text\":\"Trial\"}},\"yaxis\":{\"title\":{\"text\":\"Objective Value\"}},\"template\":{\"data\":{\"histogram2dcontour\":[{\"type\":\"histogram2dcontour\",\"colorbar\":{\"outlinewidth\":0,\"ticks\":\"\"},\"colorscale\":[[0.0,\"#0d0887\"],[0.1111111111111111,\"#46039f\"],[0.2222222222222222,\"#7201a8\"],[0.3333333333333333,\"#9c179e\"],[0.4444444444444444,\"#bd3786\"],[0.5555555555555556,\"#d8576b\"],[0.6666666666666666,\"#ed7953\"],[0.7777777777777778,\"#fb9f3a\"],[0.8888888888888888,\"#fdca26\"],[1.0,\"#f0f921\"]]}],\"choropleth\":[{\"type\":\"choropleth\",\"colorbar\":{\"outlinewidth\":0,\"ticks\":\"\"}}],\"histogram2d\":[{\"type\":\"histogram2d\",\"colorbar\":{\"outlinewidth\":0,\"ticks\":\"\"},\"colorscale\":[[0.0,\"#0d0887\"],[0.1111111111111111,\"#46039f\"],[0.2222222222222222,\"#7201a8\"],[0.3333333333333333,\"#9c179e\"],[0.4444444444444444,\"#bd3786\"],[0.5555555555555556,\"#d8576b\"],[0.6666666666666666,\"#ed7953\"],[0.7777777777777778,\"#fb9f3a\"],[0.8888888888888888,\"#fdca26\"],[1.0,\"#f0f921\"]]}],\"heatmap\":[{\"type\":\"heatmap\",\"colorbar\":{\"outlinewidth\":0,\"ticks\":\"\"},\"colorscale\":[[0.0,\"#0d0887\"],[0.1111111111111111,\"#46039f\"],[0.2222222222222222,\"#7201a8\"],[0.3333333333333333,\"#9c179e\"],[0.4444444444444444,\"#bd3786\"],[0.5555555555555556,\"#d8576b\"],[0.6666666666666666,\"#ed7953\"],[0.7777777777777778,\"#fb9f3a\"],[0.8888888888888888,\"#fdca26\"],[1.0,\"#f0f921\"]]}],\"heatmapgl\":[{\"type\":\"heatmapgl\",\"colorbar\":{\"outlinewidth\":0,\"ticks\":\"\"},\"colorscale\":[[0.0,\"#0d0887\"],[0.1111111111111111,\"#46039f\"],[0.2222222222222222,\"#7201a8\"],[0.3333333333333333,\"#9c179e\"],[0.4444444444444444,\"#bd3786\"],[0.5555555555555556,\"#d8576b\"],[0.6666666666666666,\"#ed7953\"],[0.7777777777777778,\"#fb9f3a\"],[0.8888888888888888,\"#fdca26\"],[1.0,\"#f0f921\"]]}],\"contourcarpet\":[{\"type\":\"contourcarpet\",\"colorbar\":{\"outlinewidth\":0,\"ticks\":\"\"}}],\"contour\":[{\"type\":\"contour\",\"colorbar\":{\"outlinewidth\":0,\"ticks\":\"\"},\"colorscale\":[[0.0,\"#0d0887\"],[0.1111111111111111,\"#46039f\"],[0.2222222222222222,\"#7201a8\"],[0.3333333333333333,\"#9c179e\"],[0.4444444444444444,\"#bd3786\"],[0.5555555555555556,\"#d8576b\"],[0.6666666666666666,\"#ed7953\"],[0.7777777777777778,\"#fb9f3a\"],[0.8888888888888888,\"#fdca26\"],[1.0,\"#f0f921\"]]}],\"surface\":[{\"type\":\"surface\",\"colorbar\":{\"outlinewidth\":0,\"ticks\":\"\"},\"colorscale\":[[0.0,\"#0d0887\"],[0.1111111111111111,\"#46039f\"],[0.2222222222222222,\"#7201a8\"],[0.3333333333333333,\"#9c179e\"],[0.4444444444444444,\"#bd3786\"],[0.5555555555555556,\"#d8576b\"],[0.6666666666666666,\"#ed7953\"],[0.7777777777777778,\"#fb9f3a\"],[0.8888888888888888,\"#fdca26\"],[1.0,\"#f0f921\"]]}],\"mesh3d\":[{\"type\":\"mesh3d\",\"colorbar\":{\"outlinewidth\":0,\"ticks\":\"\"}}],\"scatter\":[{\"fillpattern\":{\"fillmode\":\"overlay\",\"size\":10,\"solidity\":0.2},\"type\":\"scatter\"}],\"parcoords\":[{\"type\":\"parcoords\",\"line\":{\"colorbar\":{\"outlinewidth\":0,\"ticks\":\"\"}}}],\"scatterpolargl\":[{\"type\":\"scatterpolargl\",\"marker\":{\"colorbar\":{\"outlinewidth\":0,\"ticks\":\"\"}}}],\"bar\":[{\"error_x\":{\"color\":\"#2a3f5f\"},\"error_y\":{\"color\":\"#2a3f5f\"},\"marker\":{\"line\":{\"color\":\"#E5ECF6\",\"width\":0.5},\"pattern\":{\"fillmode\":\"overlay\",\"size\":10,\"solidity\":0.2}},\"type\":\"bar\"}],\"scattergeo\":[{\"type\":\"scattergeo\",\"marker\":{\"colorbar\":{\"outlinewidth\":0,\"ticks\":\"\"}}}],\"scatterpolar\":[{\"type\":\"scatterpolar\",\"marker\":{\"colorbar\":{\"outlinewidth\":0,\"ticks\":\"\"}}}],\"histogram\":[{\"marker\":{\"pattern\":{\"fillmode\":\"overlay\",\"size\":10,\"solidity\":0.2}},\"type\":\"histogram\"}],\"scattergl\":[{\"type\":\"scattergl\",\"marker\":{\"colorbar\":{\"outlinewidth\":0,\"ticks\":\"\"}}}],\"scatter3d\":[{\"type\":\"scatter3d\",\"line\":{\"colorbar\":{\"outlinewidth\":0,\"ticks\":\"\"}},\"marker\":{\"colorbar\":{\"outlinewidth\":0,\"ticks\":\"\"}}}],\"scattermapbox\":[{\"type\":\"scattermapbox\",\"marker\":{\"colorbar\":{\"outlinewidth\":0,\"ticks\":\"\"}}}],\"scatterternary\":[{\"type\":\"scatterternary\",\"marker\":{\"colorbar\":{\"outlinewidth\":0,\"ticks\":\"\"}}}],\"scattercarpet\":[{\"type\":\"scattercarpet\",\"marker\":{\"colorbar\":{\"outlinewidth\":0,\"ticks\":\"\"}}}],\"carpet\":[{\"aaxis\":{\"endlinecolor\":\"#2a3f5f\",\"gridcolor\":\"white\",\"linecolor\":\"white\",\"minorgridcolor\":\"white\",\"startlinecolor\":\"#2a3f5f\"},\"baxis\":{\"endlinecolor\":\"#2a3f5f\",\"gridcolor\":\"white\",\"linecolor\":\"white\",\"minorgridcolor\":\"white\",\"startlinecolor\":\"#2a3f5f\"},\"type\":\"carpet\"}],\"table\":[{\"cells\":{\"fill\":{\"color\":\"#EBF0F8\"},\"line\":{\"color\":\"white\"}},\"header\":{\"fill\":{\"color\":\"#C8D4E3\"},\"line\":{\"color\":\"white\"}},\"type\":\"table\"}],\"barpolar\":[{\"marker\":{\"line\":{\"color\":\"#E5ECF6\",\"width\":0.5},\"pattern\":{\"fillmode\":\"overlay\",\"size\":10,\"solidity\":0.2}},\"type\":\"barpolar\"}],\"pie\":[{\"automargin\":true,\"type\":\"pie\"}]},\"layout\":{\"autotypenumbers\":\"strict\",\"colorway\":[\"#636efa\",\"#EF553B\",\"#00cc96\",\"#ab63fa\",\"#FFA15A\",\"#19d3f3\",\"#FF6692\",\"#B6E880\",\"#FF97FF\",\"#FECB52\"],\"font\":{\"color\":\"#2a3f5f\"},\"hovermode\":\"closest\",\"hoverlabel\":{\"align\":\"left\"},\"paper_bgcolor\":\"white\",\"plot_bgcolor\":\"#E5ECF6\",\"polar\":{\"bgcolor\":\"#E5ECF6\",\"angularaxis\":{\"gridcolor\":\"white\",\"linecolor\":\"white\",\"ticks\":\"\"},\"radialaxis\":{\"gridcolor\":\"white\",\"linecolor\":\"white\",\"ticks\":\"\"}},\"ternary\":{\"bgcolor\":\"#E5ECF6\",\"aaxis\":{\"gridcolor\":\"white\",\"linecolor\":\"white\",\"ticks\":\"\"},\"baxis\":{\"gridcolor\":\"white\",\"linecolor\":\"white\",\"ticks\":\"\"},\"caxis\":{\"gridcolor\":\"white\",\"linecolor\":\"white\",\"ticks\":\"\"}},\"coloraxis\":{\"colorbar\":{\"outlinewidth\":0,\"ticks\":\"\"}},\"colorscale\":{\"sequential\":[[0.0,\"#0d0887\"],[0.1111111111111111,\"#46039f\"],[0.2222222222222222,\"#7201a8\"],[0.3333333333333333,\"#9c179e\"],[0.4444444444444444,\"#bd3786\"],[0.5555555555555556,\"#d8576b\"],[0.6666666666666666,\"#ed7953\"],[0.7777777777777778,\"#fb9f3a\"],[0.8888888888888888,\"#fdca26\"],[1.0,\"#f0f921\"]],\"sequentialminus\":[[0.0,\"#0d0887\"],[0.1111111111111111,\"#46039f\"],[0.2222222222222222,\"#7201a8\"],[0.3333333333333333,\"#9c179e\"],[0.4444444444444444,\"#bd3786\"],[0.5555555555555556,\"#d8576b\"],[0.6666666666666666,\"#ed7953\"],[0.7777777777777778,\"#fb9f3a\"],[0.8888888888888888,\"#fdca26\"],[1.0,\"#f0f921\"]],\"diverging\":[[0,\"#8e0152\"],[0.1,\"#c51b7d\"],[0.2,\"#de77ae\"],[0.3,\"#f1b6da\"],[0.4,\"#fde0ef\"],[0.5,\"#f7f7f7\"],[0.6,\"#e6f5d0\"],[0.7,\"#b8e186\"],[0.8,\"#7fbc41\"],[0.9,\"#4d9221\"],[1,\"#276419\"]]},\"xaxis\":{\"gridcolor\":\"white\",\"linecolor\":\"white\",\"ticks\":\"\",\"title\":{\"standoff\":15},\"zerolinecolor\":\"white\",\"automargin\":true,\"zerolinewidth\":2},\"yaxis\":{\"gridcolor\":\"white\",\"linecolor\":\"white\",\"ticks\":\"\",\"title\":{\"standoff\":15},\"zerolinecolor\":\"white\",\"automargin\":true,\"zerolinewidth\":2},\"scene\":{\"xaxis\":{\"backgroundcolor\":\"#E5ECF6\",\"gridcolor\":\"white\",\"linecolor\":\"white\",\"showbackground\":true,\"ticks\":\"\",\"zerolinecolor\":\"white\",\"gridwidth\":2},\"yaxis\":{\"backgroundcolor\":\"#E5ECF6\",\"gridcolor\":\"white\",\"linecolor\":\"white\",\"showbackground\":true,\"ticks\":\"\",\"zerolinecolor\":\"white\",\"gridwidth\":2},\"zaxis\":{\"backgroundcolor\":\"#E5ECF6\",\"gridcolor\":\"white\",\"linecolor\":\"white\",\"showbackground\":true,\"ticks\":\"\",\"zerolinecolor\":\"white\",\"gridwidth\":2}},\"shapedefaults\":{\"line\":{\"color\":\"#2a3f5f\"}},\"annotationdefaults\":{\"arrowcolor\":\"#2a3f5f\",\"arrowhead\":0,\"arrowwidth\":1},\"geo\":{\"bgcolor\":\"white\",\"landcolor\":\"#E5ECF6\",\"subunitcolor\":\"white\",\"showland\":true,\"showlakes\":true,\"lakecolor\":\"white\"},\"title\":{\"x\":0.05},\"mapbox\":{\"style\":\"light\"}}}},                        {\"responsive\": true}                    ).then(function(){\n",
              "                            \n",
              "var gd = document.getElementById('69fe7de7-f79c-4759-81b1-a85e8e1937de');\n",
              "var x = new MutationObserver(function (mutations, observer) {{\n",
              "        var display = window.getComputedStyle(gd).display;\n",
              "        if (!display || display === 'none') {{\n",
              "            console.log([gd, 'removed!']);\n",
              "            Plotly.purge(gd);\n",
              "            observer.disconnect();\n",
              "        }}\n",
              "}});\n",
              "\n",
              "// Listen for the removal of the full notebook cells\n",
              "var notebookContainer = gd.closest('#notebook-container');\n",
              "if (notebookContainer) {{\n",
              "    x.observe(notebookContainer, {childList: true});\n",
              "}}\n",
              "\n",
              "// Listen for the clearing of the current output cell\n",
              "var outputEl = gd.closest('.output');\n",
              "if (outputEl) {{\n",
              "    x.observe(outputEl, {childList: true});\n",
              "}}\n",
              "\n",
              "                        })                };                            </script>        </div>\n",
              "</body>\n",
              "</html>"
            ]
          },
          "metadata": {}
        }
      ]
    },
    {
      "cell_type": "markdown",
      "source": [
        "#### <h2> Fitting to Train </h2> ####"
      ],
      "metadata": {
        "id": "RBx44UTDuwp6"
      }
    },
    {
      "cell_type": "code",
      "source": [
        "# Best Parameter\n",
        "best_params_lgb = study_lgb_gbdt.best_params\n",
        "\n",
        "lgb_optuna_gbdt = LGBMRegressor(objective='regression', metric='rmse', verbosity=-1,\n",
        "                          bagging_freq=1, random_state=123,\n",
        "                           **best_params_lgb)\n",
        "\n",
        "print(lgb_optuna_gbdt)\n",
        "lgb_optuna_gbdt.fit(X_train_nonscaled, y_train_nonscaled)\n",
        "train_preds_lgb = lgb_optuna_gbdt.predict(X_train_nonscaled)\n",
        "train_rmse_lgb = np.sqrt(mse(y_train_nonscaled, train_preds_lgb))\n",
        "\n",
        "print(\"\")\n",
        "print(f\"Train RMSE LightGBM: {train_rmse_lgb}\")"
      ],
      "metadata": {
        "colab": {
          "base_uri": "https://localhost:8080/"
        },
        "id": "tZvulxaIBd0r",
        "outputId": "bd9d8bf9-16fb-4cd4-db61-a9fb1bdca892"
      },
      "execution_count": null,
      "outputs": [
        {
          "output_type": "stream",
          "name": "stdout",
          "text": [
            "LGBMRegressor(bagging_freq=1, colsample_bytree=0.7497729483767315,\n",
            "              lambda_l1=0.14198433814166272, lambda_l2=0.1392045128848738,\n",
            "              learning_rate=0.055183554718213325, metric='rmse',\n",
            "              min_gain_to_split=0.10626277561299022, objective='regression',\n",
            "              random_state=123, subsample=0.8924759493436066, verbosity=-1)\n",
            "\n",
            "Train RMSE LightGBM: 0.7012264003631203\n"
          ]
        }
      ]
    },
    {
      "cell_type": "code",
      "source": [
        "feature_importance_viz(df_train, lgb_optuna_gbdt)"
      ],
      "metadata": {
        "colab": {
          "base_uri": "https://localhost:8080/",
          "height": 564
        },
        "id": "3S1mTdh5F9_4",
        "outputId": "9214023b-5422-47c7-95b7-49ba2cf213ca"
      },
      "execution_count": null,
      "outputs": [
        {
          "output_type": "display_data",
          "data": {
            "text/plain": [
              "<Figure size 1000x600 with 1 Axes>"
            ],
            "image/png": "[encoded data removed]"
          },
          "metadata": {}
        }
      ]
    },
    {
      "cell_type": "code",
      "source": [
        "analysis = df_train.copy()\n",
        "analysis['pred'] = train_preds_lgb\n",
        "analysis['error'] = analysis['price_mean'] - analysis['pred']\n",
        "analysis['rmse'] = train_rmse_lgb\n",
        "\n",
        "errors = analysis.groupby('hour')[['error', 'rmse']].agg('mean').sort_values(by='hour', ascending=False)\n",
        "errors[:10]"
      ],
      "metadata": {
        "colab": {
          "base_uri": "https://localhost:8080/",
          "height": 519
        },
        "id": "f0JHPycTYj5g",
        "outputId": "af50fd53-8c3c-44d3-84e9-58daaf4feed1"
      },
      "execution_count": null,
      "outputs": [
        {
          "output_type": "execute_result",
          "data": {
            "text/plain": [
              "                  error       rmse\n",
              "hour                              \n",
              "23.00000000 -0.03243485 0.70122640\n",
              "22.00000000 -0.00708663 0.70122640\n",
              "21.00000000 -0.03068189 0.70122640\n",
              "20.00000000 -0.03681616 0.70122640\n",
              "19.00000000  0.00261711 0.70122640\n",
              "18.00000000 -0.03770710 0.70122640\n",
              "17.00000000  0.01712564 0.70122640\n",
              "16.00000000 -0.01196824 0.70122640\n",
              "15.00000000  0.01251783 0.70122640\n",
              "14.00000000  0.00241751 0.70122640\n",
              "13.00000000  0.02823452 0.70122640\n",
              "12.00000000 -0.01022501 0.70122640\n",
              "11.00000000  0.01679899 0.70122640\n",
              "10.00000000  0.01597742 0.70122640"
            ],
            "text/html": [
              "\n",
              "  <div id=\"df-cdc0e0c2-6792-4833-a3cb-bc9494e0d183\" class=\"colab-df-container\">\n",
              "    <div>\n",
              "<style scoped>\n",
              "    .dataframe tbody tr th:only-of-type {\n",
              "        vertical-align: middle;\n",
              "    }\n",
              "\n",
              "    .dataframe tbody tr th {\n",
              "        vertical-align: top;\n",
              "    }\n",
              "\n",
              "    .dataframe thead th {\n",
              "        text-align: right;\n",
              "    }\n",
              "</style>\n",
              "<table border=\"1\" class=\"dataframe\">\n",
              "  <thead>\n",
              "    <tr style=\"text-align: right;\">\n",
              "      <th></th>\n",
              "      <th>error</th>\n",
              "      <th>rmse</th>\n",
              "    </tr>\n",
              "    <tr>\n",
              "      <th>hour</th>\n",
              "      <th></th>\n",
              "      <th></th>\n",
              "    </tr>\n",
              "  </thead>\n",
              "  <tbody>\n",
              "    <tr>\n",
              "      <th>23.00000000</th>\n",
              "      <td>-0.03243485</td>\n",
              "      <td>0.70122640</td>\n",
              "    </tr>\n",
              "    <tr>\n",
              "      <th>22.00000000</th>\n",
              "      <td>-0.00708663</td>\n",
              "      <td>0.70122640</td>\n",
              "    </tr>\n",
              "    <tr>\n",
              "      <th>21.00000000</th>\n",
              "      <td>-0.03068189</td>\n",
              "      <td>0.70122640</td>\n",
              "    </tr>\n",
              "    <tr>\n",
              "      <th>20.00000000</th>\n",
              "      <td>-0.03681616</td>\n",
              "      <td>0.70122640</td>\n",
              "    </tr>\n",
              "    <tr>\n",
              "      <th>19.00000000</th>\n",
              "      <td>0.00261711</td>\n",
              "      <td>0.70122640</td>\n",
              "    </tr>\n",
              "    <tr>\n",
              "      <th>18.00000000</th>\n",
              "      <td>-0.03770710</td>\n",
              "      <td>0.70122640</td>\n",
              "    </tr>\n",
              "    <tr>\n",
              "      <th>17.00000000</th>\n",
              "      <td>0.01712564</td>\n",
              "      <td>0.70122640</td>\n",
              "    </tr>\n",
              "    <tr>\n",
              "      <th>16.00000000</th>\n",
              "      <td>-0.01196824</td>\n",
              "      <td>0.70122640</td>\n",
              "    </tr>\n",
              "    <tr>\n",
              "      <th>15.00000000</th>\n",
              "      <td>0.01251783</td>\n",
              "      <td>0.70122640</td>\n",
              "    </tr>\n",
              "    <tr>\n",
              "      <th>14.00000000</th>\n",
              "      <td>0.00241751</td>\n",
              "      <td>0.70122640</td>\n",
              "    </tr>\n",
              "    <tr>\n",
              "      <th>13.00000000</th>\n",
              "      <td>0.02823452</td>\n",
              "      <td>0.70122640</td>\n",
              "    </tr>\n",
              "    <tr>\n",
              "      <th>12.00000000</th>\n",
              "      <td>-0.01022501</td>\n",
              "      <td>0.70122640</td>\n",
              "    </tr>\n",
              "    <tr>\n",
              "      <th>11.00000000</th>\n",
              "      <td>0.01679899</td>\n",
              "      <td>0.70122640</td>\n",
              "    </tr>\n",
              "    <tr>\n",
              "      <th>10.00000000</th>\n",
              "      <td>0.01597742</td>\n",
              "      <td>0.70122640</td>\n",
              "    </tr>\n",
              "  </tbody>\n",
              "</table>\n",
              "</div>\n",
              "    <div class=\"colab-df-buttons\">\n",
              "\n",
              "  <div class=\"colab-df-container\">\n",
              "    <button class=\"colab-df-convert\" onclick=\"convertToInteractive('df-cdc0e0c2-6792-4833-a3cb-bc9494e0d183')\"\n",
              "            title=\"Convert this dataframe to an interactive table.\"\n",
              "            style=\"display:none;\">\n",
              "\n",
              "  <svg xmlns=\"http://www.w3.org/2000/svg\" height=\"24px\" viewBox=\"0 -960 960 960\">\n",
              "    <path d=\"M120-120v-720h720v720H120Zm60-500h600v-160H180v160Zm220 220h160v-160H400v160Zm0 220h160v-160H400v160ZM180-400h160v-160H180v160Zm440 0h160v-160H620v160ZM180-180h160v-160H180v160Zm440 0h160v-160H620v160Z\"/>\n",
              "  </svg>\n",
              "    </button>\n",
              "\n",
              "  <style>\n",
              "    .colab-df-container {\n",
              "      display:flex;\n",
              "      gap: 12px;\n",
              "    }\n",
              "\n",
              "    .colab-df-convert {\n",
              "      background-color: #E8F0FE;\n",
              "      border: none;\n",
              "      border-radius: 50%;\n",
              "      cursor: pointer;\n",
              "      display: none;\n",
              "      fill: #1967D2;\n",
              "      height: 32px;\n",
              "      padding: 0 0 0 0;\n",
              "      width: 32px;\n",
              "    }\n",
              "\n",
              "    .colab-df-convert:hover {\n",
              "      background-color: #E2EBFA;\n",
              "      box-shadow: 0px 1px 2px rgba(60, 64, 67, 0.3), 0px 1px 3px 1px rgba(60, 64, 67, 0.15);\n",
              "      fill: #174EA6;\n",
              "    }\n",
              "\n",
              "    .colab-df-buttons div {\n",
              "      margin-bottom: 4px;\n",
              "    }\n",
              "\n",
              "    [theme=dark] .colab-df-convert {\n",
              "      background-color: #3B4455;\n",
              "      fill: #D2E3FC;\n",
              "    }\n",
              "\n",
              "    [theme=dark] .colab-df-convert:hover {\n",
              "      background-color: #434B5C;\n",
              "      box-shadow: 0px 1px 3px 1px rgba(0, 0, 0, 0.15);\n",
              "      filter: drop-shadow(0px 1px 2px rgba(0, 0, 0, 0.3));\n",
              "      fill: #FFFFFF;\n",
              "    }\n",
              "  </style>\n",
              "\n",
              "    <script>\n",
              "      const buttonEl =\n",
              "        document.querySelector('#df-cdc0e0c2-6792-4833-a3cb-bc9494e0d183 button.colab-df-convert');\n",
              "      buttonEl.style.display =\n",
              "        google.colab.kernel.accessAllowed ? 'block' : 'none';\n",
              "\n",
              "      async function convertToInteractive(key) {\n",
              "        const element = document.querySelector('#df-cdc0e0c2-6792-4833-a3cb-bc9494e0d183');\n",
              "        const dataTable =\n",
              "          await google.colab.kernel.invokeFunction('convertToInteractive',\n",
              "                                                    [key], {});\n",
              "        if (!dataTable) return;\n",
              "\n",
              "        const docLinkHtml = 'Like what you see? Visit the ' +\n",
              "          '<a target=\"_blank\" href=https://colab.research.google.com/notebooks/data_table.ipynb>data table notebook</a>'\n",
              "          + ' to learn more about interactive tables.';\n",
              "        element.innerHTML = '';\n",
              "        dataTable['output_type'] = 'display_data';\n",
              "        await google.colab.output.renderOutput(dataTable, element);\n",
              "        const docLink = document.createElement('div');\n",
              "        docLink.innerHTML = docLinkHtml;\n",
              "        element.appendChild(docLink);\n",
              "      }\n",
              "    </script>\n",
              "  </div>\n",
              "\n",
              "\n",
              "<div id=\"df-aefceb80-5c20-47f9-9002-30ca811c5338\">\n",
              "  <button class=\"colab-df-quickchart\" onclick=\"quickchart('df-aefceb80-5c20-47f9-9002-30ca811c5338')\"\n",
              "            title=\"Suggest charts\"\n",
              "            style=\"display:none;\">\n",
              "\n",
              "<svg xmlns=\"http://www.w3.org/2000/svg\" height=\"24px\"viewBox=\"0 0 24 24\"\n",
              "     width=\"24px\">\n",
              "    <g>\n",
              "        <path d=\"M19 3H5c-1.1 0-2 .9-2 2v14c0 1.1.9 2 2 2h14c1.1 0 2-.9 2-2V5c0-1.1-.9-2-2-2zM9 17H7v-7h2v7zm4 0h-2V7h2v10zm4 0h-2v-4h2v4z\"/>\n",
              "    </g>\n",
              "</svg>\n",
              "  </button>\n",
              "\n",
              "<style>\n",
              "  .colab-df-quickchart {\n",
              "      --bg-color: #E8F0FE;\n",
              "      --fill-color: #1967D2;\n",
              "      --hover-bg-color: #E2EBFA;\n",
              "      --hover-fill-color: #174EA6;\n",
              "      --disabled-fill-color: #AAA;\n",
              "      --disabled-bg-color: #DDD;\n",
              "  }\n",
              "\n",
              "  [theme=dark] .colab-df-quickchart {\n",
              "      --bg-color: #3B4455;\n",
              "      --fill-color: #D2E3FC;\n",
              "      --hover-bg-color: #434B5C;\n",
              "      --hover-fill-color: #FFFFFF;\n",
              "      --disabled-bg-color: #3B4455;\n",
              "      --disabled-fill-color: #666;\n",
              "  }\n",
              "\n",
              "  .colab-df-quickchart {\n",
              "    background-color: var(--bg-color);\n",
              "    border: none;\n",
              "    border-radius: 50%;\n",
              "    cursor: pointer;\n",
              "    display: none;\n",
              "    fill: var(--fill-color);\n",
              "    height: 32px;\n",
              "    padding: 0;\n",
              "    width: 32px;\n",
              "  }\n",
              "\n",
              "  .colab-df-quickchart:hover {\n",
              "    background-color: var(--hover-bg-color);\n",
              "    box-shadow: 0 1px 2px rgba(60, 64, 67, 0.3), 0 1px 3px 1px rgba(60, 64, 67, 0.15);\n",
              "    fill: var(--button-hover-fill-color);\n",
              "  }\n",
              "\n",
              "  .colab-df-quickchart-complete:disabled,\n",
              "  .colab-df-quickchart-complete:disabled:hover {\n",
              "    background-color: var(--disabled-bg-color);\n",
              "    fill: var(--disabled-fill-color);\n",
              "    box-shadow: none;\n",
              "  }\n",
              "\n",
              "  .colab-df-spinner {\n",
              "    border: 2px solid var(--fill-color);\n",
              "    border-color: transparent;\n",
              "    border-bottom-color: var(--fill-color);\n",
              "    animation:\n",
              "      spin 1s steps(1) infinite;\n",
              "  }\n",
              "\n",
              "  @keyframes spin {\n",
              "    0% {\n",
              "      border-color: transparent;\n",
              "      border-bottom-color: var(--fill-color);\n",
              "      border-left-color: var(--fill-color);\n",
              "    }\n",
              "    20% {\n",
              "      border-color: transparent;\n",
              "      border-left-color: var(--fill-color);\n",
              "      border-top-color: var(--fill-color);\n",
              "    }\n",
              "    30% {\n",
              "      border-color: transparent;\n",
              "      border-left-color: var(--fill-color);\n",
              "      border-top-color: var(--fill-color);\n",
              "      border-right-color: var(--fill-color);\n",
              "    }\n",
              "    40% {\n",
              "      border-color: transparent;\n",
              "      border-right-color: var(--fill-color);\n",
              "      border-top-color: var(--fill-color);\n",
              "    }\n",
              "    60% {\n",
              "      border-color: transparent;\n",
              "      border-right-color: var(--fill-color);\n",
              "    }\n",
              "    80% {\n",
              "      border-color: transparent;\n",
              "      border-right-color: var(--fill-color);\n",
              "      border-bottom-color: var(--fill-color);\n",
              "    }\n",
              "    90% {\n",
              "      border-color: transparent;\n",
              "      border-bottom-color: var(--fill-color);\n",
              "    }\n",
              "  }\n",
              "</style>\n",
              "\n",
              "  <script>\n",
              "    async function quickchart(key) {\n",
              "      const quickchartButtonEl =\n",
              "        document.querySelector('#' + key + ' button');\n",
              "      quickchartButtonEl.disabled = true;  // To prevent multiple clicks.\n",
              "      quickchartButtonEl.classList.add('colab-df-spinner');\n",
              "      try {\n",
              "        const charts = await google.colab.kernel.invokeFunction(\n",
              "            'suggestCharts', [key], {});\n",
              "      } catch (error) {\n",
              "        console.error('Error during call to suggestCharts:', error);\n",
              "      }\n",
              "      quickchartButtonEl.classList.remove('colab-df-spinner');\n",
              "      quickchartButtonEl.classList.add('colab-df-quickchart-complete');\n",
              "    }\n",
              "    (() => {\n",
              "      let quickchartButtonEl =\n",
              "        document.querySelector('#df-aefceb80-5c20-47f9-9002-30ca811c5338 button');\n",
              "      quickchartButtonEl.style.display =\n",
              "        google.colab.kernel.accessAllowed ? 'block' : 'none';\n",
              "    })();\n",
              "  </script>\n",
              "</div>\n",
              "    </div>\n",
              "  </div>\n"
            ]
          },
          "metadata": {},
          "execution_count": 107
        }
      ]
    },
    {
      "cell_type": "markdown",
      "source": [
        "#### <h2> Submission </h2> ####"
      ],
      "metadata": {
        "id": "dzeWvphTvF03"
      }
    },
    {
      "cell_type": "code",
      "source": [
        "submission = lgb_optuna_gbdt.predict(X_test)\n",
        "\n",
        "index = np.arange(0, 11040)\n",
        "\n",
        "df_submission = pd.DataFrame({'index': index, 'price_mean': submission})\n",
        "\n",
        "df_submission.to_csv('submission (LGB RMSE CV 0.5833, RMSE Train 0.7012).csv', index=False)"
      ],
      "metadata": {
        "id": "F7ghLoUavImV"
      },
      "execution_count": null,
      "outputs": []
    },
    {
      "cell_type": "markdown",
      "source": [
        "#### <h2> Saving Model </h2> ####"
      ],
      "metadata": {
        "id": "D3uk4Dt5u57L"
      }
    },
    {
      "cell_type": "code",
      "source": [
        "pickle.dump(lgb_optuna_gbdt, open('20231116-0112-LGBM.pkl', 'wb'))"
      ],
      "metadata": {
        "id": "kMVH4nWV2pRT"
      },
      "execution_count": null,
      "outputs": []
    },
    {
      "cell_type": "code",
      "source": [
        "url = 'https://github.com/JeftaAdriel/DataComp-PekanRistek23/raw/main/Model/20231111-1711-XGB.pkl'\n",
        "response = requests.get(url)\n",
        "lgb_optuna_gbdt = pickle.loads(response.content)"
      ],
      "metadata": {
        "id": "dnvIdqK2BZ7x"
      },
      "execution_count": null,
      "outputs": []
    },
    {
      "cell_type": "markdown",
      "source": [
        "### <h2> Boosting = goss </h2> ###"
      ],
      "metadata": {
        "id": "ErAFap0TCI5O"
      }
    },
    {
      "cell_type": "code",
      "source": [
        "start=time.time()\n",
        "\n",
        "kf = KFold(n_splits=30, shuffle=True, random_state=123)\n",
        "\n",
        "def objective(trial):\n",
        "  params = {\"objective\": \"regression\",\n",
        "            \"metric\": \"rmse\",\n",
        "            \"boosting\": \"goss\",\n",
        "            \"n_estimators\": 1000,\n",
        "            \"verbosity\": -1,\n",
        "            \"random_state\": 123,\n",
        "            \"learning_rate\": trial.suggest_float(\"learning_rate\", 0.015, 0.1, log=True),\n",
        "            \"num_leaves\": trial.suggest_int(\"num_leaves\", 2, 2**5),\n",
        "            \"subsample\": trial.suggest_float(\"subsample\", 0.7, 1.0),\n",
        "            \"colsample_bytree\": trial.suggest_float(\"colsample_bytree\", 0.7, 1.0),\n",
        "            \"min_data_in_leaf\": trial.suggest_int(\"min_data_in_leaf\", 20, 30)}\n",
        "\n",
        "  model = LGBMRegressor(**params)\n",
        "  best_score = cross_val_score(model, X_train_nonscaled, np.ravel(y_train_nonscaled), scoring='neg_root_mean_squared_error', cv=kf).mean()\n",
        "  return -best_score\n",
        "\n",
        "sampler = TPESampler(seed=123)\n",
        "study_lgb_goss = optuna.create_study(direction='minimize', sampler=sampler)\n",
        "study_lgb_goss.optimize(objective, n_trials=30)\n",
        "\n",
        "end = time.time()\n",
        "duration = end - start\n",
        "print(f\"The cell took {duration} seconds to run.\")"
      ],
      "metadata": {
        "id": "yhVol2dQCI5W"
      },
      "execution_count": null,
      "outputs": []
    },
    {
      "cell_type": "code",
      "source": [
        "print('Best hyperparameters:', study_lgb_goss.best_params)\n",
        "print('Best RMSE:', study_lgb_goss.best_value)"
      ],
      "metadata": {
        "id": "FFawuTTNCI5X"
      },
      "execution_count": null,
      "outputs": []
    },
    {
      "cell_type": "code",
      "source": [
        "study_lgb_goss.trials_dataframe().sort_values('value', ascending=True).head(5)"
      ],
      "metadata": {
        "id": "U4WKLNViCI5X"
      },
      "execution_count": null,
      "outputs": []
    },
    {
      "cell_type": "code",
      "source": [
        "#Visualize parameter importances.\n",
        "optuna.visualization.plot_param_importances(study_lgb_goss)"
      ],
      "metadata": {
        "id": "RC5hilpwCI5X"
      },
      "execution_count": null,
      "outputs": []
    },
    {
      "cell_type": "code",
      "source": [
        "optuna.visualization.plot_slice(study_lgb_goss)"
      ],
      "metadata": {
        "id": "eD7f0rMaCI5X"
      },
      "execution_count": null,
      "outputs": []
    },
    {
      "cell_type": "code",
      "source": [
        "optuna.visualization.plot_optimization_history(study_lgb_goss)"
      ],
      "metadata": {
        "id": "rvkjN5jBCI5X"
      },
      "execution_count": null,
      "outputs": []
    },
    {
      "cell_type": "code",
      "source": [
        "# Best Parameter\n",
        "best_params_lgb = study_lgb_goss.best_params\n",
        "\n",
        "lgb_optuna_goss = LGBMRegressor(objective='regression', metric='rmse',\n",
        "                                boosting='goss', random_state=123,\n",
        "                                n_estimators=1000, verbosity=-1,\n",
        "                                **best_params_lgb)\n",
        "\n",
        "print(lgb_optuna_goss)\n",
        "lgb_optuna_goss.fit(X_train_nonscaled, np.ravel(y_train_nonscaled))\n",
        "train_preds_lgb = lgb_optuna_goss.predict(X_train_nonscaled)\n",
        "train_rmse_lgb = np.sqrt(mse(y_train_nonscaled, train_preds_lgb))\n",
        "\n",
        "print(\"\")\n",
        "print(f\"Train RMSE LightGBM: {train_rmse_lgb}\")"
      ],
      "metadata": {
        "id": "iPG7f45NCI5X"
      },
      "execution_count": null,
      "outputs": []
    },
    {
      "cell_type": "markdown",
      "source": [
        "## <h2> HistGradientBoostingRegressor (FAILED) </h2> ##"
      ],
      "metadata": {
        "id": "4WeQmZz2N3eJ"
      }
    },
    {
      "cell_type": "code",
      "source": [
        "start=time.time()\n",
        "\n",
        "kf = KFold(n_splits=30, shuffle=True, random_state=123)\n",
        "\n",
        "def objective(trial):\n",
        "  params = {\"random_state\": 123,\n",
        "            \"learning_rate\": trial.suggest_float(\"learning_rate\", 0.048, 0.052, log=True),\n",
        "            \"l2_regularization\": trial.suggest_float(\"l2_regularization\", 0.003, 0.00305, log=True),\n",
        "            \"max_iter\": 1000,\n",
        "            \"max_depth\": 5,\n",
        "            \"max_leaf_nodes\": 54,\n",
        "            \"min_samples_leaf\": 22}\n",
        "\n",
        "  model = HistGradientBoostingRegressor(**params)\n",
        "  best_score = cross_val_score(model, X_train_nonscaled, y_train_nonscaled, scoring='neg_root_mean_squared_error', cv=kf).mean()\n",
        "  return -best_score\n",
        "\n",
        "sampler = TPESampler(seed=123)\n",
        "study_hgbr = optuna.create_study(direction='minimize', sampler=sampler)\n",
        "study_hgbr.optimize(objective, n_trials=30)\n",
        "\n",
        "end = time.time()\n",
        "duration = end - start\n",
        "print(f\"The cell took {duration} seconds to run.\")"
      ],
      "metadata": {
        "id": "2gLgh1n2N7y8"
      },
      "execution_count": null,
      "outputs": []
    },
    {
      "cell_type": "code",
      "source": [
        "print('Best hyperparameters:', study_hgbr.best_params)\n",
        "print('Best RMSE:', study_hgbr.best_value)"
      ],
      "metadata": {
        "id": "bD97PVMwt_tX"
      },
      "execution_count": null,
      "outputs": []
    },
    {
      "cell_type": "code",
      "source": [
        "study_hgbr.trials_dataframe().sort_values('value', ascending=True).head(5)"
      ],
      "metadata": {
        "id": "fnBx0fkZuMPZ"
      },
      "execution_count": null,
      "outputs": []
    },
    {
      "cell_type": "code",
      "source": [
        "#Visualize parameter importances.\n",
        "optuna.visualization.plot_param_importances(study_hgbr)"
      ],
      "metadata": {
        "id": "o2VTlpsAuMPa"
      },
      "execution_count": null,
      "outputs": []
    },
    {
      "cell_type": "code",
      "source": [
        "optuna.visualization.plot_slice(study_hgbr)"
      ],
      "metadata": {
        "id": "WheIr_PluMPa"
      },
      "execution_count": null,
      "outputs": []
    },
    {
      "cell_type": "code",
      "source": [
        "optuna.visualization.plot_optimization_history(study_hgbr)"
      ],
      "metadata": {
        "id": "TxEfuMMhuMPa"
      },
      "execution_count": null,
      "outputs": []
    },
    {
      "cell_type": "code",
      "source": [
        "# Best Parameter\n",
        "best_params_hgbr = study_hgbr.best_params\n",
        "\n",
        "hgbr = HistGradientBoostingRegressor(random_state = 123,\n",
        "                                     max_iter = 1000,\n",
        "                                     **best_params_hgbr)\n",
        "\n",
        "print(hgbr)\n",
        "hgbr.fit(X_train_nonscaled, y_train_nonscaled)\n",
        "train_preds_hgbr = hgbr.predict(X_train_nonscaled)\n",
        "train_rmse_hgbr = np.sqrt(mse(y_train_nonscaled, train_preds_hgbr))\n",
        "\n",
        "print(\"\")\n",
        "print(f\"Train RMSE HistGradientBoostingRegressor: {train_rmse_lgb}\")"
      ],
      "metadata": {
        "id": "UBux7cH3uMPb"
      },
      "execution_count": null,
      "outputs": []
    },
    {
      "cell_type": "markdown",
      "metadata": {
        "id": "IOOFa3ePOqhT"
      },
      "source": [
        "## <h2> Catboost </h2> ##"
      ]
    },
    {
      "cell_type": "markdown",
      "source": [
        "### <h2> Version 1 (Using Pool function of CatBoost) (FAILED) </h2> ##"
      ],
      "metadata": {
        "id": "F8PmI5x3GIKe"
      }
    },
    {
      "cell_type": "markdown",
      "source": [
        "#### <h2> Preparing </h2> ####"
      ],
      "metadata": {
        "id": "DMBWelCKPbXy"
      }
    },
    {
      "cell_type": "markdown",
      "source": [
        "##### <h2> Scaled Version </h2> ####"
      ],
      "metadata": {
        "id": "wYwHbA063qQ2"
      }
    },
    {
      "cell_type": "code",
      "source": [
        "df_train_cb = pd.read_csv(\"https://github.com/JeftaAdriel/DataComp-PekanRistek23/raw/main/Dataset/train.csv\")\n",
        "df_test_cb = pd.read_csv(\"https://github.com/JeftaAdriel/DataComp-PekanRistek23/raw/main/Dataset/test.csv\")\n",
        "\n",
        "df_train_cb['timestamp'] = pd.to_datetime(df_train_cb['timestamp'])\n",
        "df_test_cb['timestamp'] = pd.to_datetime(df_test_cb['timestamp'])\n",
        "\n",
        "df_train_cb.dropna(axis=0, inplace = True)\n",
        "\n",
        "time_features_distance(df_train_cb)\n",
        "time_features_distance(df_test_cb)\n",
        "\n",
        "conditions(df_train_cb)\n",
        "conditions(df_test_cb)\n",
        "\n",
        "df_train_cb.drop(columns=['timestamp'], axis=1, inplace=True)\n",
        "df_test_cb.drop(columns=['timestamp', 'index'], axis=1, inplace=True)\n",
        "\n",
        "df_train_cb[\"weather_conditions\"] = df_train_cb[\"weather_conditions\"].astype(\"category\")\n",
        "df_test_cb[\"weather_conditions\"] = df_test_cb[\"weather_conditions\"].astype(\"category\")\n",
        "\n",
        "X_train_df_cb = df_train_cb.drop(columns=['price_mean', 'hour', 'type', 'hour_sin', 'hour_cos',\n",
        "                                          'dm_sin', 'dm_cos', 'dw_sin', 'dw_cos', 'dw', 'dm',\n",
        "                                          'weather_conditions', 'clouds', 'rain', 'humidity'], axis=1)\n",
        "y_train_df_cb = df_train_cb[['price_mean']]\n",
        "y_train_cb = np.ravel(df_train_cb[['price_mean']])\n",
        "scaler = RobustScaler()\n",
        "X_train_cb = scaler.fit_transform(X_train_df_cb)\n",
        "\n",
        "# Convert the columns to a NumPy array\n",
        "time_of_day_cols = df_train_cb[['hour', 'type', 'hour_sin', 'hour_cos',\n",
        "                                'dm_sin', 'dm_cos', 'dw_sin', 'dw_cos', 'dw', 'dm',\n",
        "                                'weather_conditions', 'clouds', 'rain', 'humidity']].values\n",
        "# Concatenate the arrays along the second axis (columns)\n",
        "X_train_cb = np.concatenate([X_train_cb, time_of_day_cols], axis=1)\n",
        "\n",
        "# Create a DataFrame from the NumPy array\n",
        "X_train_df_cb = pd.DataFrame(X_train_cb, columns=X_train_df_cb.columns.tolist() +\n",
        " ['hour', 'type', 'hour_sin', 'hour_cos',\n",
        "  'dm_sin', 'dm_cos', 'dw_sin', 'dw_cos', 'dw', 'dm',\n",
        "  'weather_conditions', 'clouds', 'rain', 'humidity'])\n",
        "cat_features = ['weather_conditions']\n",
        "cat_features_indices = [X_train_df_cb.columns.get_loc(col) for col in cat_features]\n",
        "\n",
        "train_pool = Pool(data=X_train_df_cb, label=y_train_df_cb, cat_features=cat_features_indices)\n",
        "\n",
        "X_test_df_cb = df_test_cb.drop(columns=['hour', 'type', 'hour_sin', 'hour_cos',\n",
        "                                        'dm_sin', 'dm_cos', 'dw_sin', 'dw_cos',\n",
        "                                        'dw', 'dm', 'weather_conditions',\n",
        "                                        'clouds', 'rain', 'humidity'], axis=1)\n",
        "X_test_cb = scaler.fit_transform(X_test_df_cb)\n",
        "time_of_day_cols = df_test_cb[['hour', 'type', 'hour_sin', 'hour_cos',\n",
        "                              'dm_sin', 'dm_cos', 'dw_sin', 'dw_cos', 'dw', 'dm',\n",
        "                              'weather_conditions', 'clouds', 'rain', 'humidity']].values\n",
        "X_test_cb = np.concatenate([X_test_cb, time_of_day_cols], axis=1)\n"
      ],
      "metadata": {
        "id": "mEngUHoLGNYt"
      },
      "execution_count": null,
      "outputs": []
    },
    {
      "cell_type": "markdown",
      "source": [
        "##### <h2> Unscaled Version </h2> #####"
      ],
      "metadata": {
        "id": "Jb1Xc-a53uuu"
      }
    },
    {
      "cell_type": "code",
      "source": [
        "df_train_cb = pd.read_csv(\"https://github.com/JeftaAdriel/DataComp-PekanRistek23/raw/main/Dataset/train.csv\")\n",
        "df_test_cb = pd.read_csv(\"https://github.com/JeftaAdriel/DataComp-PekanRistek23/raw/main/Dataset/test.csv\")\n",
        "\n",
        "df_train_cb['timestamp'] = pd.to_datetime(df_train_cb['timestamp'])\n",
        "df_test_cb['timestamp'] = pd.to_datetime(df_test_cb['timestamp'])\n",
        "\n",
        "df_train_cb.dropna(axis=0, inplace = True)\n",
        "\n",
        "time_features_distance(df_train_cb)\n",
        "time_features_distance(df_test_cb)\n",
        "\n",
        "conditions(df_train_cb)\n",
        "conditions(df_test_cb)\n",
        "\n",
        "df_train_cb.drop(columns=['timestamp'], axis=1, inplace=True)\n",
        "df_test_cb.drop(columns=['timestamp', 'index'], axis=1, inplace=True)\n",
        "\n",
        "df_train_cb[\"weather_conditions\"] = df_train_cb[\"weather_conditions\"].astype(\"category\")\n",
        "df_test_cb[\"weather_conditions\"] = df_test_cb[\"weather_conditions\"].astype(\"category\")\n",
        "\n",
        "X_train_cb = df_train_cb.drop(columns=['price_mean'], axis=1)\n",
        "y_train_cb = df_train_cb[['price_mean']]\n",
        "\n",
        "cat_features = ['weather_conditions']\n",
        "cat_features_indices = [X_train_cb.columns.get_loc(col) for col in cat_features]\n",
        "\n",
        "train_pool = Pool(data=X_train_cb, label=y_train_cb, cat_features=cat_features_indices)\n",
        "\n",
        "X_test_cb = df_test_cb.copy()"
      ],
      "metadata": {
        "id": "ZFptmHl53zzv"
      },
      "execution_count": null,
      "outputs": []
    },
    {
      "cell_type": "markdown",
      "source": [
        "#### <h2> Hyperparameter Tuning </h2> ####"
      ],
      "metadata": {
        "id": "G7Jd3vpzPe3R"
      }
    },
    {
      "cell_type": "code",
      "execution_count": null,
      "metadata": {
        "id": "L7aBovWEO36L"
      },
      "outputs": [],
      "source": [
        "#CPU\n",
        "def objective(trial):\n",
        "  params = {\"random_state\": 123,\n",
        "            \"loss_function\": \"RMSE\",\n",
        "            \"iterations\": 3070,\n",
        "            \"learning_rate\": trial.suggest_float(\"learning_rate\", 0.042, 0.046, log=True),\n",
        "            \"depth\": 6,\n",
        "            \"subsample\": trial.suggest_float(\"subsample\", 0.74, 0.8, log=True),\n",
        "            \"colsample_bylevel\": trial.suggest_float(\"colsample_bylevel\", 0.694, 0.713, log=True),\n",
        "            \"min_data_in_leaf\": trial.suggest_int(\"min_data_in_leaf\", 29, 30)}\n",
        "\n",
        "  model = CatBoostRegressor(**params, silent=True)\n",
        "\n",
        "  # Perform cross-validation\n",
        "  cv_results = cv(params=model.get_params(), pool=train_pool, fold_count=5,\n",
        "                  shuffle=True, partition_random_seed=123,\n",
        "                  stratified=False, logging_level='Silent')\n",
        "\n",
        "  # Get the best score\n",
        "  best_score = cv_results['test-RMSE-mean'].min()\n",
        "  return best_score\n",
        "\n",
        "sampler = TPESampler(seed=123)\n",
        "study_cb_ver1 = optuna.create_study(direction='minimize', sampler=sampler)\n",
        "study_cb_ver1.optimize(objective, n_trials=30)\n"
      ]
    },
    {
      "cell_type": "code",
      "execution_count": null,
      "metadata": {
        "id": "3vyWln53O36b"
      },
      "outputs": [],
      "source": [
        "print('Best hyperparameters:', study_cb_ver1.best_params)\n",
        "print('Best RMSE:', study_cb_ver1.best_value)"
      ]
    },
    {
      "cell_type": "code",
      "execution_count": null,
      "metadata": {
        "id": "dkn6pHFVO36c"
      },
      "outputs": [],
      "source": [
        "study_cb_ver1.trials_dataframe().sort_values('value', ascending=True).head(5)"
      ]
    },
    {
      "cell_type": "code",
      "source": [
        "#Visualize parameter importances.\n",
        "optuna.visualization.plot_param_importances(study_cb_ver1)"
      ],
      "metadata": {
        "id": "i0cpuViKLzjr"
      },
      "execution_count": null,
      "outputs": []
    },
    {
      "cell_type": "code",
      "execution_count": null,
      "metadata": {
        "id": "Z-4_4KY3O36c"
      },
      "outputs": [],
      "source": [
        "optuna.visualization.plot_slice(study_cb_ver1)"
      ]
    },
    {
      "cell_type": "code",
      "execution_count": null,
      "metadata": {
        "id": "mk9PAF0KO36d"
      },
      "outputs": [],
      "source": [
        "optuna.visualization.plot_optimization_history(study_cb_ver1)"
      ]
    },
    {
      "cell_type": "markdown",
      "source": [
        "#### <h2> Fitting to Train </h2> ####"
      ],
      "metadata": {
        "id": "hLQZXUaGQhZj"
      }
    },
    {
      "cell_type": "code",
      "source": [
        "# Indices of categorical features\n",
        "cat_features_indices = [X_train_df_cb.columns.get_loc(col) for col in cat_features]\n",
        "\n",
        "best_params_cb = study_cb_ver1.best_params\n",
        "\n",
        "# Now you can use best_params_cb to initialize your model\n",
        "cb1 = CatBoostRegressor(random_state=123, **best_params_cb, silent=True)\n",
        "\n",
        "# Fit the model\n",
        "cb1.fit(X_train_df_cb, y_train_cb, cat_features=cat_features_indices)\n",
        "train_preds_cb1 = cb1.predict(X_train_cb)\n",
        "train_rmse_cb1 = np.sqrt(mse(y_train_cb, train_preds_cb1))\n",
        "\n",
        "print(cb1.get_params())\n",
        "print(\"\")\n",
        "print(f\"Train RMSE CatBoost: {train_rmse_cb1}\")"
      ],
      "metadata": {
        "id": "2qiWV5uFbi34"
      },
      "execution_count": null,
      "outputs": []
    },
    {
      "cell_type": "code",
      "source": [
        "feature_importance_viz(df_train_cb, cb1)"
      ],
      "metadata": {
        "id": "ws2Xay3mQpWD"
      },
      "execution_count": null,
      "outputs": []
    },
    {
      "cell_type": "code",
      "source": [
        "analysis = df_train.copy()\n",
        "analysis['pred'] = train_preds_cb1\n",
        "analysis['error'] = analysis['price_mean'] - analysis['pred']\n",
        "analysis['rmse'] = train_rmse_cb1\n",
        "\n",
        "errors = analysis.groupby('hour')[['error', 'rmse']].agg('median').sort_values(by='rmse', ascending=False)\n",
        "errors[:10]"
      ],
      "metadata": {
        "id": "tO0yCEtz1UoU"
      },
      "execution_count": null,
      "outputs": []
    },
    {
      "cell_type": "markdown",
      "source": [
        "#### <h2> Submission </h2> ####"
      ],
      "metadata": {
        "id": "xG661cvYPkaf"
      }
    },
    {
      "cell_type": "code",
      "source": [
        "submission = cb1.predict(X_test_cb)\n",
        "\n",
        "index = np.arange(0, 11040)\n",
        "index\n",
        "\n",
        "df_submission = pd.DataFrame({'index': index, 'price_mean': submission})\n",
        "\n",
        "df_submission.to_csv('submission.csv', index=False)"
      ],
      "metadata": {
        "id": "gP82zimjPWKw"
      },
      "execution_count": null,
      "outputs": []
    },
    {
      "cell_type": "markdown",
      "source": [
        "### <h2> Version 2 (Final Version that's used to submit final model) </h2> ###"
      ],
      "metadata": {
        "id": "XmLuIme_OOqS"
      }
    },
    {
      "cell_type": "markdown",
      "source": [
        "#### <h2> Hyperparameter Tuning </h2> ####"
      ],
      "metadata": {
        "id": "KEWGaw4CQMSp"
      }
    },
    {
      "cell_type": "code",
      "execution_count": null,
      "metadata": {
        "id": "_KCIzBNyP3_P",
        "colab": {
          "base_uri": "https://localhost:8080/"
        },
        "outputId": "9433b17f-dc6b-42cc-f5b2-fb3d4ecf506d"
      },
      "outputs": [
        {
          "output_type": "stream",
          "name": "stderr",
          "text": [
            "[I 2023-11-18 13:34:52,470] A new study created in memory with name: no-name-b8e65b7a-8ef7-4132-a0a7-e7a681749485\n",
            "[I 2023-11-18 13:37:05,253] Trial 0 finished with value: 0.563169181022426 and parameters: {'learning_rate': 0.03068526696469151, 'subsample': 0.8303303144557144, 'colsample_bylevel': 0.8142845369859933, 'l2_leaf_reg': 0.3907486537584787, 'random_strength': 0.09821843843183375}. Best is trial 0 with value: 0.563169181022426.\n",
            "[I 2023-11-18 13:39:09,958] Trial 1 finished with value: 0.5631617306967899 and parameters: {'learning_rate': 0.0306852642310642, 'subsample': 0.8303305923056776, 'colsample_bylevel': 0.8142936965417591, 'l2_leaf_reg': 0.3903966691537041, 'random_strength': 0.09789090182697939}. Best is trial 1 with value: 0.5631617306967899.\n",
            "[I 2023-11-18 13:41:17,197] Trial 2 finished with value: 0.5639666474011766 and parameters: {'learning_rate': 0.030685263431779783, 'subsample': 0.8303304916198639, 'colsample_bylevel': 0.8142887713844172, 'l2_leaf_reg': 0.3882965965347047, 'random_strength': 0.0978968221965874}. Best is trial 1 with value: 0.5631617306967899.\n",
            "[I 2023-11-18 13:43:20,234] Trial 3 finished with value: 0.5629598008973427 and parameters: {'learning_rate': 0.030685267379953748, 'subsample': 0.8303302729966778, 'colsample_bylevel': 0.8142835089995907, 'l2_leaf_reg': 0.39064978501908243, 'random_strength': 0.09803055709943241}. Best is trial 3 with value: 0.5629598008973427.\n",
            "[I 2023-11-18 13:45:26,038] Trial 4 finished with value: 0.5631861591959288 and parameters: {'learning_rate': 0.0306852663440092, 'subsample': 0.8303305397727053, 'colsample_bylevel': 0.8142944890574679, 'l2_leaf_reg': 0.3910475058734832, 'random_strength': 0.0982214195455832}. Best is trial 3 with value: 0.5629598008973427.\n",
            "[I 2023-11-18 13:47:29,486] Trial 5 finished with value: 0.562825779753113 and parameters: {'learning_rate': 0.03068526322958878, 'subsample': 0.83033034471544, 'colsample_bylevel': 0.8142845652213507, 'l2_leaf_reg': 0.3894619356063174, 'random_strength': 0.09812978760069987}. Best is trial 5 with value: 0.562825779753113.\n",
            "[I 2023-11-18 13:49:35,520] Trial 6 finished with value: 0.5638431887188313 and parameters: {'learning_rate': 0.03068526092104926, 'subsample': 0.8303303734804455, 'colsample_bylevel': 0.8142886171950374, 'l2_leaf_reg': 0.3904604243376018, 'random_strength': 0.09792458315369158}. Best is trial 5 with value: 0.562825779753113.\n",
            "[I 2023-11-18 13:51:53,740] Trial 7 finished with value: 0.5640388806213903 and parameters: {'learning_rate': 0.030685263122611873, 'subsample': 0.8303303705404993, 'colsample_bylevel': 0.8142978677598689, 'l2_leaf_reg': 0.39271910922971087, 'random_strength': 0.09800056116662233}. Best is trial 5 with value: 0.562825779753113.\n",
            "[I 2023-11-18 13:54:01,738] Trial 8 finished with value: 0.5635942853728585 and parameters: {'learning_rate': 0.03068526623952913, 'subsample': 0.8303302462473482, 'colsample_bylevel': 0.814286345656433, 'l2_leaf_reg': 0.3900663634640145, 'random_strength': 0.09836571751097282}. Best is trial 5 with value: 0.562825779753113.\n",
            "[I 2023-11-18 13:56:05,271] Trial 9 finished with value: 0.5637781951922102 and parameters: {'learning_rate': 0.03068526250455334, 'subsample': 0.8303303932136816, 'colsample_bylevel': 0.8142997111922168, 'l2_leaf_reg': 0.3905894344423651, 'random_strength': 0.09811168356911876}. Best is trial 5 with value: 0.562825779753113.\n",
            "[I 2023-11-18 13:58:11,843] Trial 10 finished with value: 0.5629367019993106 and parameters: {'learning_rate': 0.030685269843547656, 'subsample': 0.8303302078448893, 'colsample_bylevel': 0.8142811781533743, 'l2_leaf_reg': 0.38804005029190797, 'random_strength': 0.09760100125096628}. Best is trial 5 with value: 0.562825779753113.\n",
            "[I 2023-11-18 14:00:15,671] Trial 11 finished with value: 0.5635700428279152 and parameters: {'learning_rate': 0.030685269687485354, 'subsample': 0.8303302015352574, 'colsample_bylevel': 0.8142825153552115, 'l2_leaf_reg': 0.38807396763331337, 'random_strength': 0.09754349634167665}. Best is trial 5 with value: 0.562825779753113.\n",
            "[I 2023-11-18 14:02:21,972] Trial 12 finished with value: 0.5636949581055781 and parameters: {'learning_rate': 0.030685269955069854, 'subsample': 0.8303303126868407, 'colsample_bylevel': 0.8142802407377496, 'l2_leaf_reg': 0.3886866738643218, 'random_strength': 0.09750904572310808}. Best is trial 5 with value: 0.562825779753113.\n",
            "[I 2023-11-18 14:04:26,957] Trial 13 finished with value: 0.5629826229953504 and parameters: {'learning_rate': 0.030685265355985324, 'subsample': 0.8303302061301147, 'colsample_bylevel': 0.8142803292477806, 'l2_leaf_reg': 0.38901772828082604, 'random_strength': 0.09770861790768713}. Best is trial 5 with value: 0.562825779753113.\n",
            "[I 2023-11-18 14:06:32,165] Trial 14 finished with value: 0.5631278618925405 and parameters: {'learning_rate': 0.030685260188677482, 'subsample': 0.8303304290493008, 'colsample_bylevel': 0.8142859133853899, 'l2_leaf_reg': 0.3893772609740749, 'random_strength': 0.09849149502285806}. Best is trial 5 with value: 0.562825779753113.\n",
            "[I 2023-11-18 14:08:38,305] Trial 15 finished with value: 0.5634517089189186 and parameters: {'learning_rate': 0.03068526823722145, 'subsample': 0.8303303045764063, 'colsample_bylevel': 0.8142824382270824, 'l2_leaf_reg': 0.38945957535713416, 'random_strength': 0.0976541184793073}. Best is trial 5 with value: 0.562825779753113.\n",
            "[I 2023-11-18 14:10:42,302] Trial 16 finished with value: 0.5634603531772078 and parameters: {'learning_rate': 0.03068526505548194, 'subsample': 0.8303302462742896, 'colsample_bylevel': 0.8142862308836403, 'l2_leaf_reg': 0.3880485369229441, 'random_strength': 0.09778076454237973}. Best is trial 5 with value: 0.562825779753113.\n",
            "[I 2023-11-18 14:12:48,906] Trial 17 finished with value: 0.5632957870898903 and parameters: {'learning_rate': 0.030685268216268893, 'subsample': 0.830330337138763, 'colsample_bylevel': 0.8142815934462203, 'l2_leaf_reg': 0.38876552277583193, 'random_strength': 0.0977983756569269}. Best is trial 5 with value: 0.562825779753113.\n",
            "[I 2023-11-18 14:14:52,855] Trial 18 finished with value: 0.5627006328531092 and parameters: {'learning_rate': 0.030685261912709504, 'subsample': 0.8303304220276041, 'colsample_bylevel': 0.8142844502386837, 'l2_leaf_reg': 0.3895464355171348, 'random_strength': 0.0981075044967285}. Best is trial 18 with value: 0.5627006328531092.\n",
            "[I 2023-11-18 14:16:59,278] Trial 19 finished with value: 0.5629322416429646 and parameters: {'learning_rate': 0.030685261921442608, 'subsample': 0.8303304288114258, 'colsample_bylevel': 0.8142844442222973, 'l2_leaf_reg': 0.38974161532735657, 'random_strength': 0.09811345006535876}. Best is trial 18 with value: 0.5627006328531092.\n",
            "[I 2023-11-18 14:19:02,805] Trial 20 finished with value: 0.5626020046254615 and parameters: {'learning_rate': 0.03068526141893516, 'subsample': 0.8303304454241951, 'colsample_bylevel': 0.8142882362709805, 'l2_leaf_reg': 0.3898418632524713, 'random_strength': 0.09824671468887153}. Best is trial 20 with value: 0.5626020046254615.\n",
            "[I 2023-11-18 14:21:09,397] Trial 21 finished with value: 0.5630550061253089 and parameters: {'learning_rate': 0.030685261608740716, 'subsample': 0.8303304530836244, 'colsample_bylevel': 0.8142889344310347, 'l2_leaf_reg': 0.3898460546157184, 'random_strength': 0.09826339937548882}. Best is trial 20 with value: 0.5626020046254615.\n",
            "[I 2023-11-18 14:23:13,062] Trial 22 finished with value: 0.5636238239197767 and parameters: {'learning_rate': 0.030685261232551247, 'subsample': 0.8303304654986563, 'colsample_bylevel': 0.8142862917231741, 'l2_leaf_reg': 0.3892201441466764, 'random_strength': 0.09810383932351648}. Best is trial 20 with value: 0.5626020046254615.\n",
            "[I 2023-11-18 14:25:19,321] Trial 23 finished with value: 0.5632234278929975 and parameters: {'learning_rate': 0.03068526250110849, 'subsample': 0.8303303977863475, 'colsample_bylevel': 0.8142907911204527, 'l2_leaf_reg': 0.38964466250571705, 'random_strength': 0.09831800576299896}. Best is trial 20 with value: 0.5626020046254615.\n",
            "[I 2023-11-18 14:27:22,998] Trial 24 finished with value: 0.5639737078913946 and parameters: {'learning_rate': 0.030685260018730582, 'subsample': 0.8303303532309978, 'colsample_bylevel': 0.8142832960316919, 'l2_leaf_reg': 0.3890209968607469, 'random_strength': 0.09816372039978633}. Best is trial 20 with value: 0.5626020046254615.\n",
            "[I 2023-11-18 14:29:29,258] Trial 25 finished with value: 0.5627008086442029 and parameters: {'learning_rate': 0.030685263681965638, 'subsample': 0.8303304166276768, 'colsample_bylevel': 0.8142847683239701, 'l2_leaf_reg': 0.3900627522084383, 'random_strength': 0.09803697317041345}. Best is trial 20 with value: 0.5626020046254615.\n",
            "[I 2023-11-18 14:31:35,364] Trial 26 finished with value: 0.5624758696080928 and parameters: {'learning_rate': 0.030685264044798335, 'subsample': 0.8303304184708659, 'colsample_bylevel': 0.8142877445500412, 'l2_leaf_reg': 0.3898616572307818, 'random_strength': 0.09803235929882516}. Best is trial 26 with value: 0.5624758696080928.\n",
            "[I 2023-11-18 14:33:39,153] Trial 27 finished with value: 0.5616561206139628 and parameters: {'learning_rate': 0.03068526220104383, 'subsample': 0.8303304887154379, 'colsample_bylevel': 0.8142878489229867, 'l2_leaf_reg': 0.39004589885894997, 'random_strength': 0.09797081776220397}. Best is trial 27 with value: 0.5616561206139628.\n",
            "[I 2023-11-18 14:35:45,359] Trial 28 finished with value: 0.5632110162512848 and parameters: {'learning_rate': 0.030685264404903146, 'subsample': 0.8303304974785138, 'colsample_bylevel': 0.8142875857564242, 'l2_leaf_reg': 0.3911657362201458, 'random_strength': 0.09798907718106467}. Best is trial 27 with value: 0.5616561206139628.\n",
            "[I 2023-11-18 14:37:49,289] Trial 29 finished with value: 0.5635452385693089 and parameters: {'learning_rate': 0.030685260746515425, 'subsample': 0.8303304571685395, 'colsample_bylevel': 0.8142907846919702, 'l2_leaf_reg': 0.3901450473884282, 'random_strength': 0.09819713415413646}. Best is trial 27 with value: 0.5616561206139628.\n"
          ]
        },
        {
          "output_type": "stream",
          "name": "stdout",
          "text": [
            "The cell took 3776.8224642276764 seconds to run.\n"
          ]
        }
      ],
      "source": [
        "start=time.time()\n",
        "\n",
        "kf = KFold(n_splits=5, shuffle=True, random_state=123)\n",
        "\n",
        "def objective(trial):\n",
        "  params = {\"random_state\": 123,\n",
        "            \"loss_function\": \"RMSE\",\n",
        "            \"iterations\": 1000,\n",
        "            \"learning_rate\": trial.suggest_float(\"learning_rate\", 0.0785554, 0.0785555, log=True),\n",
        "            \"depth\": 7,\n",
        "            \"subsample\": trial.suggest_float(\"subsample\", 0.810417, 0.8104171, log=True),\n",
        "            \"colsample_bylevel\": trial.suggest_float(\"colsample_bylevel\", 0.8212551, 0.8212552, log=True),\n",
        "            \"l2_leaf_reg\": trial.suggest_float(\"l2_leaf_reg\", 0.7833714, 0.7833715, log=True),\n",
        "            \"random_strength\": trial.suggest_float(\"random_strength\", 0.0787843, 0.0787845, log=True),\n",
        "            \"min_data_in_leaf\": 31}\n",
        "\n",
        "  model = CatBoostRegressor(**params, silent=True)\n",
        "  best_score = cross_val_score(model, X_train_nonscaled, y_train_nonscaled, scoring='neg_root_mean_squared_error', cv=kf).mean()\n",
        "  return -best_score\n",
        "\n",
        "sampler = TPESampler(seed=123)\n",
        "study_cb_ver2 = optuna.create_study(direction='minimize', sampler=sampler)\n",
        "study_cb_ver2.optimize(objective, n_trials=30)\n",
        "\n",
        "end = time.time()\n",
        "duration = end - start\n",
        "print(f\"The cell took {duration} seconds to run.\")"
      ]
    },
    {
      "cell_type": "code",
      "execution_count": null,
      "metadata": {
        "id": "lzwnk_S0P3_W",
        "colab": {
          "base_uri": "https://localhost:8080/"
        },
        "outputId": "4a7f3de8-acb9-421c-d207-17b69dd807fc"
      },
      "outputs": [
        {
          "output_type": "stream",
          "name": "stdout",
          "text": [
            "Best hyperparameters: {'learning_rate': 0.03068526220104383, 'subsample': 0.8303304887154379, 'colsample_bylevel': 0.8142878489229867, 'l2_leaf_reg': 0.39004589885894997, 'random_strength': 0.09797081776220397}\n",
            "Best RMSE: 0.5616561206139628\n"
          ]
        }
      ],
      "source": [
        "print('Best hyperparameters:', study_cb_ver2.best_params)\n",
        "print('Best RMSE:', study_cb_ver2.best_value)"
      ]
    },
    {
      "cell_type": "code",
      "execution_count": null,
      "metadata": {
        "id": "WMWBxv_9P3_W",
        "colab": {
          "base_uri": "https://localhost:8080/",
          "height": 313
        },
        "outputId": "e6831d17-6e36-4178-b0be-ab8c8cbe208f"
      },
      "outputs": [
        {
          "output_type": "execute_result",
          "data": {
            "text/plain": [
              "    number      value             datetime_start          datetime_complete  \\\n",
              "27      27 0.56165612 2023-11-18 14:31:35.369360 2023-11-18 14:33:39.153584   \n",
              "26      26 0.56247587 2023-11-18 14:29:29.262790 2023-11-18 14:31:35.364039   \n",
              "20      20 0.56260200 2023-11-18 14:16:59.280134 2023-11-18 14:19:02.805623   \n",
              "18      18 0.56270063 2023-11-18 14:12:48.908171 2023-11-18 14:14:52.855144   \n",
              "25      25 0.56270081 2023-11-18 14:27:23.001120 2023-11-18 14:29:29.257990   \n",
              "\n",
              "                 duration  params_colsample_bylevel  params_l2_leaf_reg  \\\n",
              "27 0 days 00:02:03.784224                0.81428785          0.39004590   \n",
              "26 0 days 00:02:06.101249                0.81428774          0.38986166   \n",
              "20 0 days 00:02:03.525489                0.81428824          0.38984186   \n",
              "18 0 days 00:02:03.946973                0.81428445          0.38954644   \n",
              "25 0 days 00:02:06.256870                0.81428477          0.39006275   \n",
              "\n",
              "    params_learning_rate  params_random_strength  params_subsample     state  \n",
              "27            0.03068526              0.09797082        0.83033049  COMPLETE  \n",
              "26            0.03068526              0.09803236        0.83033042  COMPLETE  \n",
              "20            0.03068526              0.09824671        0.83033045  COMPLETE  \n",
              "18            0.03068526              0.09810750        0.83033042  COMPLETE  \n",
              "25            0.03068526              0.09803697        0.83033042  COMPLETE  "
            ],
            "text/html": [
              "\n",
              "  <div id=\"df-529b32dc-4b80-4de7-8089-1868c5161bad\" class=\"colab-df-container\">\n",
              "    <div>\n",
              "<style scoped>\n",
              "    .dataframe tbody tr th:only-of-type {\n",
              "        vertical-align: middle;\n",
              "    }\n",
              "\n",
              "    .dataframe tbody tr th {\n",
              "        vertical-align: top;\n",
              "    }\n",
              "\n",
              "    .dataframe thead th {\n",
              "        text-align: right;\n",
              "    }\n",
              "</style>\n",
              "<table border=\"1\" class=\"dataframe\">\n",
              "  <thead>\n",
              "    <tr style=\"text-align: right;\">\n",
              "      <th></th>\n",
              "      <th>number</th>\n",
              "      <th>value</th>\n",
              "      <th>datetime_start</th>\n",
              "      <th>datetime_complete</th>\n",
              "      <th>duration</th>\n",
              "      <th>params_colsample_bylevel</th>\n",
              "      <th>params_l2_leaf_reg</th>\n",
              "      <th>params_learning_rate</th>\n",
              "      <th>params_random_strength</th>\n",
              "      <th>params_subsample</th>\n",
              "      <th>state</th>\n",
              "    </tr>\n",
              "  </thead>\n",
              "  <tbody>\n",
              "    <tr>\n",
              "      <th>27</th>\n",
              "      <td>27</td>\n",
              "      <td>0.56165612</td>\n",
              "      <td>2023-11-18 14:31:35.369360</td>\n",
              "      <td>2023-11-18 14:33:39.153584</td>\n",
              "      <td>0 days 00:02:03.784224</td>\n",
              "      <td>0.81428785</td>\n",
              "      <td>0.39004590</td>\n",
              "      <td>0.03068526</td>\n",
              "      <td>0.09797082</td>\n",
              "      <td>0.83033049</td>\n",
              "      <td>COMPLETE</td>\n",
              "    </tr>\n",
              "    <tr>\n",
              "      <th>26</th>\n",
              "      <td>26</td>\n",
              "      <td>0.56247587</td>\n",
              "      <td>2023-11-18 14:29:29.262790</td>\n",
              "      <td>2023-11-18 14:31:35.364039</td>\n",
              "      <td>0 days 00:02:06.101249</td>\n",
              "      <td>0.81428774</td>\n",
              "      <td>0.38986166</td>\n",
              "      <td>0.03068526</td>\n",
              "      <td>0.09803236</td>\n",
              "      <td>0.83033042</td>\n",
              "      <td>COMPLETE</td>\n",
              "    </tr>\n",
              "    <tr>\n",
              "      <th>20</th>\n",
              "      <td>20</td>\n",
              "      <td>0.56260200</td>\n",
              "      <td>2023-11-18 14:16:59.280134</td>\n",
              "      <td>2023-11-18 14:19:02.805623</td>\n",
              "      <td>0 days 00:02:03.525489</td>\n",
              "      <td>0.81428824</td>\n",
              "      <td>0.38984186</td>\n",
              "      <td>0.03068526</td>\n",
              "      <td>0.09824671</td>\n",
              "      <td>0.83033045</td>\n",
              "      <td>COMPLETE</td>\n",
              "    </tr>\n",
              "    <tr>\n",
              "      <th>18</th>\n",
              "      <td>18</td>\n",
              "      <td>0.56270063</td>\n",
              "      <td>2023-11-18 14:12:48.908171</td>\n",
              "      <td>2023-11-18 14:14:52.855144</td>\n",
              "      <td>0 days 00:02:03.946973</td>\n",
              "      <td>0.81428445</td>\n",
              "      <td>0.38954644</td>\n",
              "      <td>0.03068526</td>\n",
              "      <td>0.09810750</td>\n",
              "      <td>0.83033042</td>\n",
              "      <td>COMPLETE</td>\n",
              "    </tr>\n",
              "    <tr>\n",
              "      <th>25</th>\n",
              "      <td>25</td>\n",
              "      <td>0.56270081</td>\n",
              "      <td>2023-11-18 14:27:23.001120</td>\n",
              "      <td>2023-11-18 14:29:29.257990</td>\n",
              "      <td>0 days 00:02:06.256870</td>\n",
              "      <td>0.81428477</td>\n",
              "      <td>0.39006275</td>\n",
              "      <td>0.03068526</td>\n",
              "      <td>0.09803697</td>\n",
              "      <td>0.83033042</td>\n",
              "      <td>COMPLETE</td>\n",
              "    </tr>\n",
              "  </tbody>\n",
              "</table>\n",
              "</div>\n",
              "    <div class=\"colab-df-buttons\">\n",
              "\n",
              "  <div class=\"colab-df-container\">\n",
              "    <button class=\"colab-df-convert\" onclick=\"convertToInteractive('df-529b32dc-4b80-4de7-8089-1868c5161bad')\"\n",
              "            title=\"Convert this dataframe to an interactive table.\"\n",
              "            style=\"display:none;\">\n",
              "\n",
              "  <svg xmlns=\"http://www.w3.org/2000/svg\" height=\"24px\" viewBox=\"0 -960 960 960\">\n",
              "    <path d=\"M120-120v-720h720v720H120Zm60-500h600v-160H180v160Zm220 220h160v-160H400v160Zm0 220h160v-160H400v160ZM180-400h160v-160H180v160Zm440 0h160v-160H620v160ZM180-180h160v-160H180v160Zm440 0h160v-160H620v160Z\"/>\n",
              "  </svg>\n",
              "    </button>\n",
              "\n",
              "  <style>\n",
              "    .colab-df-container {\n",
              "      display:flex;\n",
              "      gap: 12px;\n",
              "    }\n",
              "\n",
              "    .colab-df-convert {\n",
              "      background-color: #E8F0FE;\n",
              "      border: none;\n",
              "      border-radius: 50%;\n",
              "      cursor: pointer;\n",
              "      display: none;\n",
              "      fill: #1967D2;\n",
              "      height: 32px;\n",
              "      padding: 0 0 0 0;\n",
              "      width: 32px;\n",
              "    }\n",
              "\n",
              "    .colab-df-convert:hover {\n",
              "      background-color: #E2EBFA;\n",
              "      box-shadow: 0px 1px 2px rgba(60, 64, 67, 0.3), 0px 1px 3px 1px rgba(60, 64, 67, 0.15);\n",
              "      fill: #174EA6;\n",
              "    }\n",
              "\n",
              "    .colab-df-buttons div {\n",
              "      margin-bottom: 4px;\n",
              "    }\n",
              "\n",
              "    [theme=dark] .colab-df-convert {\n",
              "      background-color: #3B4455;\n",
              "      fill: #D2E3FC;\n",
              "    }\n",
              "\n",
              "    [theme=dark] .colab-df-convert:hover {\n",
              "      background-color: #434B5C;\n",
              "      box-shadow: 0px 1px 3px 1px rgba(0, 0, 0, 0.15);\n",
              "      filter: drop-shadow(0px 1px 2px rgba(0, 0, 0, 0.3));\n",
              "      fill: #FFFFFF;\n",
              "    }\n",
              "  </style>\n",
              "\n",
              "    <script>\n",
              "      const buttonEl =\n",
              "        document.querySelector('#df-529b32dc-4b80-4de7-8089-1868c5161bad button.colab-df-convert');\n",
              "      buttonEl.style.display =\n",
              "        google.colab.kernel.accessAllowed ? 'block' : 'none';\n",
              "\n",
              "      async function convertToInteractive(key) {\n",
              "        const element = document.querySelector('#df-529b32dc-4b80-4de7-8089-1868c5161bad');\n",
              "        const dataTable =\n",
              "          await google.colab.kernel.invokeFunction('convertToInteractive',\n",
              "                                                    [key], {});\n",
              "        if (!dataTable) return;\n",
              "\n",
              "        const docLinkHtml = 'Like what you see? Visit the ' +\n",
              "          '<a target=\"_blank\" href=https://colab.research.google.com/notebooks/data_table.ipynb>data table notebook</a>'\n",
              "          + ' to learn more about interactive tables.';\n",
              "        element.innerHTML = '';\n",
              "        dataTable['output_type'] = 'display_data';\n",
              "        await google.colab.output.renderOutput(dataTable, element);\n",
              "        const docLink = document.createElement('div');\n",
              "        docLink.innerHTML = docLinkHtml;\n",
              "        element.appendChild(docLink);\n",
              "      }\n",
              "    </script>\n",
              "  </div>\n",
              "\n",
              "\n",
              "<div id=\"df-99adc8d0-f6cd-4b32-81b6-2acf0cc073a3\">\n",
              "  <button class=\"colab-df-quickchart\" onclick=\"quickchart('df-99adc8d0-f6cd-4b32-81b6-2acf0cc073a3')\"\n",
              "            title=\"Suggest charts\"\n",
              "            style=\"display:none;\">\n",
              "\n",
              "<svg xmlns=\"http://www.w3.org/2000/svg\" height=\"24px\"viewBox=\"0 0 24 24\"\n",
              "     width=\"24px\">\n",
              "    <g>\n",
              "        <path d=\"M19 3H5c-1.1 0-2 .9-2 2v14c0 1.1.9 2 2 2h14c1.1 0 2-.9 2-2V5c0-1.1-.9-2-2-2zM9 17H7v-7h2v7zm4 0h-2V7h2v10zm4 0h-2v-4h2v4z\"/>\n",
              "    </g>\n",
              "</svg>\n",
              "  </button>\n",
              "\n",
              "<style>\n",
              "  .colab-df-quickchart {\n",
              "      --bg-color: #E8F0FE;\n",
              "      --fill-color: #1967D2;\n",
              "      --hover-bg-color: #E2EBFA;\n",
              "      --hover-fill-color: #174EA6;\n",
              "      --disabled-fill-color: #AAA;\n",
              "      --disabled-bg-color: #DDD;\n",
              "  }\n",
              "\n",
              "  [theme=dark] .colab-df-quickchart {\n",
              "      --bg-color: #3B4455;\n",
              "      --fill-color: #D2E3FC;\n",
              "      --hover-bg-color: #434B5C;\n",
              "      --hover-fill-color: #FFFFFF;\n",
              "      --disabled-bg-color: #3B4455;\n",
              "      --disabled-fill-color: #666;\n",
              "  }\n",
              "\n",
              "  .colab-df-quickchart {\n",
              "    background-color: var(--bg-color);\n",
              "    border: none;\n",
              "    border-radius: 50%;\n",
              "    cursor: pointer;\n",
              "    display: none;\n",
              "    fill: var(--fill-color);\n",
              "    height: 32px;\n",
              "    padding: 0;\n",
              "    width: 32px;\n",
              "  }\n",
              "\n",
              "  .colab-df-quickchart:hover {\n",
              "    background-color: var(--hover-bg-color);\n",
              "    box-shadow: 0 1px 2px rgba(60, 64, 67, 0.3), 0 1px 3px 1px rgba(60, 64, 67, 0.15);\n",
              "    fill: var(--button-hover-fill-color);\n",
              "  }\n",
              "\n",
              "  .colab-df-quickchart-complete:disabled,\n",
              "  .colab-df-quickchart-complete:disabled:hover {\n",
              "    background-color: var(--disabled-bg-color);\n",
              "    fill: var(--disabled-fill-color);\n",
              "    box-shadow: none;\n",
              "  }\n",
              "\n",
              "  .colab-df-spinner {\n",
              "    border: 2px solid var(--fill-color);\n",
              "    border-color: transparent;\n",
              "    border-bottom-color: var(--fill-color);\n",
              "    animation:\n",
              "      spin 1s steps(1) infinite;\n",
              "  }\n",
              "\n",
              "  @keyframes spin {\n",
              "    0% {\n",
              "      border-color: transparent;\n",
              "      border-bottom-color: var(--fill-color);\n",
              "      border-left-color: var(--fill-color);\n",
              "    }\n",
              "    20% {\n",
              "      border-color: transparent;\n",
              "      border-left-color: var(--fill-color);\n",
              "      border-top-color: var(--fill-color);\n",
              "    }\n",
              "    30% {\n",
              "      border-color: transparent;\n",
              "      border-left-color: var(--fill-color);\n",
              "      border-top-color: var(--fill-color);\n",
              "      border-right-color: var(--fill-color);\n",
              "    }\n",
              "    40% {\n",
              "      border-color: transparent;\n",
              "      border-right-color: var(--fill-color);\n",
              "      border-top-color: var(--fill-color);\n",
              "    }\n",
              "    60% {\n",
              "      border-color: transparent;\n",
              "      border-right-color: var(--fill-color);\n",
              "    }\n",
              "    80% {\n",
              "      border-color: transparent;\n",
              "      border-right-color: var(--fill-color);\n",
              "      border-bottom-color: var(--fill-color);\n",
              "    }\n",
              "    90% {\n",
              "      border-color: transparent;\n",
              "      border-bottom-color: var(--fill-color);\n",
              "    }\n",
              "  }\n",
              "</style>\n",
              "\n",
              "  <script>\n",
              "    async function quickchart(key) {\n",
              "      const quickchartButtonEl =\n",
              "        document.querySelector('#' + key + ' button');\n",
              "      quickchartButtonEl.disabled = true;  // To prevent multiple clicks.\n",
              "      quickchartButtonEl.classList.add('colab-df-spinner');\n",
              "      try {\n",
              "        const charts = await google.colab.kernel.invokeFunction(\n",
              "            'suggestCharts', [key], {});\n",
              "      } catch (error) {\n",
              "        console.error('Error during call to suggestCharts:', error);\n",
              "      }\n",
              "      quickchartButtonEl.classList.remove('colab-df-spinner');\n",
              "      quickchartButtonEl.classList.add('colab-df-quickchart-complete');\n",
              "    }\n",
              "    (() => {\n",
              "      let quickchartButtonEl =\n",
              "        document.querySelector('#df-99adc8d0-f6cd-4b32-81b6-2acf0cc073a3 button');\n",
              "      quickchartButtonEl.style.display =\n",
              "        google.colab.kernel.accessAllowed ? 'block' : 'none';\n",
              "    })();\n",
              "  </script>\n",
              "</div>\n",
              "    </div>\n",
              "  </div>\n"
            ]
          },
          "metadata": {},
          "execution_count": 30
        }
      ],
      "source": [
        "study_cb_ver2.trials_dataframe().sort_values('value', ascending=True).head(5)"
      ]
    },
    {
      "cell_type": "code",
      "source": [
        "#Visualize parameter importances.\n",
        "optuna.visualization.plot_param_importances(study_cb_ver2)"
      ],
      "metadata": {
        "id": "v9PbRn6iP3_W",
        "colab": {
          "base_uri": "https://localhost:8080/",
          "height": 542
        },
        "outputId": "1f17fe32-9acf-4583-9fc9-f705402426a4"
      },
      "execution_count": null,
      "outputs": [
        {
          "output_type": "display_data",
          "data": {
            "text/html": [
              "<html>\n",
              "<head><meta charset=\"utf-8\" /></head>\n",
              "<body>\n",
              "    <div>            <script src=\"https://cdnjs.cloudflare.com/ajax/libs/mathjax/2.7.5/MathJax.js?config=TeX-AMS-MML_SVG\"></script><script type=\"text/javascript\">if (window.MathJax && window.MathJax.Hub && window.MathJax.Hub.Config) {window.MathJax.Hub.Config({SVG: {font: \"STIX-Web\"}});}</script>                <script type=\"text/javascript\">window.PlotlyConfig = {MathJaxConfig: 'local'};</script>\n",
              "        <script charset=\"utf-8\" src=\"https://cdn.plot.ly/plotly-2.24.1.min.js\"></script>                <div id=\"73b6490a-f3be-4d72-aa04-dc17427449bf\" class=\"plotly-graph-div\" style=\"height:525px; width:100%;\"></div>            <script type=\"text/javascript\">                                    window.PLOTLYENV=window.PLOTLYENV || {};                                    if (document.getElementById(\"73b6490a-f3be-4d72-aa04-dc17427449bf\")) {                    Plotly.newPlot(                        \"73b6490a-f3be-4d72-aa04-dc17427449bf\",                        [{\"cliponaxis\":false,\"hovertemplate\":[\"learning_rate (FloatDistribution): 3.318527040194764e-27\\u003cextra\\u003e\\u003c\\u002fextra\\u003e\",\"subsample (FloatDistribution): 0.004279642008599018\\u003cextra\\u003e\\u003c\\u002fextra\\u003e\",\"random_strength (FloatDistribution): 0.21115736780563385\\u003cextra\\u003e\\u003c\\u002fextra\\u003e\",\"colsample_bylevel (FloatDistribution): 0.38357842892142313\\u003cextra\\u003e\\u003c\\u002fextra\\u003e\",\"l2_leaf_reg (FloatDistribution): 0.40098456126434406\\u003cextra\\u003e\\u003c\\u002fextra\\u003e\"],\"name\":\"Objective Value\",\"orientation\":\"h\",\"text\":[\"\\u003c0.01\",\"\\u003c0.01\",\"0.21\",\"0.38\",\"0.40\"],\"textposition\":\"outside\",\"x\":[3.318527040194764e-27,0.004279642008599018,0.21115736780563385,0.38357842892142313,0.40098456126434406],\"y\":[\"learning_rate\",\"subsample\",\"random_strength\",\"colsample_bylevel\",\"l2_leaf_reg\"],\"type\":\"bar\"}],                        {\"title\":{\"text\":\"Hyperparameter Importances\"},\"xaxis\":{\"title\":{\"text\":\"Hyperparameter Importance\"}},\"yaxis\":{\"title\":{\"text\":\"Hyperparameter\"}},\"template\":{\"data\":{\"histogram2dcontour\":[{\"type\":\"histogram2dcontour\",\"colorbar\":{\"outlinewidth\":0,\"ticks\":\"\"},\"colorscale\":[[0.0,\"#0d0887\"],[0.1111111111111111,\"#46039f\"],[0.2222222222222222,\"#7201a8\"],[0.3333333333333333,\"#9c179e\"],[0.4444444444444444,\"#bd3786\"],[0.5555555555555556,\"#d8576b\"],[0.6666666666666666,\"#ed7953\"],[0.7777777777777778,\"#fb9f3a\"],[0.8888888888888888,\"#fdca26\"],[1.0,\"#f0f921\"]]}],\"choropleth\":[{\"type\":\"choropleth\",\"colorbar\":{\"outlinewidth\":0,\"ticks\":\"\"}}],\"histogram2d\":[{\"type\":\"histogram2d\",\"colorbar\":{\"outlinewidth\":0,\"ticks\":\"\"},\"colorscale\":[[0.0,\"#0d0887\"],[0.1111111111111111,\"#46039f\"],[0.2222222222222222,\"#7201a8\"],[0.3333333333333333,\"#9c179e\"],[0.4444444444444444,\"#bd3786\"],[0.5555555555555556,\"#d8576b\"],[0.6666666666666666,\"#ed7953\"],[0.7777777777777778,\"#fb9f3a\"],[0.8888888888888888,\"#fdca26\"],[1.0,\"#f0f921\"]]}],\"heatmap\":[{\"type\":\"heatmap\",\"colorbar\":{\"outlinewidth\":0,\"ticks\":\"\"},\"colorscale\":[[0.0,\"#0d0887\"],[0.1111111111111111,\"#46039f\"],[0.2222222222222222,\"#7201a8\"],[0.3333333333333333,\"#9c179e\"],[0.4444444444444444,\"#bd3786\"],[0.5555555555555556,\"#d8576b\"],[0.6666666666666666,\"#ed7953\"],[0.7777777777777778,\"#fb9f3a\"],[0.8888888888888888,\"#fdca26\"],[1.0,\"#f0f921\"]]}],\"heatmapgl\":[{\"type\":\"heatmapgl\",\"colorbar\":{\"outlinewidth\":0,\"ticks\":\"\"},\"colorscale\":[[0.0,\"#0d0887\"],[0.1111111111111111,\"#46039f\"],[0.2222222222222222,\"#7201a8\"],[0.3333333333333333,\"#9c179e\"],[0.4444444444444444,\"#bd3786\"],[0.5555555555555556,\"#d8576b\"],[0.6666666666666666,\"#ed7953\"],[0.7777777777777778,\"#fb9f3a\"],[0.8888888888888888,\"#fdca26\"],[1.0,\"#f0f921\"]]}],\"contourcarpet\":[{\"type\":\"contourcarpet\",\"colorbar\":{\"outlinewidth\":0,\"ticks\":\"\"}}],\"contour\":[{\"type\":\"contour\",\"colorbar\":{\"outlinewidth\":0,\"ticks\":\"\"},\"colorscale\":[[0.0,\"#0d0887\"],[0.1111111111111111,\"#46039f\"],[0.2222222222222222,\"#7201a8\"],[0.3333333333333333,\"#9c179e\"],[0.4444444444444444,\"#bd3786\"],[0.5555555555555556,\"#d8576b\"],[0.6666666666666666,\"#ed7953\"],[0.7777777777777778,\"#fb9f3a\"],[0.8888888888888888,\"#fdca26\"],[1.0,\"#f0f921\"]]}],\"surface\":[{\"type\":\"surface\",\"colorbar\":{\"outlinewidth\":0,\"ticks\":\"\"},\"colorscale\":[[0.0,\"#0d0887\"],[0.1111111111111111,\"#46039f\"],[0.2222222222222222,\"#7201a8\"],[0.3333333333333333,\"#9c179e\"],[0.4444444444444444,\"#bd3786\"],[0.5555555555555556,\"#d8576b\"],[0.6666666666666666,\"#ed7953\"],[0.7777777777777778,\"#fb9f3a\"],[0.8888888888888888,\"#fdca26\"],[1.0,\"#f0f921\"]]}],\"mesh3d\":[{\"type\":\"mesh3d\",\"colorbar\":{\"outlinewidth\":0,\"ticks\":\"\"}}],\"scatter\":[{\"fillpattern\":{\"fillmode\":\"overlay\",\"size\":10,\"solidity\":0.2},\"type\":\"scatter\"}],\"parcoords\":[{\"type\":\"parcoords\",\"line\":{\"colorbar\":{\"outlinewidth\":0,\"ticks\":\"\"}}}],\"scatterpolargl\":[{\"type\":\"scatterpolargl\",\"marker\":{\"colorbar\":{\"outlinewidth\":0,\"ticks\":\"\"}}}],\"bar\":[{\"error_x\":{\"color\":\"#2a3f5f\"},\"error_y\":{\"color\":\"#2a3f5f\"},\"marker\":{\"line\":{\"color\":\"#E5ECF6\",\"width\":0.5},\"pattern\":{\"fillmode\":\"overlay\",\"size\":10,\"solidity\":0.2}},\"type\":\"bar\"}],\"scattergeo\":[{\"type\":\"scattergeo\",\"marker\":{\"colorbar\":{\"outlinewidth\":0,\"ticks\":\"\"}}}],\"scatterpolar\":[{\"type\":\"scatterpolar\",\"marker\":{\"colorbar\":{\"outlinewidth\":0,\"ticks\":\"\"}}}],\"histogram\":[{\"marker\":{\"pattern\":{\"fillmode\":\"overlay\",\"size\":10,\"solidity\":0.2}},\"type\":\"histogram\"}],\"scattergl\":[{\"type\":\"scattergl\",\"marker\":{\"colorbar\":{\"outlinewidth\":0,\"ticks\":\"\"}}}],\"scatter3d\":[{\"type\":\"scatter3d\",\"line\":{\"colorbar\":{\"outlinewidth\":0,\"ticks\":\"\"}},\"marker\":{\"colorbar\":{\"outlinewidth\":0,\"ticks\":\"\"}}}],\"scattermapbox\":[{\"type\":\"scattermapbox\",\"marker\":{\"colorbar\":{\"outlinewidth\":0,\"ticks\":\"\"}}}],\"scatterternary\":[{\"type\":\"scatterternary\",\"marker\":{\"colorbar\":{\"outlinewidth\":0,\"ticks\":\"\"}}}],\"scattercarpet\":[{\"type\":\"scattercarpet\",\"marker\":{\"colorbar\":{\"outlinewidth\":0,\"ticks\":\"\"}}}],\"carpet\":[{\"aaxis\":{\"endlinecolor\":\"#2a3f5f\",\"gridcolor\":\"white\",\"linecolor\":\"white\",\"minorgridcolor\":\"white\",\"startlinecolor\":\"#2a3f5f\"},\"baxis\":{\"endlinecolor\":\"#2a3f5f\",\"gridcolor\":\"white\",\"linecolor\":\"white\",\"minorgridcolor\":\"white\",\"startlinecolor\":\"#2a3f5f\"},\"type\":\"carpet\"}],\"table\":[{\"cells\":{\"fill\":{\"color\":\"#EBF0F8\"},\"line\":{\"color\":\"white\"}},\"header\":{\"fill\":{\"color\":\"#C8D4E3\"},\"line\":{\"color\":\"white\"}},\"type\":\"table\"}],\"barpolar\":[{\"marker\":{\"line\":{\"color\":\"#E5ECF6\",\"width\":0.5},\"pattern\":{\"fillmode\":\"overlay\",\"size\":10,\"solidity\":0.2}},\"type\":\"barpolar\"}],\"pie\":[{\"automargin\":true,\"type\":\"pie\"}]},\"layout\":{\"autotypenumbers\":\"strict\",\"colorway\":[\"#636efa\",\"#EF553B\",\"#00cc96\",\"#ab63fa\",\"#FFA15A\",\"#19d3f3\",\"#FF6692\",\"#B6E880\",\"#FF97FF\",\"#FECB52\"],\"font\":{\"color\":\"#2a3f5f\"},\"hovermode\":\"closest\",\"hoverlabel\":{\"align\":\"left\"},\"paper_bgcolor\":\"white\",\"plot_bgcolor\":\"#E5ECF6\",\"polar\":{\"bgcolor\":\"#E5ECF6\",\"angularaxis\":{\"gridcolor\":\"white\",\"linecolor\":\"white\",\"ticks\":\"\"},\"radialaxis\":{\"gridcolor\":\"white\",\"linecolor\":\"white\",\"ticks\":\"\"}},\"ternary\":{\"bgcolor\":\"#E5ECF6\",\"aaxis\":{\"gridcolor\":\"white\",\"linecolor\":\"white\",\"ticks\":\"\"},\"baxis\":{\"gridcolor\":\"white\",\"linecolor\":\"white\",\"ticks\":\"\"},\"caxis\":{\"gridcolor\":\"white\",\"linecolor\":\"white\",\"ticks\":\"\"}},\"coloraxis\":{\"colorbar\":{\"outlinewidth\":0,\"ticks\":\"\"}},\"colorscale\":{\"sequential\":[[0.0,\"#0d0887\"],[0.1111111111111111,\"#46039f\"],[0.2222222222222222,\"#7201a8\"],[0.3333333333333333,\"#9c179e\"],[0.4444444444444444,\"#bd3786\"],[0.5555555555555556,\"#d8576b\"],[0.6666666666666666,\"#ed7953\"],[0.7777777777777778,\"#fb9f3a\"],[0.8888888888888888,\"#fdca26\"],[1.0,\"#f0f921\"]],\"sequentialminus\":[[0.0,\"#0d0887\"],[0.1111111111111111,\"#46039f\"],[0.2222222222222222,\"#7201a8\"],[0.3333333333333333,\"#9c179e\"],[0.4444444444444444,\"#bd3786\"],[0.5555555555555556,\"#d8576b\"],[0.6666666666666666,\"#ed7953\"],[0.7777777777777778,\"#fb9f3a\"],[0.8888888888888888,\"#fdca26\"],[1.0,\"#f0f921\"]],\"diverging\":[[0,\"#8e0152\"],[0.1,\"#c51b7d\"],[0.2,\"#de77ae\"],[0.3,\"#f1b6da\"],[0.4,\"#fde0ef\"],[0.5,\"#f7f7f7\"],[0.6,\"#e6f5d0\"],[0.7,\"#b8e186\"],[0.8,\"#7fbc41\"],[0.9,\"#4d9221\"],[1,\"#276419\"]]},\"xaxis\":{\"gridcolor\":\"white\",\"linecolor\":\"white\",\"ticks\":\"\",\"title\":{\"standoff\":15},\"zerolinecolor\":\"white\",\"automargin\":true,\"zerolinewidth\":2},\"yaxis\":{\"gridcolor\":\"white\",\"linecolor\":\"white\",\"ticks\":\"\",\"title\":{\"standoff\":15},\"zerolinecolor\":\"white\",\"automargin\":true,\"zerolinewidth\":2},\"scene\":{\"xaxis\":{\"backgroundcolor\":\"#E5ECF6\",\"gridcolor\":\"white\",\"linecolor\":\"white\",\"showbackground\":true,\"ticks\":\"\",\"zerolinecolor\":\"white\",\"gridwidth\":2},\"yaxis\":{\"backgroundcolor\":\"#E5ECF6\",\"gridcolor\":\"white\",\"linecolor\":\"white\",\"showbackground\":true,\"ticks\":\"\",\"zerolinecolor\":\"white\",\"gridwidth\":2},\"zaxis\":{\"backgroundcolor\":\"#E5ECF6\",\"gridcolor\":\"white\",\"linecolor\":\"white\",\"showbackground\":true,\"ticks\":\"\",\"zerolinecolor\":\"white\",\"gridwidth\":2}},\"shapedefaults\":{\"line\":{\"color\":\"#2a3f5f\"}},\"annotationdefaults\":{\"arrowcolor\":\"#2a3f5f\",\"arrowhead\":0,\"arrowwidth\":1},\"geo\":{\"bgcolor\":\"white\",\"landcolor\":\"#E5ECF6\",\"subunitcolor\":\"white\",\"showland\":true,\"showlakes\":true,\"lakecolor\":\"white\"},\"title\":{\"x\":0.05},\"mapbox\":{\"style\":\"light\"}}}},                        {\"responsive\": true}                    ).then(function(){\n",
              "                            \n",
              "var gd = document.getElementById('73b6490a-f3be-4d72-aa04-dc17427449bf');\n",
              "var x = new MutationObserver(function (mutations, observer) {{\n",
              "        var display = window.getComputedStyle(gd).display;\n",
              "        if (!display || display === 'none') {{\n",
              "            console.log([gd, 'removed!']);\n",
              "            Plotly.purge(gd);\n",
              "            observer.disconnect();\n",
              "        }}\n",
              "}});\n",
              "\n",
              "// Listen for the removal of the full notebook cells\n",
              "var notebookContainer = gd.closest('#notebook-container');\n",
              "if (notebookContainer) {{\n",
              "    x.observe(notebookContainer, {childList: true});\n",
              "}}\n",
              "\n",
              "// Listen for the clearing of the current output cell\n",
              "var outputEl = gd.closest('.output');\n",
              "if (outputEl) {{\n",
              "    x.observe(outputEl, {childList: true});\n",
              "}}\n",
              "\n",
              "                        })                };                            </script>        </div>\n",
              "</body>\n",
              "</html>"
            ]
          },
          "metadata": {}
        }
      ]
    },
    {
      "cell_type": "code",
      "execution_count": null,
      "metadata": {
        "id": "HDqffLilP3_W",
        "colab": {
          "base_uri": "https://localhost:8080/",
          "height": 562
        },
        "outputId": "c89eb834-e242-410c-97e4-6ba020bdcbf6"
      },
      "outputs": [
        {
          "output_type": "display_data",
          "data": {
            "text/html": [
              "<html>\n",
              "<head><meta charset=\"utf-8\" /></head>\n",
              "<body>\n",
              "    <div>            <script src=\"https://cdnjs.cloudflare.com/ajax/libs/mathjax/2.7.5/MathJax.js?config=TeX-AMS-MML_SVG\"></script><script type=\"text/javascript\">if (window.MathJax && window.MathJax.Hub && window.MathJax.Hub.Config) {window.MathJax.Hub.Config({SVG: {font: \"STIX-Web\"}});}</script>                <script type=\"text/javascript\">window.PlotlyConfig = {MathJaxConfig: 'local'};</script>\n",
              "        <script charset=\"utf-8\" src=\"https://cdn.plot.ly/plotly-2.24.1.min.js\"></script>                <div id=\"ce30a232-22d3-4e7e-b57b-4238d9d2156e\" class=\"plotly-graph-div\" style=\"height:525px; width:1500px;\"></div>            <script type=\"text/javascript\">                                    window.PLOTLYENV=window.PLOTLYENV || {};                                    if (document.getElementById(\"ce30a232-22d3-4e7e-b57b-4238d9d2156e\")) {                    Plotly.newPlot(                        \"ce30a232-22d3-4e7e-b57b-4238d9d2156e\",                        [{\"marker\":{\"color\":[0,1,2,3,4,5,6,7,8,9,10,11,12,13,14,15,16,17,18,19,20,21,22,23,24,25,26,27,28,29],\"colorbar\":{\"title\":{\"text\":\"Trial\"},\"x\":1.0,\"xpad\":40},\"colorscale\":[[0.0,\"rgb(247,251,255)\"],[0.125,\"rgb(222,235,247)\"],[0.25,\"rgb(198,219,239)\"],[0.375,\"rgb(158,202,225)\"],[0.5,\"rgb(107,174,214)\"],[0.625,\"rgb(66,146,198)\"],[0.75,\"rgb(33,113,181)\"],[0.875,\"rgb(8,81,156)\"],[1.0,\"rgb(8,48,107)\"]],\"line\":{\"color\":\"Grey\",\"width\":0.5},\"showscale\":true},\"mode\":\"markers\",\"name\":\"Feasible Trial\",\"showlegend\":false,\"x\":[0.8142845369859933,0.8142936965417591,0.8142887713844172,0.8142835089995907,0.8142944890574679,0.8142845652213507,0.8142886171950374,0.8142978677598689,0.814286345656433,0.8142997111922168,0.8142811781533743,0.8142825153552115,0.8142802407377496,0.8142803292477806,0.8142859133853899,0.8142824382270824,0.8142862308836403,0.8142815934462203,0.8142844502386837,0.8142844442222973,0.8142882362709805,0.8142889344310347,0.8142862917231741,0.8142907911204527,0.8142832960316919,0.8142847683239701,0.8142877445500412,0.8142878489229867,0.8142875857564242,0.8142907846919702],\"y\":[0.563169181022426,0.5631617306967899,0.5639666474011766,0.5629598008973427,0.5631861591959288,0.562825779753113,0.5638431887188313,0.5640388806213903,0.5635942853728585,0.5637781951922102,0.5629367019993106,0.5635700428279152,0.5636949581055781,0.5629826229953504,0.5631278618925405,0.5634517089189186,0.5634603531772078,0.5632957870898903,0.5627006328531092,0.5629322416429646,0.5626020046254615,0.5630550061253089,0.5636238239197767,0.5632234278929975,0.5639737078913946,0.5627008086442029,0.5624758696080928,0.5616561206139628,0.5632110162512848,0.5635452385693089],\"type\":\"scatter\",\"xaxis\":\"x\",\"yaxis\":\"y\"},{\"marker\":{\"color\":[0,1,2,3,4,5,6,7,8,9,10,11,12,13,14,15,16,17,18,19,20,21,22,23,24,25,26,27,28,29],\"colorbar\":{\"title\":{\"text\":\"Trial\"},\"x\":1.0,\"xpad\":40},\"colorscale\":[[0.0,\"rgb(247,251,255)\"],[0.125,\"rgb(222,235,247)\"],[0.25,\"rgb(198,219,239)\"],[0.375,\"rgb(158,202,225)\"],[0.5,\"rgb(107,174,214)\"],[0.625,\"rgb(66,146,198)\"],[0.75,\"rgb(33,113,181)\"],[0.875,\"rgb(8,81,156)\"],[1.0,\"rgb(8,48,107)\"]],\"line\":{\"color\":\"Grey\",\"width\":0.5},\"showscale\":false},\"mode\":\"markers\",\"name\":\"Feasible Trial\",\"showlegend\":false,\"x\":[0.3907486537584787,0.3903966691537041,0.3882965965347047,0.39064978501908243,0.3910475058734832,0.3894619356063174,0.3904604243376018,0.39271910922971087,0.3900663634640145,0.3905894344423651,0.38804005029190797,0.38807396763331337,0.3886866738643218,0.38901772828082604,0.3893772609740749,0.38945957535713416,0.3880485369229441,0.38876552277583193,0.3895464355171348,0.38974161532735657,0.3898418632524713,0.3898460546157184,0.3892201441466764,0.38964466250571705,0.3890209968607469,0.3900627522084383,0.3898616572307818,0.39004589885894997,0.3911657362201458,0.3901450473884282],\"y\":[0.563169181022426,0.5631617306967899,0.5639666474011766,0.5629598008973427,0.5631861591959288,0.562825779753113,0.5638431887188313,0.5640388806213903,0.5635942853728585,0.5637781951922102,0.5629367019993106,0.5635700428279152,0.5636949581055781,0.5629826229953504,0.5631278618925405,0.5634517089189186,0.5634603531772078,0.5632957870898903,0.5627006328531092,0.5629322416429646,0.5626020046254615,0.5630550061253089,0.5636238239197767,0.5632234278929975,0.5639737078913946,0.5627008086442029,0.5624758696080928,0.5616561206139628,0.5632110162512848,0.5635452385693089],\"type\":\"scatter\",\"xaxis\":\"x2\",\"yaxis\":\"y2\"},{\"marker\":{\"color\":[0,1,2,3,4,5,6,7,8,9,10,11,12,13,14,15,16,17,18,19,20,21,22,23,24,25,26,27,28,29],\"colorbar\":{\"title\":{\"text\":\"Trial\"},\"x\":1.0,\"xpad\":40},\"colorscale\":[[0.0,\"rgb(247,251,255)\"],[0.125,\"rgb(222,235,247)\"],[0.25,\"rgb(198,219,239)\"],[0.375,\"rgb(158,202,225)\"],[0.5,\"rgb(107,174,214)\"],[0.625,\"rgb(66,146,198)\"],[0.75,\"rgb(33,113,181)\"],[0.875,\"rgb(8,81,156)\"],[1.0,\"rgb(8,48,107)\"]],\"line\":{\"color\":\"Grey\",\"width\":0.5},\"showscale\":false},\"mode\":\"markers\",\"name\":\"Feasible Trial\",\"showlegend\":false,\"x\":[0.03068526696469151,0.0306852642310642,0.030685263431779783,0.030685267379953748,0.0306852663440092,0.03068526322958878,0.03068526092104926,0.030685263122611873,0.03068526623952913,0.03068526250455334,0.030685269843547656,0.030685269687485354,0.030685269955069854,0.030685265355985324,0.030685260188677482,0.03068526823722145,0.03068526505548194,0.030685268216268893,0.030685261912709504,0.030685261921442608,0.03068526141893516,0.030685261608740716,0.030685261232551247,0.03068526250110849,0.030685260018730582,0.030685263681965638,0.030685264044798335,0.03068526220104383,0.030685264404903146,0.030685260746515425],\"y\":[0.563169181022426,0.5631617306967899,0.5639666474011766,0.5629598008973427,0.5631861591959288,0.562825779753113,0.5638431887188313,0.5640388806213903,0.5635942853728585,0.5637781951922102,0.5629367019993106,0.5635700428279152,0.5636949581055781,0.5629826229953504,0.5631278618925405,0.5634517089189186,0.5634603531772078,0.5632957870898903,0.5627006328531092,0.5629322416429646,0.5626020046254615,0.5630550061253089,0.5636238239197767,0.5632234278929975,0.5639737078913946,0.5627008086442029,0.5624758696080928,0.5616561206139628,0.5632110162512848,0.5635452385693089],\"type\":\"scatter\",\"xaxis\":\"x3\",\"yaxis\":\"y3\"},{\"marker\":{\"color\":[0,1,2,3,4,5,6,7,8,9,10,11,12,13,14,15,16,17,18,19,20,21,22,23,24,25,26,27,28,29],\"colorbar\":{\"title\":{\"text\":\"Trial\"},\"x\":1.0,\"xpad\":40},\"colorscale\":[[0.0,\"rgb(247,251,255)\"],[0.125,\"rgb(222,235,247)\"],[0.25,\"rgb(198,219,239)\"],[0.375,\"rgb(158,202,225)\"],[0.5,\"rgb(107,174,214)\"],[0.625,\"rgb(66,146,198)\"],[0.75,\"rgb(33,113,181)\"],[0.875,\"rgb(8,81,156)\"],[1.0,\"rgb(8,48,107)\"]],\"line\":{\"color\":\"Grey\",\"width\":0.5},\"showscale\":false},\"mode\":\"markers\",\"name\":\"Feasible Trial\",\"showlegend\":false,\"x\":[0.09821843843183375,0.09789090182697939,0.0978968221965874,0.09803055709943241,0.0982214195455832,0.09812978760069987,0.09792458315369158,0.09800056116662233,0.09836571751097282,0.09811168356911876,0.09760100125096628,0.09754349634167665,0.09750904572310808,0.09770861790768713,0.09849149502285806,0.0976541184793073,0.09778076454237973,0.0977983756569269,0.0981075044967285,0.09811345006535876,0.09824671468887153,0.09826339937548882,0.09810383932351648,0.09831800576299896,0.09816372039978633,0.09803697317041345,0.09803235929882516,0.09797081776220397,0.09798907718106467,0.09819713415413646],\"y\":[0.563169181022426,0.5631617306967899,0.5639666474011766,0.5629598008973427,0.5631861591959288,0.562825779753113,0.5638431887188313,0.5640388806213903,0.5635942853728585,0.5637781951922102,0.5629367019993106,0.5635700428279152,0.5636949581055781,0.5629826229953504,0.5631278618925405,0.5634517089189186,0.5634603531772078,0.5632957870898903,0.5627006328531092,0.5629322416429646,0.5626020046254615,0.5630550061253089,0.5636238239197767,0.5632234278929975,0.5639737078913946,0.5627008086442029,0.5624758696080928,0.5616561206139628,0.5632110162512848,0.5635452385693089],\"type\":\"scatter\",\"xaxis\":\"x4\",\"yaxis\":\"y4\"},{\"marker\":{\"color\":[0,1,2,3,4,5,6,7,8,9,10,11,12,13,14,15,16,17,18,19,20,21,22,23,24,25,26,27,28,29],\"colorbar\":{\"title\":{\"text\":\"Trial\"},\"x\":1.0,\"xpad\":40},\"colorscale\":[[0.0,\"rgb(247,251,255)\"],[0.125,\"rgb(222,235,247)\"],[0.25,\"rgb(198,219,239)\"],[0.375,\"rgb(158,202,225)\"],[0.5,\"rgb(107,174,214)\"],[0.625,\"rgb(66,146,198)\"],[0.75,\"rgb(33,113,181)\"],[0.875,\"rgb(8,81,156)\"],[1.0,\"rgb(8,48,107)\"]],\"line\":{\"color\":\"Grey\",\"width\":0.5},\"showscale\":false},\"mode\":\"markers\",\"name\":\"Feasible Trial\",\"showlegend\":false,\"x\":[0.8303303144557144,0.8303305923056776,0.8303304916198639,0.8303302729966778,0.8303305397727053,0.83033034471544,0.8303303734804455,0.8303303705404993,0.8303302462473482,0.8303303932136816,0.8303302078448893,0.8303302015352574,0.8303303126868407,0.8303302061301147,0.8303304290493008,0.8303303045764063,0.8303302462742896,0.830330337138763,0.8303304220276041,0.8303304288114258,0.8303304454241951,0.8303304530836244,0.8303304654986563,0.8303303977863475,0.8303303532309978,0.8303304166276768,0.8303304184708659,0.8303304887154379,0.8303304974785138,0.8303304571685395],\"y\":[0.563169181022426,0.5631617306967899,0.5639666474011766,0.5629598008973427,0.5631861591959288,0.562825779753113,0.5638431887188313,0.5640388806213903,0.5635942853728585,0.5637781951922102,0.5629367019993106,0.5635700428279152,0.5636949581055781,0.5629826229953504,0.5631278618925405,0.5634517089189186,0.5634603531772078,0.5632957870898903,0.5627006328531092,0.5629322416429646,0.5626020046254615,0.5630550061253089,0.5636238239197767,0.5632234278929975,0.5639737078913946,0.5627008086442029,0.5624758696080928,0.5616561206139628,0.5632110162512848,0.5635452385693089],\"type\":\"scatter\",\"xaxis\":\"x5\",\"yaxis\":\"y5\"}],                        {\"template\":{\"data\":{\"histogram2dcontour\":[{\"type\":\"histogram2dcontour\",\"colorbar\":{\"outlinewidth\":0,\"ticks\":\"\"},\"colorscale\":[[0.0,\"#0d0887\"],[0.1111111111111111,\"#46039f\"],[0.2222222222222222,\"#7201a8\"],[0.3333333333333333,\"#9c179e\"],[0.4444444444444444,\"#bd3786\"],[0.5555555555555556,\"#d8576b\"],[0.6666666666666666,\"#ed7953\"],[0.7777777777777778,\"#fb9f3a\"],[0.8888888888888888,\"#fdca26\"],[1.0,\"#f0f921\"]]}],\"choropleth\":[{\"type\":\"choropleth\",\"colorbar\":{\"outlinewidth\":0,\"ticks\":\"\"}}],\"histogram2d\":[{\"type\":\"histogram2d\",\"colorbar\":{\"outlinewidth\":0,\"ticks\":\"\"},\"colorscale\":[[0.0,\"#0d0887\"],[0.1111111111111111,\"#46039f\"],[0.2222222222222222,\"#7201a8\"],[0.3333333333333333,\"#9c179e\"],[0.4444444444444444,\"#bd3786\"],[0.5555555555555556,\"#d8576b\"],[0.6666666666666666,\"#ed7953\"],[0.7777777777777778,\"#fb9f3a\"],[0.8888888888888888,\"#fdca26\"],[1.0,\"#f0f921\"]]}],\"heatmap\":[{\"type\":\"heatmap\",\"colorbar\":{\"outlinewidth\":0,\"ticks\":\"\"},\"colorscale\":[[0.0,\"#0d0887\"],[0.1111111111111111,\"#46039f\"],[0.2222222222222222,\"#7201a8\"],[0.3333333333333333,\"#9c179e\"],[0.4444444444444444,\"#bd3786\"],[0.5555555555555556,\"#d8576b\"],[0.6666666666666666,\"#ed7953\"],[0.7777777777777778,\"#fb9f3a\"],[0.8888888888888888,\"#fdca26\"],[1.0,\"#f0f921\"]]}],\"heatmapgl\":[{\"type\":\"heatmapgl\",\"colorbar\":{\"outlinewidth\":0,\"ticks\":\"\"},\"colorscale\":[[0.0,\"#0d0887\"],[0.1111111111111111,\"#46039f\"],[0.2222222222222222,\"#7201a8\"],[0.3333333333333333,\"#9c179e\"],[0.4444444444444444,\"#bd3786\"],[0.5555555555555556,\"#d8576b\"],[0.6666666666666666,\"#ed7953\"],[0.7777777777777778,\"#fb9f3a\"],[0.8888888888888888,\"#fdca26\"],[1.0,\"#f0f921\"]]}],\"contourcarpet\":[{\"type\":\"contourcarpet\",\"colorbar\":{\"outlinewidth\":0,\"ticks\":\"\"}}],\"contour\":[{\"type\":\"contour\",\"colorbar\":{\"outlinewidth\":0,\"ticks\":\"\"},\"colorscale\":[[0.0,\"#0d0887\"],[0.1111111111111111,\"#46039f\"],[0.2222222222222222,\"#7201a8\"],[0.3333333333333333,\"#9c179e\"],[0.4444444444444444,\"#bd3786\"],[0.5555555555555556,\"#d8576b\"],[0.6666666666666666,\"#ed7953\"],[0.7777777777777778,\"#fb9f3a\"],[0.8888888888888888,\"#fdca26\"],[1.0,\"#f0f921\"]]}],\"surface\":[{\"type\":\"surface\",\"colorbar\":{\"outlinewidth\":0,\"ticks\":\"\"},\"colorscale\":[[0.0,\"#0d0887\"],[0.1111111111111111,\"#46039f\"],[0.2222222222222222,\"#7201a8\"],[0.3333333333333333,\"#9c179e\"],[0.4444444444444444,\"#bd3786\"],[0.5555555555555556,\"#d8576b\"],[0.6666666666666666,\"#ed7953\"],[0.7777777777777778,\"#fb9f3a\"],[0.8888888888888888,\"#fdca26\"],[1.0,\"#f0f921\"]]}],\"mesh3d\":[{\"type\":\"mesh3d\",\"colorbar\":{\"outlinewidth\":0,\"ticks\":\"\"}}],\"scatter\":[{\"fillpattern\":{\"fillmode\":\"overlay\",\"size\":10,\"solidity\":0.2},\"type\":\"scatter\"}],\"parcoords\":[{\"type\":\"parcoords\",\"line\":{\"colorbar\":{\"outlinewidth\":0,\"ticks\":\"\"}}}],\"scatterpolargl\":[{\"type\":\"scatterpolargl\",\"marker\":{\"colorbar\":{\"outlinewidth\":0,\"ticks\":\"\"}}}],\"bar\":[{\"error_x\":{\"color\":\"#2a3f5f\"},\"error_y\":{\"color\":\"#2a3f5f\"},\"marker\":{\"line\":{\"color\":\"#E5ECF6\",\"width\":0.5},\"pattern\":{\"fillmode\":\"overlay\",\"size\":10,\"solidity\":0.2}},\"type\":\"bar\"}],\"scattergeo\":[{\"type\":\"scattergeo\",\"marker\":{\"colorbar\":{\"outlinewidth\":0,\"ticks\":\"\"}}}],\"scatterpolar\":[{\"type\":\"scatterpolar\",\"marker\":{\"colorbar\":{\"outlinewidth\":0,\"ticks\":\"\"}}}],\"histogram\":[{\"marker\":{\"pattern\":{\"fillmode\":\"overlay\",\"size\":10,\"solidity\":0.2}},\"type\":\"histogram\"}],\"scattergl\":[{\"type\":\"scattergl\",\"marker\":{\"colorbar\":{\"outlinewidth\":0,\"ticks\":\"\"}}}],\"scatter3d\":[{\"type\":\"scatter3d\",\"line\":{\"colorbar\":{\"outlinewidth\":0,\"ticks\":\"\"}},\"marker\":{\"colorbar\":{\"outlinewidth\":0,\"ticks\":\"\"}}}],\"scattermapbox\":[{\"type\":\"scattermapbox\",\"marker\":{\"colorbar\":{\"outlinewidth\":0,\"ticks\":\"\"}}}],\"scatterternary\":[{\"type\":\"scatterternary\",\"marker\":{\"colorbar\":{\"outlinewidth\":0,\"ticks\":\"\"}}}],\"scattercarpet\":[{\"type\":\"scattercarpet\",\"marker\":{\"colorbar\":{\"outlinewidth\":0,\"ticks\":\"\"}}}],\"carpet\":[{\"aaxis\":{\"endlinecolor\":\"#2a3f5f\",\"gridcolor\":\"white\",\"linecolor\":\"white\",\"minorgridcolor\":\"white\",\"startlinecolor\":\"#2a3f5f\"},\"baxis\":{\"endlinecolor\":\"#2a3f5f\",\"gridcolor\":\"white\",\"linecolor\":\"white\",\"minorgridcolor\":\"white\",\"startlinecolor\":\"#2a3f5f\"},\"type\":\"carpet\"}],\"table\":[{\"cells\":{\"fill\":{\"color\":\"#EBF0F8\"},\"line\":{\"color\":\"white\"}},\"header\":{\"fill\":{\"color\":\"#C8D4E3\"},\"line\":{\"color\":\"white\"}},\"type\":\"table\"}],\"barpolar\":[{\"marker\":{\"line\":{\"color\":\"#E5ECF6\",\"width\":0.5},\"pattern\":{\"fillmode\":\"overlay\",\"size\":10,\"solidity\":0.2}},\"type\":\"barpolar\"}],\"pie\":[{\"automargin\":true,\"type\":\"pie\"}]},\"layout\":{\"autotypenumbers\":\"strict\",\"colorway\":[\"#636efa\",\"#EF553B\",\"#00cc96\",\"#ab63fa\",\"#FFA15A\",\"#19d3f3\",\"#FF6692\",\"#B6E880\",\"#FF97FF\",\"#FECB52\"],\"font\":{\"color\":\"#2a3f5f\"},\"hovermode\":\"closest\",\"hoverlabel\":{\"align\":\"left\"},\"paper_bgcolor\":\"white\",\"plot_bgcolor\":\"#E5ECF6\",\"polar\":{\"bgcolor\":\"#E5ECF6\",\"angularaxis\":{\"gridcolor\":\"white\",\"linecolor\":\"white\",\"ticks\":\"\"},\"radialaxis\":{\"gridcolor\":\"white\",\"linecolor\":\"white\",\"ticks\":\"\"}},\"ternary\":{\"bgcolor\":\"#E5ECF6\",\"aaxis\":{\"gridcolor\":\"white\",\"linecolor\":\"white\",\"ticks\":\"\"},\"baxis\":{\"gridcolor\":\"white\",\"linecolor\":\"white\",\"ticks\":\"\"},\"caxis\":{\"gridcolor\":\"white\",\"linecolor\":\"white\",\"ticks\":\"\"}},\"coloraxis\":{\"colorbar\":{\"outlinewidth\":0,\"ticks\":\"\"}},\"colorscale\":{\"sequential\":[[0.0,\"#0d0887\"],[0.1111111111111111,\"#46039f\"],[0.2222222222222222,\"#7201a8\"],[0.3333333333333333,\"#9c179e\"],[0.4444444444444444,\"#bd3786\"],[0.5555555555555556,\"#d8576b\"],[0.6666666666666666,\"#ed7953\"],[0.7777777777777778,\"#fb9f3a\"],[0.8888888888888888,\"#fdca26\"],[1.0,\"#f0f921\"]],\"sequentialminus\":[[0.0,\"#0d0887\"],[0.1111111111111111,\"#46039f\"],[0.2222222222222222,\"#7201a8\"],[0.3333333333333333,\"#9c179e\"],[0.4444444444444444,\"#bd3786\"],[0.5555555555555556,\"#d8576b\"],[0.6666666666666666,\"#ed7953\"],[0.7777777777777778,\"#fb9f3a\"],[0.8888888888888888,\"#fdca26\"],[1.0,\"#f0f921\"]],\"diverging\":[[0,\"#8e0152\"],[0.1,\"#c51b7d\"],[0.2,\"#de77ae\"],[0.3,\"#f1b6da\"],[0.4,\"#fde0ef\"],[0.5,\"#f7f7f7\"],[0.6,\"#e6f5d0\"],[0.7,\"#b8e186\"],[0.8,\"#7fbc41\"],[0.9,\"#4d9221\"],[1,\"#276419\"]]},\"xaxis\":{\"gridcolor\":\"white\",\"linecolor\":\"white\",\"ticks\":\"\",\"title\":{\"standoff\":15},\"zerolinecolor\":\"white\",\"automargin\":true,\"zerolinewidth\":2},\"yaxis\":{\"gridcolor\":\"white\",\"linecolor\":\"white\",\"ticks\":\"\",\"title\":{\"standoff\":15},\"zerolinecolor\":\"white\",\"automargin\":true,\"zerolinewidth\":2},\"scene\":{\"xaxis\":{\"backgroundcolor\":\"#E5ECF6\",\"gridcolor\":\"white\",\"linecolor\":\"white\",\"showbackground\":true,\"ticks\":\"\",\"zerolinecolor\":\"white\",\"gridwidth\":2},\"yaxis\":{\"backgroundcolor\":\"#E5ECF6\",\"gridcolor\":\"white\",\"linecolor\":\"white\",\"showbackground\":true,\"ticks\":\"\",\"zerolinecolor\":\"white\",\"gridwidth\":2},\"zaxis\":{\"backgroundcolor\":\"#E5ECF6\",\"gridcolor\":\"white\",\"linecolor\":\"white\",\"showbackground\":true,\"ticks\":\"\",\"zerolinecolor\":\"white\",\"gridwidth\":2}},\"shapedefaults\":{\"line\":{\"color\":\"#2a3f5f\"}},\"annotationdefaults\":{\"arrowcolor\":\"#2a3f5f\",\"arrowhead\":0,\"arrowwidth\":1},\"geo\":{\"bgcolor\":\"white\",\"landcolor\":\"#E5ECF6\",\"subunitcolor\":\"white\",\"showland\":true,\"showlakes\":true,\"lakecolor\":\"white\"},\"title\":{\"x\":0.05},\"mapbox\":{\"style\":\"light\"}}},\"xaxis\":{\"anchor\":\"y\",\"domain\":[0.0,0.16799999999999998],\"title\":{\"text\":\"colsample_bylevel\"},\"type\":\"log\"},\"yaxis\":{\"anchor\":\"x\",\"domain\":[0.0,1.0],\"title\":{\"text\":\"Objective Value\"}},\"xaxis2\":{\"anchor\":\"y2\",\"domain\":[0.208,0.376],\"title\":{\"text\":\"l2_leaf_reg\"},\"type\":\"log\"},\"yaxis2\":{\"anchor\":\"x2\",\"domain\":[0.0,1.0],\"matches\":\"y\",\"showticklabels\":false},\"xaxis3\":{\"anchor\":\"y3\",\"domain\":[0.416,0.584],\"title\":{\"text\":\"learning_rate\"},\"type\":\"log\"},\"yaxis3\":{\"anchor\":\"x3\",\"domain\":[0.0,1.0],\"matches\":\"y\",\"showticklabels\":false},\"xaxis4\":{\"anchor\":\"y4\",\"domain\":[0.624,0.792],\"title\":{\"text\":\"random_strength\"},\"type\":\"log\"},\"yaxis4\":{\"anchor\":\"x4\",\"domain\":[0.0,1.0],\"matches\":\"y\",\"showticklabels\":false},\"xaxis5\":{\"anchor\":\"y5\",\"domain\":[0.832,1.0],\"title\":{\"text\":\"subsample\"},\"type\":\"log\"},\"yaxis5\":{\"anchor\":\"x5\",\"domain\":[0.0,1.0],\"matches\":\"y\",\"showticklabels\":false},\"title\":{\"text\":\"Slice Plot\"},\"width\":1500},                        {\"responsive\": true}                    ).then(function(){\n",
              "                            \n",
              "var gd = document.getElementById('ce30a232-22d3-4e7e-b57b-4238d9d2156e');\n",
              "var x = new MutationObserver(function (mutations, observer) {{\n",
              "        var display = window.getComputedStyle(gd).display;\n",
              "        if (!display || display === 'none') {{\n",
              "            console.log([gd, 'removed!']);\n",
              "            Plotly.purge(gd);\n",
              "            observer.disconnect();\n",
              "        }}\n",
              "}});\n",
              "\n",
              "// Listen for the removal of the full notebook cells\n",
              "var notebookContainer = gd.closest('#notebook-container');\n",
              "if (notebookContainer) {{\n",
              "    x.observe(notebookContainer, {childList: true});\n",
              "}}\n",
              "\n",
              "// Listen for the clearing of the current output cell\n",
              "var outputEl = gd.closest('.output');\n",
              "if (outputEl) {{\n",
              "    x.observe(outputEl, {childList: true});\n",
              "}}\n",
              "\n",
              "                        })                };                            </script>        </div>\n",
              "</body>\n",
              "</html>"
            ]
          },
          "metadata": {}
        }
      ],
      "source": [
        "optuna.visualization.plot_slice(study_cb_ver2)"
      ]
    },
    {
      "cell_type": "code",
      "execution_count": null,
      "metadata": {
        "id": "Y6xum8jkP3_X",
        "colab": {
          "base_uri": "https://localhost:8080/",
          "height": 542
        },
        "outputId": "5d801cb2-ef52-46f2-b2de-a8bb9f9b5db1"
      },
      "outputs": [
        {
          "output_type": "display_data",
          "data": {
            "text/html": [
              "<html>\n",
              "<head><meta charset=\"utf-8\" /></head>\n",
              "<body>\n",
              "    <div>            <script src=\"https://cdnjs.cloudflare.com/ajax/libs/mathjax/2.7.5/MathJax.js?config=TeX-AMS-MML_SVG\"></script><script type=\"text/javascript\">if (window.MathJax && window.MathJax.Hub && window.MathJax.Hub.Config) {window.MathJax.Hub.Config({SVG: {font: \"STIX-Web\"}});}</script>                <script type=\"text/javascript\">window.PlotlyConfig = {MathJaxConfig: 'local'};</script>\n",
              "        <script charset=\"utf-8\" src=\"https://cdn.plot.ly/plotly-2.24.1.min.js\"></script>                <div id=\"f5e13785-1e63-418a-b849-7eb5e526c121\" class=\"plotly-graph-div\" style=\"height:525px; width:100%;\"></div>            <script type=\"text/javascript\">                                    window.PLOTLYENV=window.PLOTLYENV || {};                                    if (document.getElementById(\"f5e13785-1e63-418a-b849-7eb5e526c121\")) {                    Plotly.newPlot(                        \"f5e13785-1e63-418a-b849-7eb5e526c121\",                        [{\"mode\":\"markers\",\"name\":\"Objective Value\",\"x\":[0,1,2,3,4,5,6,7,8,9,10,11,12,13,14,15,16,17,18,19,20,21,22,23,24,25,26,27,28,29],\"y\":[0.563169181022426,0.5631617306967899,0.5639666474011766,0.5629598008973427,0.5631861591959288,0.562825779753113,0.5638431887188313,0.5640388806213903,0.5635942853728585,0.5637781951922102,0.5629367019993106,0.5635700428279152,0.5636949581055781,0.5629826229953504,0.5631278618925405,0.5634517089189186,0.5634603531772078,0.5632957870898903,0.5627006328531092,0.5629322416429646,0.5626020046254615,0.5630550061253089,0.5636238239197767,0.5632234278929975,0.5639737078913946,0.5627008086442029,0.5624758696080928,0.5616561206139628,0.5632110162512848,0.5635452385693089],\"type\":\"scatter\"},{\"mode\":\"lines\",\"name\":\"Best Value\",\"x\":[0,1,2,3,4,5,6,7,8,9,10,11,12,13,14,15,16,17,18,19,20,21,22,23,24,25,26,27,28,29],\"y\":[0.563169181022426,0.5631617306967899,0.5631617306967899,0.5629598008973427,0.5629598008973427,0.562825779753113,0.562825779753113,0.562825779753113,0.562825779753113,0.562825779753113,0.562825779753113,0.562825779753113,0.562825779753113,0.562825779753113,0.562825779753113,0.562825779753113,0.562825779753113,0.562825779753113,0.5627006328531092,0.5627006328531092,0.5626020046254615,0.5626020046254615,0.5626020046254615,0.5626020046254615,0.5626020046254615,0.5626020046254615,0.5624758696080928,0.5616561206139628,0.5616561206139628,0.5616561206139628],\"type\":\"scatter\"},{\"marker\":{\"color\":\"#cccccc\"},\"mode\":\"markers\",\"name\":\"Infeasible Trial\",\"showlegend\":false,\"x\":[],\"y\":[],\"type\":\"scatter\"}],                        {\"title\":{\"text\":\"Optimization History Plot\"},\"xaxis\":{\"title\":{\"text\":\"Trial\"}},\"yaxis\":{\"title\":{\"text\":\"Objective Value\"}},\"template\":{\"data\":{\"histogram2dcontour\":[{\"type\":\"histogram2dcontour\",\"colorbar\":{\"outlinewidth\":0,\"ticks\":\"\"},\"colorscale\":[[0.0,\"#0d0887\"],[0.1111111111111111,\"#46039f\"],[0.2222222222222222,\"#7201a8\"],[0.3333333333333333,\"#9c179e\"],[0.4444444444444444,\"#bd3786\"],[0.5555555555555556,\"#d8576b\"],[0.6666666666666666,\"#ed7953\"],[0.7777777777777778,\"#fb9f3a\"],[0.8888888888888888,\"#fdca26\"],[1.0,\"#f0f921\"]]}],\"choropleth\":[{\"type\":\"choropleth\",\"colorbar\":{\"outlinewidth\":0,\"ticks\":\"\"}}],\"histogram2d\":[{\"type\":\"histogram2d\",\"colorbar\":{\"outlinewidth\":0,\"ticks\":\"\"},\"colorscale\":[[0.0,\"#0d0887\"],[0.1111111111111111,\"#46039f\"],[0.2222222222222222,\"#7201a8\"],[0.3333333333333333,\"#9c179e\"],[0.4444444444444444,\"#bd3786\"],[0.5555555555555556,\"#d8576b\"],[0.6666666666666666,\"#ed7953\"],[0.7777777777777778,\"#fb9f3a\"],[0.8888888888888888,\"#fdca26\"],[1.0,\"#f0f921\"]]}],\"heatmap\":[{\"type\":\"heatmap\",\"colorbar\":{\"outlinewidth\":0,\"ticks\":\"\"},\"colorscale\":[[0.0,\"#0d0887\"],[0.1111111111111111,\"#46039f\"],[0.2222222222222222,\"#7201a8\"],[0.3333333333333333,\"#9c179e\"],[0.4444444444444444,\"#bd3786\"],[0.5555555555555556,\"#d8576b\"],[0.6666666666666666,\"#ed7953\"],[0.7777777777777778,\"#fb9f3a\"],[0.8888888888888888,\"#fdca26\"],[1.0,\"#f0f921\"]]}],\"heatmapgl\":[{\"type\":\"heatmapgl\",\"colorbar\":{\"outlinewidth\":0,\"ticks\":\"\"},\"colorscale\":[[0.0,\"#0d0887\"],[0.1111111111111111,\"#46039f\"],[0.2222222222222222,\"#7201a8\"],[0.3333333333333333,\"#9c179e\"],[0.4444444444444444,\"#bd3786\"],[0.5555555555555556,\"#d8576b\"],[0.6666666666666666,\"#ed7953\"],[0.7777777777777778,\"#fb9f3a\"],[0.8888888888888888,\"#fdca26\"],[1.0,\"#f0f921\"]]}],\"contourcarpet\":[{\"type\":\"contourcarpet\",\"colorbar\":{\"outlinewidth\":0,\"ticks\":\"\"}}],\"contour\":[{\"type\":\"contour\",\"colorbar\":{\"outlinewidth\":0,\"ticks\":\"\"},\"colorscale\":[[0.0,\"#0d0887\"],[0.1111111111111111,\"#46039f\"],[0.2222222222222222,\"#7201a8\"],[0.3333333333333333,\"#9c179e\"],[0.4444444444444444,\"#bd3786\"],[0.5555555555555556,\"#d8576b\"],[0.6666666666666666,\"#ed7953\"],[0.7777777777777778,\"#fb9f3a\"],[0.8888888888888888,\"#fdca26\"],[1.0,\"#f0f921\"]]}],\"surface\":[{\"type\":\"surface\",\"colorbar\":{\"outlinewidth\":0,\"ticks\":\"\"},\"colorscale\":[[0.0,\"#0d0887\"],[0.1111111111111111,\"#46039f\"],[0.2222222222222222,\"#7201a8\"],[0.3333333333333333,\"#9c179e\"],[0.4444444444444444,\"#bd3786\"],[0.5555555555555556,\"#d8576b\"],[0.6666666666666666,\"#ed7953\"],[0.7777777777777778,\"#fb9f3a\"],[0.8888888888888888,\"#fdca26\"],[1.0,\"#f0f921\"]]}],\"mesh3d\":[{\"type\":\"mesh3d\",\"colorbar\":{\"outlinewidth\":0,\"ticks\":\"\"}}],\"scatter\":[{\"fillpattern\":{\"fillmode\":\"overlay\",\"size\":10,\"solidity\":0.2},\"type\":\"scatter\"}],\"parcoords\":[{\"type\":\"parcoords\",\"line\":{\"colorbar\":{\"outlinewidth\":0,\"ticks\":\"\"}}}],\"scatterpolargl\":[{\"type\":\"scatterpolargl\",\"marker\":{\"colorbar\":{\"outlinewidth\":0,\"ticks\":\"\"}}}],\"bar\":[{\"error_x\":{\"color\":\"#2a3f5f\"},\"error_y\":{\"color\":\"#2a3f5f\"},\"marker\":{\"line\":{\"color\":\"#E5ECF6\",\"width\":0.5},\"pattern\":{\"fillmode\":\"overlay\",\"size\":10,\"solidity\":0.2}},\"type\":\"bar\"}],\"scattergeo\":[{\"type\":\"scattergeo\",\"marker\":{\"colorbar\":{\"outlinewidth\":0,\"ticks\":\"\"}}}],\"scatterpolar\":[{\"type\":\"scatterpolar\",\"marker\":{\"colorbar\":{\"outlinewidth\":0,\"ticks\":\"\"}}}],\"histogram\":[{\"marker\":{\"pattern\":{\"fillmode\":\"overlay\",\"size\":10,\"solidity\":0.2}},\"type\":\"histogram\"}],\"scattergl\":[{\"type\":\"scattergl\",\"marker\":{\"colorbar\":{\"outlinewidth\":0,\"ticks\":\"\"}}}],\"scatter3d\":[{\"type\":\"scatter3d\",\"line\":{\"colorbar\":{\"outlinewidth\":0,\"ticks\":\"\"}},\"marker\":{\"colorbar\":{\"outlinewidth\":0,\"ticks\":\"\"}}}],\"scattermapbox\":[{\"type\":\"scattermapbox\",\"marker\":{\"colorbar\":{\"outlinewidth\":0,\"ticks\":\"\"}}}],\"scatterternary\":[{\"type\":\"scatterternary\",\"marker\":{\"colorbar\":{\"outlinewidth\":0,\"ticks\":\"\"}}}],\"scattercarpet\":[{\"type\":\"scattercarpet\",\"marker\":{\"colorbar\":{\"outlinewidth\":0,\"ticks\":\"\"}}}],\"carpet\":[{\"aaxis\":{\"endlinecolor\":\"#2a3f5f\",\"gridcolor\":\"white\",\"linecolor\":\"white\",\"minorgridcolor\":\"white\",\"startlinecolor\":\"#2a3f5f\"},\"baxis\":{\"endlinecolor\":\"#2a3f5f\",\"gridcolor\":\"white\",\"linecolor\":\"white\",\"minorgridcolor\":\"white\",\"startlinecolor\":\"#2a3f5f\"},\"type\":\"carpet\"}],\"table\":[{\"cells\":{\"fill\":{\"color\":\"#EBF0F8\"},\"line\":{\"color\":\"white\"}},\"header\":{\"fill\":{\"color\":\"#C8D4E3\"},\"line\":{\"color\":\"white\"}},\"type\":\"table\"}],\"barpolar\":[{\"marker\":{\"line\":{\"color\":\"#E5ECF6\",\"width\":0.5},\"pattern\":{\"fillmode\":\"overlay\",\"size\":10,\"solidity\":0.2}},\"type\":\"barpolar\"}],\"pie\":[{\"automargin\":true,\"type\":\"pie\"}]},\"layout\":{\"autotypenumbers\":\"strict\",\"colorway\":[\"#636efa\",\"#EF553B\",\"#00cc96\",\"#ab63fa\",\"#FFA15A\",\"#19d3f3\",\"#FF6692\",\"#B6E880\",\"#FF97FF\",\"#FECB52\"],\"font\":{\"color\":\"#2a3f5f\"},\"hovermode\":\"closest\",\"hoverlabel\":{\"align\":\"left\"},\"paper_bgcolor\":\"white\",\"plot_bgcolor\":\"#E5ECF6\",\"polar\":{\"bgcolor\":\"#E5ECF6\",\"angularaxis\":{\"gridcolor\":\"white\",\"linecolor\":\"white\",\"ticks\":\"\"},\"radialaxis\":{\"gridcolor\":\"white\",\"linecolor\":\"white\",\"ticks\":\"\"}},\"ternary\":{\"bgcolor\":\"#E5ECF6\",\"aaxis\":{\"gridcolor\":\"white\",\"linecolor\":\"white\",\"ticks\":\"\"},\"baxis\":{\"gridcolor\":\"white\",\"linecolor\":\"white\",\"ticks\":\"\"},\"caxis\":{\"gridcolor\":\"white\",\"linecolor\":\"white\",\"ticks\":\"\"}},\"coloraxis\":{\"colorbar\":{\"outlinewidth\":0,\"ticks\":\"\"}},\"colorscale\":{\"sequential\":[[0.0,\"#0d0887\"],[0.1111111111111111,\"#46039f\"],[0.2222222222222222,\"#7201a8\"],[0.3333333333333333,\"#9c179e\"],[0.4444444444444444,\"#bd3786\"],[0.5555555555555556,\"#d8576b\"],[0.6666666666666666,\"#ed7953\"],[0.7777777777777778,\"#fb9f3a\"],[0.8888888888888888,\"#fdca26\"],[1.0,\"#f0f921\"]],\"sequentialminus\":[[0.0,\"#0d0887\"],[0.1111111111111111,\"#46039f\"],[0.2222222222222222,\"#7201a8\"],[0.3333333333333333,\"#9c179e\"],[0.4444444444444444,\"#bd3786\"],[0.5555555555555556,\"#d8576b\"],[0.6666666666666666,\"#ed7953\"],[0.7777777777777778,\"#fb9f3a\"],[0.8888888888888888,\"#fdca26\"],[1.0,\"#f0f921\"]],\"diverging\":[[0,\"#8e0152\"],[0.1,\"#c51b7d\"],[0.2,\"#de77ae\"],[0.3,\"#f1b6da\"],[0.4,\"#fde0ef\"],[0.5,\"#f7f7f7\"],[0.6,\"#e6f5d0\"],[0.7,\"#b8e186\"],[0.8,\"#7fbc41\"],[0.9,\"#4d9221\"],[1,\"#276419\"]]},\"xaxis\":{\"gridcolor\":\"white\",\"linecolor\":\"white\",\"ticks\":\"\",\"title\":{\"standoff\":15},\"zerolinecolor\":\"white\",\"automargin\":true,\"zerolinewidth\":2},\"yaxis\":{\"gridcolor\":\"white\",\"linecolor\":\"white\",\"ticks\":\"\",\"title\":{\"standoff\":15},\"zerolinecolor\":\"white\",\"automargin\":true,\"zerolinewidth\":2},\"scene\":{\"xaxis\":{\"backgroundcolor\":\"#E5ECF6\",\"gridcolor\":\"white\",\"linecolor\":\"white\",\"showbackground\":true,\"ticks\":\"\",\"zerolinecolor\":\"white\",\"gridwidth\":2},\"yaxis\":{\"backgroundcolor\":\"#E5ECF6\",\"gridcolor\":\"white\",\"linecolor\":\"white\",\"showbackground\":true,\"ticks\":\"\",\"zerolinecolor\":\"white\",\"gridwidth\":2},\"zaxis\":{\"backgroundcolor\":\"#E5ECF6\",\"gridcolor\":\"white\",\"linecolor\":\"white\",\"showbackground\":true,\"ticks\":\"\",\"zerolinecolor\":\"white\",\"gridwidth\":2}},\"shapedefaults\":{\"line\":{\"color\":\"#2a3f5f\"}},\"annotationdefaults\":{\"arrowcolor\":\"#2a3f5f\",\"arrowhead\":0,\"arrowwidth\":1},\"geo\":{\"bgcolor\":\"white\",\"landcolor\":\"#E5ECF6\",\"subunitcolor\":\"white\",\"showland\":true,\"showlakes\":true,\"lakecolor\":\"white\"},\"title\":{\"x\":0.05},\"mapbox\":{\"style\":\"light\"}}}},                        {\"responsive\": true}                    ).then(function(){\n",
              "                            \n",
              "var gd = document.getElementById('f5e13785-1e63-418a-b849-7eb5e526c121');\n",
              "var x = new MutationObserver(function (mutations, observer) {{\n",
              "        var display = window.getComputedStyle(gd).display;\n",
              "        if (!display || display === 'none') {{\n",
              "            console.log([gd, 'removed!']);\n",
              "            Plotly.purge(gd);\n",
              "            observer.disconnect();\n",
              "        }}\n",
              "}});\n",
              "\n",
              "// Listen for the removal of the full notebook cells\n",
              "var notebookContainer = gd.closest('#notebook-container');\n",
              "if (notebookContainer) {{\n",
              "    x.observe(notebookContainer, {childList: true});\n",
              "}}\n",
              "\n",
              "// Listen for the clearing of the current output cell\n",
              "var outputEl = gd.closest('.output');\n",
              "if (outputEl) {{\n",
              "    x.observe(outputEl, {childList: true});\n",
              "}}\n",
              "\n",
              "                        })                };                            </script>        </div>\n",
              "</body>\n",
              "</html>"
            ]
          },
          "metadata": {}
        }
      ],
      "source": [
        "optuna.visualization.plot_optimization_history(study_cb_ver2)"
      ]
    },
    {
      "cell_type": "markdown",
      "source": [
        "#### <h2> Fitting to Train </h2> ####"
      ],
      "metadata": {
        "id": "uROAun40QroC"
      }
    },
    {
      "cell_type": "code",
      "execution_count": null,
      "metadata": {
        "id": "14diKgnSO36d",
        "colab": {
          "base_uri": "https://localhost:8080/"
        },
        "outputId": "260c4d24-4501-4cdf-f98a-4f74d40a74b8"
      },
      "outputs": [
        {
          "output_type": "stream",
          "name": "stdout",
          "text": [
            "{'learning_rate': 0.03068526220104383, 'l2_leaf_reg': 0.39004589885894997, 'loss_function': 'RMSE', 'silent': True, 'random_strength': 0.09797081776220397, 'subsample': 0.8303304887154379, 'colsample_bylevel': 0.8142878489229867, 'random_state': 123}\n",
            "\n",
            "Train RMSE CatBoost: 0.5044679923323249\n"
          ]
        }
      ],
      "source": [
        "# Best Parameter\n",
        "best_params_cb = study_cb_ver2.best_params\n",
        "\n",
        "cb2 = CatBoostRegressor(random_state = 123, **best_params_cb, silent=True)\n",
        "\n",
        "cb2.fit(X_train_nonscaled, y_train_nonscaled)\n",
        "train_preds_cb2 = cb2.predict(X_train_nonscaled)\n",
        "train_rmse_cb2 = np.sqrt(mse(y_train_nonscaled, train_preds_cb2))\n",
        "\n",
        "print(cb2.get_params())\n",
        "print(\"\")\n",
        "print(f\"Train RMSE CatBoost: {train_rmse_cb2}\")"
      ]
    },
    {
      "cell_type": "code",
      "execution_count": null,
      "metadata": {
        "id": "S4EsQHb-dtZt",
        "colab": {
          "base_uri": "https://localhost:8080/",
          "height": 564
        },
        "outputId": "df6fecb0-baf1-4711-dd68-33a18bc086d5"
      },
      "outputs": [
        {
          "output_type": "display_data",
          "data": {
            "text/plain": [
              "<Figure size 1000x600 with 1 Axes>"
            ],
            "image/png": "[encoded data removed]"
          },
          "metadata": {}
        }
      ],
      "source": [
        "feature_importance_viz(df_train, cb2)"
      ]
    },
    {
      "cell_type": "code",
      "source": [
        "analysis = df_train.copy()\n",
        "analysis['pred'] = train_preds_cb2\n",
        "analysis['error'] = analysis['price_mean'] - analysis['pred']\n",
        "analysis['rmse'] = train_rmse_cb2\n",
        "\n",
        "errors = analysis.groupby('hour')[['error', 'rmse']].agg('median').sort_values(by='rmse', ascending=False)\n",
        "errors[:10]"
      ],
      "metadata": {
        "id": "Uqu1IU7f1PhQ"
      },
      "execution_count": null,
      "outputs": []
    },
    {
      "cell_type": "markdown",
      "source": [
        "#### <h2> Submission </h2> ####"
      ],
      "metadata": {
        "id": "coLqHrW7Rr1E"
      }
    },
    {
      "cell_type": "code",
      "source": [
        "submission = cb2.predict(X_test)\n",
        "\n",
        "index = np.arange(0, 11040)\n",
        "\n",
        "df_submission = pd.DataFrame({'index': index, 'price_mean': submission})\n",
        "\n",
        "df_submission.to_csv('submission.csv', index=False)"
      ],
      "metadata": {
        "id": "g4N_qD6VRum3"
      },
      "execution_count": null,
      "outputs": []
    },
    {
      "cell_type": "markdown",
      "source": [
        "#### <h2> Saving Model </h2> ####"
      ],
      "metadata": {
        "id": "MjZgUGHdqhaD"
      }
    },
    {
      "cell_type": "code",
      "source": [
        "pickle.dump(cb2, open('20231115-1808-CB-Nonscaled.pkl', 'wb'))"
      ],
      "metadata": {
        "id": "BOgmaefSqlcj"
      },
      "execution_count": null,
      "outputs": []
    },
    {
      "cell_type": "markdown",
      "source": [
        "## <h2> SVR (FAILED) </h2> ##"
      ],
      "metadata": {
        "id": "QvvoVvza9hiK"
      }
    },
    {
      "cell_type": "markdown",
      "source": [
        "#### <h2> Hyperparameter Tuning </h2> ####"
      ],
      "metadata": {
        "id": "Qmy6Eg5LmbTj"
      }
    },
    {
      "cell_type": "code",
      "execution_count": null,
      "metadata": {
        "id": "TKjfutZnmbTj"
      },
      "outputs": [],
      "source": [
        "start=time.time()\n",
        "\n",
        "kf = KFold(n_splits=15, shuffle=True, random_state=123)\n",
        "\n",
        "def objective(trial):\n",
        "  params = {\"kernel\": \"rbf\",\n",
        "            \"C\" : trial.suggest_float(\"C\", 1, 10),\n",
        "            \"gamma\" : trial.suggest_float(\"gamma\", 0.1, 1, step=0.1),\n",
        "            \"epsilon\" : trial.suggest_float('epsilon', 0.01, 1)}\n",
        "\n",
        "  model = SVR(**params)\n",
        "  best_score = cross_val_score(model, X_train, y_train, scoring='neg_root_mean_squared_error', cv=kf).mean()\n",
        "  return -best_score\n",
        "\n",
        "sampler = TPESampler(seed=123)\n",
        "study_svr = optuna.create_study(direction='minimize', sampler=sampler)\n",
        "study_svr.optimize(objective, n_trials=30)\n",
        "\n",
        "end = time.time()\n",
        "duration = end - start\n",
        "print(f\"The cell took {duration} seconds to run.\")"
      ]
    },
    {
      "cell_type": "code",
      "execution_count": null,
      "metadata": {
        "id": "U9Akw8F5mbTj"
      },
      "outputs": [],
      "source": [
        "print('Best hyperparameters:', study_svr.best_params)\n",
        "print('Best RMSE:', study_svr.best_value)"
      ]
    },
    {
      "cell_type": "code",
      "execution_count": null,
      "metadata": {
        "id": "flZDyqttmbTk"
      },
      "outputs": [],
      "source": [
        "study_svr.trials_dataframe().sort_values('value', ascending=True).head(5)"
      ]
    },
    {
      "cell_type": "code",
      "source": [
        "#Visualize parameter importances.\n",
        "optuna.visualization.plot_param_importances(study_svr)"
      ],
      "metadata": {
        "id": "Xd2gqmWbmbTk"
      },
      "execution_count": null,
      "outputs": []
    },
    {
      "cell_type": "code",
      "execution_count": null,
      "metadata": {
        "id": "LA5FyLMXmbTk"
      },
      "outputs": [],
      "source": [
        "optuna.visualization.plot_slice(study_svr)"
      ]
    },
    {
      "cell_type": "code",
      "execution_count": null,
      "metadata": {
        "id": "orVRGbiFmbTl"
      },
      "outputs": [],
      "source": [
        "optuna.visualization.plot_optimization_history(study_svr)"
      ]
    },
    {
      "cell_type": "markdown",
      "source": [
        "#### <h2> Fitting to Train </h2> ####"
      ],
      "metadata": {
        "id": "45XN_HJ6mbTl"
      }
    },
    {
      "cell_type": "code",
      "execution_count": null,
      "metadata": {
        "id": "xyAl0dWRmbTl"
      },
      "outputs": [],
      "source": [
        "# Best Parameter\n",
        "best_params_svr = study_svr.best_params\n",
        "\n",
        "svr = SVR(random_state = 123, **best_params_svr, silent=True)\n",
        "\n",
        "svr.fit(X_train, y_train)\n",
        "train_preds_svr = svr.predict(X_train)\n",
        "train_rmse_svr = np.sqrt(mse(y_train, train_preds_svr))\n",
        "\n",
        "print(svr.get_params())\n",
        "print(\"\")\n",
        "print(f\"Train RMSE svr: {train_rmse_svr}\")"
      ]
    },
    {
      "cell_type": "code",
      "execution_count": null,
      "metadata": {
        "id": "P6nGvfW6mbTl"
      },
      "outputs": [],
      "source": [
        "feature_importance_viz(df_train, svr)"
      ]
    },
    {
      "cell_type": "code",
      "source": [
        "analysis = df_train.copy()\n",
        "analysis['pred'] = train_preds_svr\n",
        "analysis['error'] = analysis['price_mean'] - analysis['pred']\n",
        "analysis['rmse'] = train_rmse_svr\n",
        "\n",
        "errors = analysis.groupby('hour')[['error', 'rmse']].agg('mean').sort_values(by='rmse', ascending=False)\n",
        "errors[:10]"
      ],
      "metadata": {
        "id": "th9InYoUmbTm"
      },
      "execution_count": null,
      "outputs": []
    },
    {
      "cell_type": "markdown",
      "source": [
        "#### <h2> Submission </h2> ####"
      ],
      "metadata": {
        "id": "j3OVHoxkmbTm"
      }
    },
    {
      "cell_type": "code",
      "source": [
        "submission = svr.predict(X_test)\n",
        "\n",
        "index = np.arange(0, 11040)\n",
        "\n",
        "df_submission = pd.DataFrame({'index': index, 'price_mean': submission})\n",
        "\n",
        "df_submission.to_csv('submission (SVR Scaled RMSE CV 0.563, RMSE Train 0.4135).csv', index=False)"
      ],
      "metadata": {
        "id": "ocW6kHmlmbTm"
      },
      "execution_count": null,
      "outputs": []
    },
    {
      "cell_type": "markdown",
      "source": [
        "#### <h2> Saving Model </h2> ####"
      ],
      "metadata": {
        "id": "drpI7DijmbTn"
      }
    },
    {
      "cell_type": "code",
      "source": [
        "pickle.dump(cb2, open('20231115-1808-SVR-Scaled.pkl', 'wb'))"
      ],
      "metadata": {
        "id": "Xki8mCj_mbTn"
      },
      "execution_count": null,
      "outputs": []
    },
    {
      "cell_type": "markdown",
      "source": [
        "## <h2> StackCV (FAILED) </h2> ##"
      ],
      "metadata": {
        "id": "uLzFi-VZPMLD"
      }
    },
    {
      "cell_type": "markdown",
      "source": [
        "### <h2> Preparing Base Learners </h2> ###"
      ],
      "metadata": {
        "id": "6cZUwmIYjjuU"
      }
    },
    {
      "cell_type": "code",
      "source": [
        "url = 'https://github.com/JeftaAdriel/DataComp-PekanRistek23/raw/main/Model/20231116-0112-LGBM.pkl'\n",
        "response = requests.get(url)\n",
        "lgb = pickle.loads(response.content)\n",
        "\n",
        "url = 'https://github.com/JeftaAdriel/DataComp-PekanRistek23/raw/main/Model/20231115-2330-CB-Nonscaled.pkl'\n",
        "response = requests.get(url)\n",
        "cb = pickle.loads(response.content)\n",
        "\n",
        "url = 'https://github.com/JeftaAdriel/DataComp-PekanRistek23/raw/main/Model/20231116-0410-SVR-Scaled.pkl'\n",
        "response = requests.get(url)\n",
        "svr = pickle.loads(response.content)"
      ],
      "metadata": {
        "id": "vYsG9BDDjnoX"
      },
      "execution_count": null,
      "outputs": []
    },
    {
      "cell_type": "code",
      "source": [
        "print(lgb)"
      ],
      "metadata": {
        "colab": {
          "base_uri": "https://localhost:8080/"
        },
        "id": "xBRWLqM_meJD",
        "outputId": "f309681e-4bff-4a82-87ae-f8ced7f938bf"
      },
      "execution_count": null,
      "outputs": [
        {
          "output_type": "stream",
          "name": "stdout",
          "text": [
            "LGBMRegressor(bagging_freq=1, colsample_bytree=0.7497729483767315,\n",
            "              lambda_l1=0.14198433814166272, lambda_l2=0.1392045128848738,\n",
            "              learning_rate=0.055183554718213325, metric='rmse',\n",
            "              min_gain_to_split=0.10626277561299022, objective='regression',\n",
            "              random_state=123, subsample=0.8924759493436066, verbosity=-1)\n"
          ]
        }
      ]
    },
    {
      "cell_type": "code",
      "source": [
        "print(cb.get_params())"
      ],
      "metadata": {
        "colab": {
          "base_uri": "https://localhost:8080/"
        },
        "id": "pLh848bXnT_a",
        "outputId": "103fa497-562f-4ba2-8301-a612e8d2f74c"
      },
      "execution_count": null,
      "outputs": [
        {
          "output_type": "stream",
          "name": "stdout",
          "text": [
            "{'iterations': 2908, 'learning_rate': 0.03068522628358176, 'l2_leaf_reg': 0.389483153972757, 'loss_function': 'RMSE', 'silent': True, 'random_strength': 0.09878367703443648, 'subsample': 0.8303315831003546, 'colsample_bylevel': 0.8143103169004386, 'random_state': 123}\n"
          ]
        }
      ]
    },
    {
      "cell_type": "code",
      "source": [
        "print(svr.get_params)"
      ],
      "metadata": {
        "colab": {
          "base_uri": "https://localhost:8080/"
        },
        "id": "_kbXC5PCnjZe",
        "outputId": "77a8a7b8-6eef-45b1-e536-0e581acfbc34"
      },
      "execution_count": null,
      "outputs": [
        {
          "output_type": "stream",
          "name": "stdout",
          "text": [
            "<bound method BaseEstimator.get_params of SVR(C=8.0, epsilon=0.23, gamma=0.1)>\n"
          ]
        }
      ]
    },
    {
      "cell_type": "code",
      "source": [
        "X_train_nonscaled = df_train.drop(columns=['price_mean'], axis=1)\n",
        "y_train_nonscaled = df_train[['price_mean']]\n",
        "X_test_nonscaled = df_test.copy()"
      ],
      "metadata": {
        "id": "miQuU9cwntkc"
      },
      "execution_count": null,
      "outputs": []
    },
    {
      "cell_type": "markdown",
      "source": [
        "### <h2> Error Correlation </h2> ###"
      ],
      "metadata": {
        "id": "D6vGX5-CuERs"
      }
    },
    {
      "cell_type": "code",
      "source": [
        "train_preds_lgb = lgb.predict(X_train_nonscaled)\n",
        "train_rmse_lgb = np.sqrt(mse(y_train_nonscaled, train_preds_lgb))\n",
        "\n",
        "train_preds_cb = cb.predict(X_train_nonscaled)\n",
        "train_rmse_cb = np.sqrt(mse(y_train_nonscaled, train_preds_cb))\n",
        "\n",
        "train_preds_svr = svr.predict(X_train)\n",
        "train_rmse_svr = np.sqrt(mse(y_train, train_preds_svr))\n",
        "\n",
        "residuals_lgb = y_train_nonscaled.values.ravel() - train_preds_lgb\n",
        "residuals_cb = y_train_nonscaled.values.ravel() - train_preds_cb\n",
        "residuals_svr = y_train - train_preds_svr\n",
        "\n",
        "correlation = np.corrcoef([residuals_lgb, residuals_cb, residuals_svr])\n",
        "print(correlation)"
      ],
      "metadata": {
        "id": "XM3GpOptmcBu",
        "colab": {
          "base_uri": "https://localhost:8080/"
        },
        "outputId": "99604af7-75c9-4210-cba7-36304f1d0781"
      },
      "execution_count": null,
      "outputs": [
        {
          "output_type": "stream",
          "name": "stdout",
          "text": [
            "[[1.         0.70853826 0.32074603]\n",
            " [0.70853826 1.         0.25679655]\n",
            " [0.32074603 0.25679655 1.        ]]\n"
          ]
        }
      ]
    },
    {
      "cell_type": "markdown",
      "source": [
        "The idea is to get the base learners that the error correlation is low, so because LightGBM and CatBoost error correlation is quite high (0.7), and we know that CatBoost > LightGBM in this case, then we don't use LightGBM, instead only use CatBoost and SVR"
      ],
      "metadata": {
        "id": "V7b1Xu214ofx"
      }
    },
    {
      "cell_type": "markdown",
      "source": [
        "### <h2> Modelling </h2> ###"
      ],
      "metadata": {
        "id": "6bETGCaqhw7Z"
      }
    },
    {
      "cell_type": "code",
      "source": [
        "# Define the columns to be scaled\n",
        "cols_to_scale = df_train.drop(columns=['price_mean', 'hour', 'type', 'hour_sin', 'hour_cos',\n",
        "                                    'dm_sin', 'dm_cos', 'dw_sin', 'dw_cos', 'dw', 'dm',\n",
        "                                    'weather_conditions_cloudy', 'weather_conditions_rainy',\n",
        "                                    'weather_conditions_unknown', 'clouds', 'rain', 'humidity'], axis=1).columns.tolist()\n",
        "cols_to_exclude = ['hour', 'type', 'hour_sin', 'hour_cos', 'dm_sin', 'dm_cos', 'dw_sin', 'dw_cos', 'dw', 'dm',\n",
        "                   'weather_conditions_cloudy', 'weather_conditions_rainy', 'weather_conditions_unknown',\n",
        "                   'clouds', 'rain', 'humidity']\n",
        "\n",
        "class ArrayToDataFrame(BaseEstimator, TransformerMixin):\n",
        "    def __init__(self, columns):\n",
        "        self.columns = columns\n",
        "\n",
        "    def fit(self, X, y=None):\n",
        "        return self\n",
        "\n",
        "    def transform(self, X):\n",
        "        return pd.DataFrame(X, columns=self.columns)\n",
        "\n",
        "# Create a preprocessor\n",
        "ct = ColumnTransformer([\n",
        "         ('pass', 'passthrough', cols_to_exclude),\n",
        "         ('robust_scaler', RobustScaler(), cols_to_scale)\n",
        "                      ]).set_output(transform='pandas')\n",
        "\n",
        "# Create pipelines\n",
        "pipeline_svr = make_pipeline(ArrayToDataFrame(X_train_nonscaled.columns), ct, svr)\n",
        "pipeline_cb = make_pipeline(cb)\n",
        "\n",
        "# Use pipelines in StackingCVRegressor\n",
        "stackcv = StackingCVRegressor(regressors=(pipeline_cb, pipeline_svr),\n",
        "                              meta_regressor = pipeline_cb,\n",
        "                              use_features_in_secondary = True)\n",
        "\n",
        "# Now you can fit and predict using the same X_train and X_test\n",
        "stackcv.fit(X_train_nonscaled, y_train_nonscaled.values.ravel())\n",
        "train_preds_stackcv = stackcv.predict(X_train_nonscaled)\n",
        "train_rmse_stackcv = np.sqrt(mse(y_train_nonscaled, train_preds_stackcv))\n",
        "\n",
        "print(f\"Train RMSE: {train_rmse_stackcv}\")\n",
        "\n",
        "test_preds_stackcv = stackcv.predict(X_test_nonscaled)"
      ],
      "metadata": {
        "colab": {
          "base_uri": "https://localhost:8080/"
        },
        "id": "966ze5N5hzv4",
        "outputId": "a3b40d4c-4d84-48bc-945b-1315fbf38965"
      },
      "execution_count": null,
      "outputs": [
        {
          "output_type": "stream",
          "name": "stdout",
          "text": [
            "Train RMSE: 0.3821405418291584\n"
          ]
        }
      ]
    },
    {
      "cell_type": "code",
      "source": [
        "index = np.arange(0, 11040)\n",
        "\n",
        "df_submission = pd.DataFrame({'index': index, 'price_mean': test_preds_stackcv})\n",
        "\n",
        "df_submission.to_csv('submission (StackCV 2 Model).csv', index=False)"
      ],
      "metadata": {
        "id": "SFWh_puf57IB"
      },
      "execution_count": null,
      "outputs": []
    },
    {
      "cell_type": "markdown",
      "source": [
        "## <h2> GEM (FAILED) </h2> ##"
      ],
      "metadata": {
        "id": "kolLxElG9-JM"
      }
    },
    {
      "cell_type": "markdown",
      "source": [
        "This part is essentially trying to replicate this code but still failed\n",
        "\n",
        "https://github.com/mohsenshahhosseini/GEM-ITH-Ensemble/blob/main/Fish_code.py"
      ],
      "metadata": {
        "id": "Kyv2IIWu5E1h"
      }
    },
    {
      "cell_type": "code",
      "source": [
        "# Part 1: Calculating RMSE and Prediction\n",
        "\n",
        "kf = KFold(n_splits=30, shuffle=True, random_state=123)\n",
        "\n",
        "# LightGBM\n",
        "lgb_GEM_df = pd.DataFrame()\n",
        "for train_index, test_index in kf.split(X_train, y_train):\n",
        "  lgb_optuna_gbdt.fit(np.array(X_train)[train_index], np.array(y_train)[train_index])\n",
        "  lgb_GEM_df = pd.concat([lgb_GEM_df, pd.DataFrame(lgb_optuna_gbdt.predict(np.array(X_train)[test_index]))])\n",
        "lgb_optuna_gbdt.fit(X_train, y_train)\n",
        "lgb_GEM_rmse = np.sqrt(mse(y_train, lgb_GEM_df))\n",
        "print(f\"RMSE Train LightGBM: {lgb_GEM_rmse}\")\n",
        "lgb_GEM_predict = lgb_optuna_gbdt.predict(X_test)\n",
        "\n",
        "# HistGradientBoostingRegressor\n",
        "hgbr_GEM_df = pd.DataFrame()\n",
        "for train_index, test_index in kf.split(X_train, y_train):\n",
        "  hgbr.fit(np.array(X_train)[train_index], np.array(y_train)[train_index])\n",
        "  hgbr_GEM_df = pd.concat([hgbr_GEM_df, pd.DataFrame(hgbr.predict(np.array(X_train)[test_index]))])\n",
        "hgbr.fit(X_train, y_train)\n",
        "hgbr_GEM_rmse = np.sqrt(mse(y_train, hgbr_GEM_df))\n",
        "print(f\"RMSE Train HistGradientBoostingRegressor: {hgbr_GEM_rmse}\")\n",
        "hgbr_GEM_predict = hgbr.predict(X_test)\n",
        "\n",
        "# XGBoost\n",
        "xgb_GEM_df = pd.DataFrame()\n",
        "for train_index, test_index in kf.split(X_train, y_train):\n",
        "  xgb_optuna.fit(np.array(X_train)[train_index], np.array(y_train)[train_index])\n",
        "  xgb_GEM_df = pd.concat([xgb_GEM_df, pd.DataFrame(xgb_optuna.predict(np.array(X_train)[test_index]))])\n",
        "xgb_optuna.fit(X_train, y_train)\n",
        "xgb_GEM_rmse = np.sqrt(mse(y_train, xgb_GEM_df))\n",
        "print(f\"RMSE Train XGBoost: {xgb_GEM_rmse}\")\n",
        "xgb_GEM_predict = xgb_optuna.predict(X_test)\n",
        "\n",
        "# StackCV\n",
        "stackcv = StackingCVRegressor(regressors=(xgb_optuna, hgbr, lgb_optuna_gbdt),\n",
        "                              meta_regressor = lgb_optuna_gbdt,\n",
        "                              use_features_in_secondary = True)\n"
      ],
      "metadata": {
        "id": "U07_cY8Z1VkA"
      },
      "execution_count": null,
      "outputs": []
    },
    {
      "cell_type": "code",
      "source": [
        "# 3 model\n",
        "\n",
        "def objective_GEM(y):\n",
        "  return np.sqrt(mse(y_train, (y[0] * lgb_GEM_df +\n",
        "                       y[1] * hgbr_GEM_df +\n",
        "                       y[2] * xgb_GEM_df)))\n",
        "\n",
        "def constraint_GEM_1(y):\n",
        "  return y[0] + y[1] + y[2] - 1.0\n",
        "\n",
        "def constraint_GEM_2(y):\n",
        "  return lgb_GEM_rmse - objective_GEM(y)\n",
        "\n",
        "def constraint_GEM_3(y):\n",
        "  return hgbr_GEM_rmse - objective_GEM(y)\n",
        "\n",
        "def constraint_GEM_4(y):\n",
        "  return xgb_GEM_rmse - objective_GEM(y)\n",
        "\n",
        "y0 = np.zeros(3)\n",
        "y0[0] = 1 / 3\n",
        "y0[1] = 1 / 3\n",
        "y0[2] = 1 / 3\n",
        "\n",
        "b = (0, 1.0)\n",
        "bnds = (b, b, b)\n",
        "cons_GEM_1 = {'type': 'eq', 'fun': constraint_GEM_1}\n",
        "cons_GEM_2 = {'type': 'ineq', 'fun': constraint_GEM_2}\n",
        "cons_GEM_3 = {'type': 'ineq', 'fun': constraint_GEM_3}\n",
        "cons_GEM_4 = {'type': 'ineq', 'fun': constraint_GEM_4}\n",
        "cons_all = [cons_GEM_1, cons_GEM_2, cons_GEM_3, cons_GEM_4]\n",
        "\n",
        "solution_GEM = minimize(objective_GEM, y0, method='SLSQP',\n",
        "                         options={'disp': True, 'maxiter': 3000, 'eps': 1e-4}, bounds=bnds,\n",
        "                         constraints=cons_all)\n",
        "y = solution_GEM.x\n",
        "\n",
        "# Aggregating base models' predictions on the test set using the weights found via optimization (GEM ensemble predictions)\n",
        "GEM_preds_test = y[0] * lgb_GEM_predict + y[1] * hgbr_GEM_predict + y[2] * xgb_GEM_predict\n",
        "GEM_preds_train = y[0] * train_preds_lgb + y[1] * train_preds_hgbr + y[2] * train_preds_xgb\n",
        "\n",
        "train_rmse_GEM = np.sqrt(mse(y_train, GEM_preds_train))\n",
        "print(f\"RMSE Train GEM: {train_rmse_GEM}\")"
      ],
      "metadata": {
        "id": "6EpoErZt-Bly"
      },
      "execution_count": null,
      "outputs": []
    },
    {
      "cell_type": "markdown",
      "source": [
        "# <h1> Part 5: Submission and Saving Model </h1> #"
      ],
      "metadata": {
        "id": "ATrkOhlV2nSn"
      }
    },
    {
      "cell_type": "markdown",
      "source": [
        "## <h2> Predictions </h2> ##"
      ],
      "metadata": {
        "id": "nPI6dapOerVG"
      }
    },
    {
      "cell_type": "code",
      "source": [
        "submission = cb2.predict(X_test_nonscaled)\n",
        "\n",
        "index = np.arange(0, 11040)\n",
        "\n",
        "df_submission = pd.DataFrame({'index': index, 'price_mean': submission})\n",
        "\n",
        "df_submission.to_csv('submission (CB Nonscaled 1000 Iterations Distance Mean Category not by variance RMSE CV 0.5663, RMSE Train 0.43026).csv', index=False)"
      ],
      "metadata": {
        "id": "C_L7JlbR2nSn"
      },
      "execution_count": null,
      "outputs": []
    },
    {
      "cell_type": "markdown",
      "source": [
        "## <h2> Model </h2> ##"
      ],
      "metadata": {
        "id": "iI84-yBP2nSo"
      }
    },
    {
      "cell_type": "code",
      "source": [
        "pickle.dump(cb2, open('model_Statset.pkl', 'wb'))"
      ],
      "metadata": {
        "id": "i_Ly-wh39liz"
      },
      "execution_count": null,
      "outputs": []
    },
    {
      "cell_type": "markdown",
      "source": [
        "## <h2> Train and Test </h2> ##"
      ],
      "metadata": {
        "id": "obEek7u7e454"
      }
    },
    {
      "cell_type": "code",
      "source": [
        "df_train.to_csv('train_Statset.csv')\n",
        "df_test.to_csv('test_Statset.csv')"
      ],
      "metadata": {
        "id": "qtdv__87e62K"
      },
      "execution_count": null,
      "outputs": []
    },
    {
      "cell_type": "code",
      "source": [],
      "metadata": {
        "id": "T6tpDjwsgZxW"
      },
      "execution_count": null,
      "outputs": []
    }
  ]
}